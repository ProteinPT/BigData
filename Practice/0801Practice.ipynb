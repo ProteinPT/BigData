{
 "cells": [
  {
   "cell_type": "code",
   "execution_count": 1,
   "id": "30947303",
   "metadata": {},
   "outputs": [],
   "source": [
    "#명시적 형변환\n",
    "I1='3.14'"
   ]
  },
  {
   "cell_type": "code",
   "execution_count": 3,
   "id": "703bdc69",
   "metadata": {},
   "outputs": [
    {
     "name": "stdout",
     "output_type": "stream",
     "text": [
      "<class 'str'>\n"
     ]
    }
   ],
   "source": [
    "print(type(I1))"
   ]
  },
  {
   "cell_type": "code",
   "execution_count": 7,
   "id": "f2c181d4",
   "metadata": {},
   "outputs": [],
   "source": [
    "I1=float(I1)"
   ]
  },
  {
   "cell_type": "code",
   "execution_count": 8,
   "id": "9b06a206",
   "metadata": {},
   "outputs": [
    {
     "name": "stdout",
     "output_type": "stream",
     "text": [
      "3.14\n"
     ]
    }
   ],
   "source": [
    "print(I1)"
   ]
  },
  {
   "cell_type": "code",
   "execution_count": 9,
   "id": "7eafe847",
   "metadata": {},
   "outputs": [
    {
     "name": "stdout",
     "output_type": "stream",
     "text": [
      "<class 'float'>\n"
     ]
    }
   ],
   "source": [
    "print(type(I1))"
   ]
  },
  {
   "cell_type": "code",
   "execution_count": 10,
   "id": "f7ade69e",
   "metadata": {},
   "outputs": [
    {
     "name": "stdout",
     "output_type": "stream",
     "text": [
      "<class 'int'>\n"
     ]
    }
   ],
   "source": [
    "A1=2\n",
    "print(type(A1))"
   ]
  },
  {
   "cell_type": "code",
   "execution_count": 17,
   "id": "9a335e0f",
   "metadata": {},
   "outputs": [
    {
     "name": "stdout",
     "output_type": "stream",
     "text": [
      "<class 'float'>\n",
      "6.28\n"
     ]
    }
   ],
   "source": [
    "#묵시적 형변환\n",
    "A2= A1*3.14\n",
    "print(type(A2))\n",
    "print(A2)"
   ]
  },
  {
   "cell_type": "markdown",
   "id": "89452d06",
   "metadata": {},
   "source": [
    "## split 함수"
   ]
  },
  {
   "cell_type": "code",
   "execution_count": 16,
   "id": "70bb650e",
   "metadata": {},
   "outputs": [],
   "source": [
    "Str_split='Hello-Python-World'.split('-')"
   ]
  },
  {
   "cell_type": "code",
   "execution_count": 15,
   "id": "6974abf2",
   "metadata": {},
   "outputs": [
    {
     "name": "stdout",
     "output_type": "stream",
     "text": [
      "['Hello', 'Python', 'World']\n"
     ]
    }
   ],
   "source": [
    "print(Str_split)"
   ]
  },
  {
   "cell_type": "markdown",
   "id": "70e65610",
   "metadata": {},
   "source": [
    "## strip 함수"
   ]
  },
  {
   "cell_type": "code",
   "execution_count": 27,
   "id": "b9faa639",
   "metadata": {},
   "outputs": [
    {
     "name": "stdout",
     "output_type": "stream",
     "text": [
      "\n",
      " 하늘을 나는 새야 \n",
      " 으악새 읭 \t 이건뭐야 \t\n"
     ]
    },
    {
     "data": {
      "text/plain": [
       "'하늘을 나는 새야 \\n 으악새 읭 \\t 이건뭐야'"
      ]
     },
     "execution_count": 27,
     "metadata": {},
     "output_type": "execute_result"
    }
   ],
   "source": [
    "# \\n은 줄바꾸기 , \\t 는 탭키와 동일한 기능\n",
    "text='\\n 하늘을 나는 새야 \\n 으악새 읭 \\t 이건뭐야 \\t'\n",
    "print(text)\n",
    "text.strip()"
   ]
  },
  {
   "cell_type": "markdown",
   "id": "02ff8db8",
   "metadata": {},
   "source": [
    "## replace 함수"
   ]
  },
  {
   "cell_type": "code",
   "execution_count": 28,
   "id": "3e54a080",
   "metadata": {},
   "outputs": [
    {
     "data": {
      "text/plain": [
       "'1996.11.21'"
      ]
     },
     "execution_count": 28,
     "metadata": {},
     "output_type": "execute_result"
    }
   ],
   "source": [
    "생년월일='1996-11-21'\n",
    "생년월일.replace('-','.')"
   ]
  },
  {
   "cell_type": "code",
   "execution_count": 32,
   "id": "56797a00",
   "metadata": {},
   "outputs": [
    {
     "data": {
      "text/plain": [
       "True"
      ]
     },
     "execution_count": 32,
     "metadata": {},
     "output_type": "execute_result"
    }
   ],
   "source": [
    "'hello-python-world'.startswith('hello')"
   ]
  },
  {
   "cell_type": "code",
   "execution_count": 33,
   "id": "ac9ed67d",
   "metadata": {},
   "outputs": [
    {
     "data": {
      "text/plain": [
       "False"
      ]
     },
     "execution_count": 33,
     "metadata": {},
     "output_type": "execute_result"
    }
   ],
   "source": [
    "'hello-python-world'.startswith('Hello')"
   ]
  },
  {
   "cell_type": "code",
   "execution_count": 35,
   "id": "014e2f28",
   "metadata": {},
   "outputs": [
    {
     "data": {
      "text/plain": [
       "True"
      ]
     },
     "execution_count": 35,
     "metadata": {},
     "output_type": "execute_result"
    }
   ],
   "source": [
    "'hello-python-world'.endswith('world')"
   ]
  },
  {
   "cell_type": "code",
   "execution_count": 37,
   "id": "630006f9",
   "metadata": {},
   "outputs": [
    {
     "data": {
      "text/plain": [
       "2"
      ]
     },
     "execution_count": 37,
     "metadata": {},
     "output_type": "execute_result"
    }
   ],
   "source": [
    "text='my name is jaeyeong jang'\n",
    "text.count('j')"
   ]
  },
  {
   "cell_type": "code",
   "execution_count": 38,
   "id": "7bc8ffa6",
   "metadata": {},
   "outputs": [
    {
     "data": {
      "text/plain": [
       "8"
      ]
     },
     "execution_count": 38,
     "metadata": {},
     "output_type": "execute_result"
    }
   ],
   "source": [
    "text.find('i')"
   ]
  },
  {
   "cell_type": "code",
   "execution_count": 40,
   "id": "6ccf2b2d",
   "metadata": {},
   "outputs": [
    {
     "data": {
      "text/plain": [
       "4"
      ]
     },
     "execution_count": 40,
     "metadata": {},
     "output_type": "execute_result"
    }
   ],
   "source": [
    "text1='hello python world'\n",
    "text1.index('o')"
   ]
  },
  {
   "cell_type": "code",
   "execution_count": 45,
   "id": "9acdd2e7",
   "metadata": {},
   "outputs": [
    {
     "data": {
      "text/plain": [
       "14"
      ]
     },
     "execution_count": 45,
     "metadata": {},
     "output_type": "execute_result"
    }
   ],
   "source": [
    "text1.index('o',11)"
   ]
  },
  {
   "cell_type": "code",
   "execution_count": 47,
   "id": "53ddf200",
   "metadata": {},
   "outputs": [
    {
     "data": {
      "text/plain": [
       "4"
      ]
     },
     "execution_count": 47,
     "metadata": {},
     "output_type": "execute_result"
    }
   ],
   "source": [
    "text1.find('o')"
   ]
  },
  {
   "cell_type": "code",
   "execution_count": 50,
   "id": "12a7222b",
   "metadata": {},
   "outputs": [
    {
     "data": {
      "text/plain": [
       "6"
      ]
     },
     "execution_count": 50,
     "metadata": {},
     "output_type": "execute_result"
    }
   ],
   "source": [
    "text1.find('python')"
   ]
  },
  {
   "cell_type": "code",
   "execution_count": 53,
   "id": "9c3d9339",
   "metadata": {},
   "outputs": [
    {
     "data": {
      "text/plain": [
       "6"
      ]
     },
     "execution_count": 53,
     "metadata": {},
     "output_type": "execute_result"
    }
   ],
   "source": [
    "text1.find('python',2)"
   ]
  },
  {
   "cell_type": "code",
   "execution_count": 54,
   "id": "eec5002e",
   "metadata": {},
   "outputs": [
    {
     "data": {
      "text/plain": [
       "'Hello python world'"
      ]
     },
     "execution_count": 54,
     "metadata": {},
     "output_type": "execute_result"
    }
   ],
   "source": [
    "text1.capitalize()"
   ]
  },
  {
   "cell_type": "code",
   "execution_count": 56,
   "id": "f3d22bfc",
   "metadata": {},
   "outputs": [
    {
     "data": {
      "text/plain": [
       "'HELLO PYTHON WORLD'"
      ]
     },
     "execution_count": 56,
     "metadata": {},
     "output_type": "execute_result"
    }
   ],
   "source": [
    "text1.upper()"
   ]
  },
  {
   "cell_type": "code",
   "execution_count": 58,
   "id": "2f118ff0",
   "metadata": {},
   "outputs": [
    {
     "data": {
      "text/plain": [
       "'hello python world'"
      ]
     },
     "execution_count": 58,
     "metadata": {},
     "output_type": "execute_result"
    }
   ],
   "source": [
    "text1.lower()"
   ]
  },
  {
   "cell_type": "code",
   "execution_count": 61,
   "id": "750f259a",
   "metadata": {},
   "outputs": [
    {
     "data": {
      "text/plain": [
       "True"
      ]
     },
     "execution_count": 61,
     "metadata": {},
     "output_type": "execute_result"
    }
   ],
   "source": [
    "'hello' in text1"
   ]
  },
  {
   "cell_type": "code",
   "execution_count": 63,
   "id": "21b25320",
   "metadata": {},
   "outputs": [
    {
     "data": {
      "text/plain": [
       "True"
      ]
     },
     "execution_count": 63,
     "metadata": {},
     "output_type": "execute_result"
    }
   ],
   "source": [
    "'jaeyeong' in text"
   ]
  },
  {
   "cell_type": "code",
   "execution_count": 68,
   "id": "7015d91e",
   "metadata": {},
   "outputs": [
    {
     "data": {
      "text/plain": [
       "[94, 73, 95, 100, 92, 104, 81, 94]"
      ]
     },
     "execution_count": 68,
     "metadata": {},
     "output_type": "execute_result"
    }
   ],
   "source": [
    "scores=[89,68,90,100,87,99,76,89]\n",
    "scores1=[s+5 if s <100 else s for s in scores]\n",
    "scores1"
   ]
  },
  {
   "cell_type": "code",
   "execution_count": 70,
   "id": "a8ff584a",
   "metadata": {},
   "outputs": [
    {
     "data": {
      "text/plain": [
       "[1, 2, 3, 4, 5, 6, 7, 8, 9, 10]"
      ]
     },
     "execution_count": 70,
     "metadata": {},
     "output_type": "execute_result"
    }
   ],
   "source": [
    "list1=list(range(1,11))\n",
    "list1"
   ]
  },
  {
   "cell_type": "code",
   "execution_count": 72,
   "id": "d515bb58",
   "metadata": {},
   "outputs": [
    {
     "data": {
      "text/plain": [
       "[1, 9, 25, 49, 81]"
      ]
     },
     "execution_count": 72,
     "metadata": {},
     "output_type": "execute_result"
    }
   ],
   "source": [
    "list2=[e**2 for e in list1 if e%2==1]\n",
    "list2"
   ]
  },
  {
   "cell_type": "code",
   "execution_count": 74,
   "id": "caea6648",
   "metadata": {},
   "outputs": [],
   "source": [
    "from urllib.request import urlopen"
   ]
  },
  {
   "cell_type": "code",
   "execution_count": 75,
   "id": "ae9774ed",
   "metadata": {},
   "outputs": [
    {
     "data": {
      "text/plain": [
       "http.client.HTTPResponse"
      ]
     },
     "execution_count": 75,
     "metadata": {},
     "output_type": "execute_result"
    }
   ],
   "source": [
    "f= urlopen('http://hanbit.co.kr')\n",
    "type(f)"
   ]
  },
  {
   "cell_type": "code",
   "execution_count": 76,
   "id": "a1e9cb90",
   "metadata": {},
   "outputs": [
    {
     "data": {
      "text/plain": [
       "b'<!DOCTYPE html>\\r\\n<html lang=\"ko\">\\r\\n<head>\\r\\n<!--[if lte IE 8]>\\r\\n<script>\\r\\n  location.replace(\\'/support/explorer_upgrade.html\\');\\r\\n</script>\\r\\n<![endif]-->\\r\\n<meta charset=\"utf-8\"/>\\r\\n<title>\\xed\\x95\\x9c\\xeb\\xb9\\x9b\\xec\\xb6\\x9c\\xed\\x8c\\x90\\xeb\\x84\\xa4\\xed\\x8a\\xb8\\xec\\x9b\\x8c\\xed\\x81\\xac</title>\\r\\n<link rel=\"shortcut icon\" href=\"https://www.hanbit.co.kr/images/common/hanbit.ico\"> \\r\\n<meta http-equiv=\"X-UA-Compatible\" content=\"IE=Edge\" />\\r\\n<meta property=\"og:type\" content=\"website\"/>\\r\\n<meta property=\"og:title\" content=\"\\xed\\x95\\x9c\\xeb\\xb9\\x9b\\xec\\xb6\\x9c\\xed\\x8c\\x90\\xeb\\x84\\xa4\\xed\\x8a\\xb8\\xec\\x9b\\x8c\\xed\\x81\\xac\"/>\\r\\n<meta property=\"og:description\" content=\"\\xeb\\x8d\\x94 \\xeb\\x84\\x93\\xec\\x9d\\x80 \\xec\\x84\\xb8\\xec\\x83\\x81, \\xeb\\x8d\\x94 \\xeb\\x82\\x98\\xec\\x9d\\x80 \\xeb\\xaf\\xb8\\xeb\\x9e\\x98\\xeb\\xa5\\xbc \\xec\\x9c\\x84\\xed\\x95\\x9c \\xec\\x95\\x84\\xec\\x8b\\x9c\\xec\\x95\\x84 \\xec\\xb6\\x9c\\xed\\x8c\\x90 \\xeb\\x84\\xa4\\xed\\x8a\\xb8\\xec\\x9b\\x8c\\xed\\x81\\xac :: \\xed\\x95\\x9c\\xeb\\xb9\\x9b\\xeb\\xaf\\xb8\\xeb\\x94\\x94\\xec\\x96\\xb4, \\xed\\x95\\x9c\\xeb\\xb9\\x9b\\xec\\x95\\x84\\xec\\xb9\\xb4\\xeb\\x8d\\xb0\\xeb\\xaf\\xb8, \\xed\\x95\\x9c\\xeb\\xb9\\x9b\\xeb\\xb9\\x84\\xec\\xa6\\x88, \\xed\\x95\\x9c\\xeb\\xb9\\x9b\\xeb\\x9d\\xbc\\xec\\x9d\\xb4\\xed\\x94\\x84, \\xed\\x95\\x9c\\xeb\\xb9\\x9b\\xec\\x97\\x90\\xeb\\x93\\x80\"/>\\r\\n<meta property=\"og:image\" content=\"https://www.hanbit.co.kr/images/hanbitpubnet_logo.jpg\" />\\r\\n<meta property=\"og:url\" content=\"https://hanbit.co.kr/\"/>\\r\\n<link rel=\"canonical\" href=\"https://hanbit.co.kr/\" />\\r\\n<meta name=\"keywords\" content=\"\\xed\\x95\\x9c\\xeb\\xb9\\x9b\\xeb\\xaf\\xb8\\xeb\\x94\\x94\\xec\\x96\\xb4,\\xed\\x95\\x9c\\xeb\\xb9\\x9b\\xec\\x95\\x84\\xec\\xb9\\xb4\\xeb\\x8d\\xb0\\xeb\\xaf\\xb8,\\xed\\x95\\x9c\\xeb\\xb9\\x9b\\xeb\\xb9\\x84\\xec\\xa6\\x88,\\xed\\x95\\x9c\\xeb\\xb9\\x9b\\xeb\\x9d\\xbc\\xec\\x9d\\xb4\\xed\\x94\\x84,\\xed\\x95\\x9c\\xeb\\xb9\\x9b\\xec\\x97\\x90\\xeb\\x93\\x80,\\xeb\\xa6\\xac\\xec\\x96\\xbc\\xed\\x83\\x80\\xec\\x9e\\x84,\\xeb\\x8c\\x80\\xea\\xb4\\x80\\xec\\x84\\x9c\\xeb\\xb9\\x84\\xec\\x8a\\xa4,\\xec\\xb1\\x85,\\xec\\xb6\\x9c\\xed\\x8c\\x90\\xec\\x82\\xac,IT\\xec\\xa0\\x84\\xeb\\xac\\xb8\\xec\\x84\\x9c,IT\\xed\\x99\\x9c\\xec\\x9a\\xa9\\xec\\x84\\x9c,\\xeb\\x8c\\x80\\xed\\x95\\x99\\xea\\xb5\\x90\\xec\\x9e\\xac,\\xea\\xb2\\xbd\\xec\\xa0\\x9c\\xea\\xb2\\xbd\\xec\\x98\\x81,\\xec\\x96\\xb4\\xeb\\xa6\\xb0\\xec\\x9d\\xb4/\\xec\\x9c\\xa0\\xec\\x95\\x84,\\xec\\x8b\\xa4\\xec\\x9a\\xa9/\\xec\\x97\\xac\\xed\\x96\\x89,\\xec\\xa0\\x84\\xec\\x9e\\x90\\xec\\xb1\\x85,\\xec\\x9e\\x90\\xea\\xb2\\xa9\\xec\\xa6\\x9d,\\xea\\xb5\\x90\\xec\\x9c\\xa1,\\xec\\x84\\xb8\\xeb\\xaf\\xb8\\xeb\\x82\\x98,\\xea\\xb0\\x95\\xec\\x9d\\x98,ebook,\\xec\\xa0\\x95\\xeb\\xb3\\xb4\\xea\\xb5\\x90\\xea\\xb3\\xbc\\xec\\x84\\x9c\" />\\r\\n<meta name=\"description\" content=\"\\xeb\\x8d\\x94 \\xeb\\x84\\x93\\xec\\x9d\\x80 \\xec\\x84\\xb8\\xec\\x83\\x81, \\xeb\\x8d\\x94 \\xeb\\x82\\x98\\xec\\x9d\\x80 \\xeb\\xaf\\xb8\\xeb\\x9e\\x98\\xeb\\xa5\\xbc \\xec\\x9c\\x84\\xed\\x95\\x9c \\xec\\x95\\x84\\xec\\x8b\\x9c\\xec\\x95\\x84 \\xec\\xb6\\x9c\\xed\\x8c\\x90 \\xeb\\x84\\xa4\\xed\\x8a\\xb8\\xec\\x9b\\x8c\\xed\\x81\\xac :: \\xed\\x95\\x9c\\xeb\\xb9\\x9b\\xeb\\xaf\\xb8\\xeb\\x94\\x94\\xec\\x96\\xb4, \\xed\\x95\\x9c\\xeb\\xb9\\x9b\\xec\\x95\\x84\\xec\\xb9\\xb4\\xeb\\x8d\\xb0\\xeb\\xaf\\xb8, \\xed\\x95\\x9c\\xeb\\xb9\\x9b\\xeb\\xb9\\x84\\xec\\xa6\\x88, \\xed\\x95\\x9c\\xeb\\xb9\\x9b\\xeb\\x9d\\xbc\\xec\\x9d\\xb4\\xed\\x94\\x84, \\xed\\x95\\x9c\\xeb\\xb9\\x9b\\xec\\x97\\x90\\xeb\\x93\\x80\" />\\r\\n<meta name=\"viewport\" content=\"width=device-width,initial-scale=1.0,minimum-scale=1.0,maximum-scale=1.0\">\\r\\n<meta name=\"viewport\" content=\"width=1260\">\\r\\n<meta name=\"apple-mobile-web-app-capable\" content=\"yes\" />\\r\\n<meta name=\"naver-site-verification\" content=\"01c29ed1852aecca7a48ac0c3e0869627bc512d8\"/>\\r\\n<link rel=\"stylesheet\" href=\"/css/common.css?20210603093421\" />\\r\\n<link href=\"/css/hover.css\" rel=\"stylesheet\" media=\"all\">\\r\\n<link rel=\"stylesheet\" href=\"/js/jquery.raty.css\" />\\r\\n<script type=\"text/javascript\" src=\"/js/jquery-latest.js\"></script>\\r\\n<script type=\"text/javascript\" src=\"/js/jquery-ui.js\"></script>\\r\\n<script type=\"text/javascript\" src=\"/js/jquery.event.drag-1.5.min.js\"></script>\\r\\n<script type=\"text/javascript\" src=\"/js/jquery.touchSlider.js\"></script>\\r\\n<script type=\"text/javascript\" src=\"/js/jquery.raty.js\"></script>\\r\\n<script type=\"text/javascript\" src=\"/js/main.js\"></script>\\r\\n<script type=\"text/javascript\" src=\"/lib/cheditor/cheditor.js\"></script>\\r\\n<script type=\"text/javascript\" src=\"/js/jquery.ui.datepicker-ko.js\"></script>\\r\\n<script type=\"text/javascript\" src=\"/js/engine.js\"></script>\\r\\n<script type=\"text/javascript\" src=\"/js/vue.js\"></script>\\r\\n\\r\\n<!-- Google Analytics -->\\r\\n<script>\\r\\n(function(i,s,o,g,r,a,m){i[\\'GoogleAnalyticsObject\\']=r;i[r]=i[r]||function(){\\r\\n(i[r].q=i[r].q||[]).push(arguments)},i[r].l=1*new Date();a=s.createElement(o),\\r\\nm=s.getElementsByTagName(o)[0];a.async=1;a.src=g;m.parentNode.insertBefore(a,m)\\r\\n})(window,document,\\'script\\',\\'//www.google-analytics.com/analytics.js\\',\\'ga\\');\\r\\nga(\\'create\\', \\'UA-47080738-1\\', \\'hanbit.co.kr\\');\\r\\nga(\\'require\\', \\'linkid\\', \\'linkid.js\\');\\r\\nga(\\'send\\', \\'pageview\\');\\r\\n</script>\\r\\n<!-- Google Analytics -->\\r\\n\\r\\n<!-- Facebook Pixel Code -->\\r\\n<script>\\r\\n  !function(f,b,e,v,n,t,s)\\r\\n  {if(f.fbq)return;n=f.fbq=function(){n.callMethod?\\r\\n  n.callMethod.apply(n,arguments):n.queue.push(arguments)};\\r\\n  if(!f._fbq)f._fbq=n;n.push=n;n.loaded=!0;n.version=\\'2.0\\';\\r\\n  n.queue=[];t=b.createElement(e);t.async=!0;\\r\\n  t.src=v;s=b.getElementsByTagName(e)[0];\\r\\n  s.parentNode.insertBefore(t,s)}(window, document,\\'script\\',\\r\\n  \\'https://connect.facebook.net/en_US/fbevents.js\\');\\r\\n  fbq(\\'init\\', \\'406459623338891\\');\\r\\n  fbq(\\'track\\', \\'PageView\\');\\r\\n</script>\\r\\n<noscript><img height=\"1\" width=\"1\" style=\"display:none\"\\r\\n  src=\"https://www.facebook.com/tr?id=406459623338891&ev=PageView&noscript=1\"\\r\\n/></noscript>\\r\\n<!-- End Facebook Pixel Code -->\\r\\n\\r\\n<!-- Kakao Pixel Code -->\\r\\n<script type=\"text/javascript\" charset=\"UTF-8\" src=\"//t1.daumcdn.net/adfit/static/kp.js\"></script>\\r\\n<script type=\"text/javascript\">\\r\\n  kakaoPixel(\\'3011392806152551233\\').pageView();\\r\\n</script>\\r\\n<!-- //Kakao Pixel Code -->\\r\\n</head>\\r\\n<body>\\r\\n<!-- Google Tag Manager (noscript) -->\\r\\n<noscript><iframe src=\"https://www.googletagmanager.com/ns.html?id=GTM-W9D5PM3\"\\r\\nheight=\"0\" width=\"0\" style=\"display:none;visibility:hidden\"></iframe></noscript>\\r\\n<!-- End Google Tag Manager (noscript) -->\\r\\n<link rel=\"stylesheet\" href=\"/css/layout-hanbit.css?202107291450\" />\\r\\n<link rel=\"stylesheet\" href=\"/css/layout-member.css\" />\\r\\n<link rel=\"stylesheet\" href=\"/css/layout-network.css\" />\\r\\n<link rel=\"stylesheet\" href=\"/css/layout-store.css\" />\\r\\n<link rel=\"stylesheet\" href=\"/css/layout-myhanbit.css\" />\\r\\n<link rel=\"stylesheet\" href=\"/css/layout-event.css\" />\\r\\n<!-- \\xeb\\xa9\\x94\\xeb\\x89\\xb4 \\xeb\\xb0\\x94\\xeb\\xa1\\x9c\\xea\\xb0\\x80\\xea\\xb8\\xb0 -->\\r\\n<div id=\"quick_skip_menu\">\\r\\n  <a href=\"#gnb\" onclick=\"document.getElementById(\\'gnb\\').tabIndex = -1;document.getElementById(\\'gnb\\').focus();return false;\"><span>\\xeb\\xa9\\x94\\xeb\\x89\\xb4 \\xeb\\xb0\\x94\\xeb\\xa1\\x9c\\xea\\xb0\\x80\\xea\\xb8\\xb0</span></a>\\r\\n  <a href=\"#top_search\" onclick=\"view_hover(\\'main_search_area\\',\\'\\',\\'show\\'), document.getElementById(\\'top_search\\').tabIndex = -1;document.getElementById(\\'top_search\\').focus();return false;\"><span>\\xea\\xb2\\x80\\xec\\x83\\x89 \\xeb\\xb0\\x8f \\xec\\xb9\\xb4\\xed\\x85\\x8c\\xea\\xb3\\xa0\\xeb\\xa6\\xac \\xeb\\xb0\\x94\\xeb\\xa1\\x9c\\xea\\xb0\\x80\\xea\\xb8\\xb0</span></a>\\r\\n    <a href=\"#main_top_box\" onclick=\"document.getElementById(\\'main_top_box\\').tabIndex = -1;document.getElementById(\\'main_top_box\\').focus();return false;\"><span>\\xed\\x94\\x84\\xeb\\xa1\\x9c\\xeb\\xaa\\xa8\\xec\\x85\\x98 \\xeb\\xb0\\x94\\xeb\\xa1\\x9c\\xea\\xb0\\x80\\xea\\xb8\\xb0</span></a>\\r\\n  <a href=\"#main_book_area\" onclick=\"document.getElementById(\\'main_book_area\\').tabIndex = -1;document.getElementById(\\'main_book_area\\').focus();return false;\"><span>\\xec\\xb1\\x85 \\xeb\\xb0\\x94\\xeb\\xa1\\x9c\\xea\\xb0\\x80\\xea\\xb8\\xb0</span></a>\\r\\n  <a href=\"#main_network_area\" onclick=\"document.getElementById(\\'main_network_area\\').tabIndex = -1;document.getElementById(\\'main_network_area\\').focus();return false;\"><span>\\xeb\\x84\\xa4\\xed\\x8a\\xb8\\xec\\x9b\\x8c\\xed\\x81\\xac \\xeb\\xb0\\x94\\xeb\\xa1\\x9c\\xea\\xb0\\x80\\xea\\xb8\\xb0</span></a>\\r\\n  </div>\\r\\n<!-- //\\xeb\\xa9\\x94\\xeb\\x89\\xb4 \\xeb\\xb0\\x94\\xeb\\xa1\\x9c\\xea\\xb0\\x80\\xea\\xb8\\xb0 -->\\r\\n\\r\\n<!-- header -->\\r\\n<header>\\r\\n  <!-- top menu -->\\r\\n    <nav>\\r\\n    <div id=\"wrap_nav\">\\r\\n      <ul class=\"top_brand\">\\r\\n        <li><a href=\"https://www.hanbit.co.kr/index.html\" name=\"hanbit_network\"><span>HOME</span></a></li>\\r\\n        <li><a href=\"https://www.hanbit.co.kr/media/\">\\xed\\x95\\x9c\\xeb\\xb9\\x9b\\xeb\\xaf\\xb8\\xeb\\x94\\x94\\xec\\x96\\xb4</a></li>\\r\\n        <li><a href=\"https://www.hanbit.co.kr/academy/\">\\xed\\x95\\x9c\\xeb\\xb9\\x9b\\xec\\x95\\x84\\xec\\xb9\\xb4\\xeb\\x8d\\xb0\\xeb\\xaf\\xb8</a></li>\\r\\n        <li><a href=\"https://www.hanbit.co.kr/biz/\">\\xed\\x95\\x9c\\xeb\\xb9\\x9b\\xeb\\xb9\\x84\\xec\\xa6\\x88</a></li>\\r\\n        <li><a href=\"https://www.hanbit.co.kr/life/\">\\xed\\x95\\x9c\\xeb\\xb9\\x9b\\xeb\\x9d\\xbc\\xec\\x9d\\xb4\\xed\\x94\\x84</a></li>\\r\\n        <li><a href=\"https://www.hanbit.co.kr/edu/\">\\xed\\x95\\x9c\\xeb\\xb9\\x9b\\xec\\x97\\x90\\xeb\\x93\\x80</a></li>\\r\\n        <li><a href=\"https://www.hanbit.co.kr/realtime/\">\\xeb\\xa6\\xac\\xec\\x96\\xbc\\xed\\x83\\x80\\xec\\x9e\\x84</a></li>\\r\\n        <li><a href=\"https://www.hanbit.co.kr/textbook/\" target=\"_blank\">\\xed\\x95\\x9c\\xeb\\xb9\\x9b\\xec\\xa0\\x95\\xeb\\xb3\\xb4\\xea\\xb5\\x90\\xea\\xb3\\xbc\\xec\\x84\\x9c</a></li>\\r\\n        <li><a href=\"https://www.hanbit.co.kr/rent/\" target=\"_blank\">\\xed\\x95\\x9c\\xeb\\xb9\\x9b\\xeb\\x8c\\x80\\xea\\xb4\\x80\\xec\\x84\\x9c\\xeb\\xb9\\x84\\xec\\x8a\\xa4</a></li>\\r\\n      </ul>\\r\\n      \\r\\n      <ul class=\"top_menu\">\\r\\n                <li><a href=\"https://www.hanbit.co.kr/member/login.html\" class=\"login\">\\xeb\\xa1\\x9c\\xea\\xb7\\xb8\\xec\\x9d\\xb8</a></li>\\r\\n        <li><a href=\"https://www.hanbit.co.kr/member/member_agree.html\" class=\"join\">\\xed\\x9a\\x8c\\xec\\x9b\\x90\\xea\\xb0\\x80\\xec\\x9e\\x85</a></li>\\r\\n        <li><a href=\"https://www.hanbit.co.kr/myhanbit/myhanbit.html\" class=\"myhanbit\">\\xeb\\xa7\\x88\\xec\\x9d\\xb4\\xed\\x95\\x9c\\xeb\\xb9\\x9b</a></li>\\r\\n        <li><a href=\"https://www.hanbit.co.kr/myhanbit/cart.html\" class=\"cart\">\\xec\\x9e\\xa5\\xeb\\xb0\\x94\\xea\\xb5\\xac\\xeb\\x8b\\x88</a></li>\\r\\n                    <li class=\"top_menu_store\"><a href=\"https://www.hanbit.co.kr/publisher/foreignrights.html?lang=e\" target=\"_blank\">ENGLISH</a></li>\\r\\n      </ul>\\r\\n    </div>\\r\\n  </nav>\\r\\n  <!-- //top menu -->\\r\\n\\r\\n  <div id=\"wrap_gnb\">\\r\\n    <!-- logo -->\\r\\n    <h1><a href=\"https://www.hanbit.co.kr/index.html\">\\xed\\x95\\x9c\\xeb\\xb9\\x9b\\xec\\xb6\\x9c\\xed\\x8c\\x90\\xeb\\x84\\xa4\\xed\\x8a\\xb8\\xec\\x9b\\x8c\\xed\\x81\\xac</a></h1>\\r\\n    <!-- //logo -->\\r\\n\\r\\n    <!-- Menu -->\\r\\n    <div id=\"gnb\" name=\"gnb\">\\r\\n      <ul>\\r\\n        <li><a href=\"https://www.hanbit.co.kr/brand/brand_submain.html\" class=\"\">BRAND</a></li>\\r\\n        <li><a href=\"https://www.hanbit.co.kr/channel/channel_submain.html\" class=\"\">Channel.H</a></li>\\r\\n        <li><a href=\"https://www.hanbit.co.kr/store/store_submain.html\" class=\"\">STORE</a></li>\\r\\n        <li><a href=\"https://www.hanbit.co.kr/support/help_info.html\" class=\"\">SUPPORT</a></li>\\r\\n        <li><a href=\"https://www.hanbit.co.kr/event/current/current_event_list.html\" class=\"\">EVENT</a></li>\\r\\n        \\r\\n        <li><a href=\"https://www.hanbit.co.kr/publisher/foreignrights.html?lang=e\" class=\"\" target=\"_blank\">RIGHTS</a></li>\\r\\n        \\r\\n        <li id=\"top_search\" class=\"search\"><a href=\"javascript:;\" onClick=\"view_hover(\\'main_search_area\\',\\'\\',\\'show\\'); $(\\'#keyword_str\\').focus();\"><span>SEARCH</span></a></li>\\r\\n      </ul>\\r\\n    </div>\\r\\n    <!-- //Menu -->\\r\\n    \\r\\n    <!-- lnb -->\\r\\n    <div class=\"lnb\" style=\"top:92px;\">\\r\\n      <div class=\"lnb_area\">\\r\\n      <!-- BRAND -->\\r\\n          </div>\\r\\n    </div>\\r\\n    <!--// lnb -->\\r\\n  </div>\\r\\n</header>\\r\\n<!-- //header -->\\r\\n\\r\\n<!-- \\xeb\\xa9\\x94\\xec\\x9d\\xb8 \\xea\\xb2\\x80\\xec\\x83\\x89 \\xeb\\xb0\\x8f \\xec\\xb9\\xb4\\xed\\x85\\x8c\\xea\\xb3\\xa0\\xeb\\xa6\\xac \\xec\\x98\\x81\\xec\\x97\\xad -->\\r\\n<div id=\"main_search_area\" class=\"fixed\" style=\"display:none;\">\\n  <div class=\"msa_wrap\">\\n\\n    <!-- \\xea\\xb2\\x80\\xec\\x83\\x89 -->\\n    <div class=\"msa_srch_wrap\">\\n      <form onsubmit=\"return false;\">\\n      <fieldset class=\"msa_srch_field\">\\n        <legend>\\xed\\x95\\x9c\\xeb\\xb9\\x9b\\xec\\xb6\\x9c\\xed\\x8c\\x90\\xeb\\x84\\xa4\\xed\\x8a\\xb8\\xec\\x9b\\x8c\\xed\\x81\\xac \\xea\\xb2\\x80\\xec\\x83\\x89</legend>\\n        <input title=\"\\xea\\xb2\\x80\\xec\\x83\\x89\\xec\\x96\\xb4\" autocomplete=\"off\" class=\"srch_keyword\" accesskey=\"s\" type=\"text\" name=\"keyword_str\" id=\"keyword_str\" v-model=\"keyword\" @input=\"typeKeyword\">\\n        <input type=\"submit\" class=\"srch_btn\" style=\"cursor:pointer;\" @click=\"clickSearch\">\\n      </fieldset>\\n      </form>\\n    </div>\\n    <!-- //\\xea\\xb2\\x80\\xec\\x83\\x89 -->\\n\\n    <!-- \\xe2\\x91\\xa0 \\xec\\x9d\\xb8\\xea\\xb8\\xb0\\xea\\xb2\\x80\\xec\\x83\\x89\\xec\\x96\\xb4 -->\\n    <div class=\"msa_srch_polular\" v-if=\"showPopularKeyword === true\">\\n      <h2 class=\"tit\">\\xec\\x9d\\xb8\\xea\\xb8\\xb0 \\xea\\xb2\\x80\\xec\\x83\\x89\\xec\\x96\\xb4 <span>(\\xec\\xb5\\x9c\\xea\\xb7\\xbc 1\\xea\\xb0\\x9c\\xec\\x9b\\x94\\xea\\xb0\\x84)</span></h2>\\n        <div class=\"popula_box\">\\n          <ul class=\"left\">\\n            <li v-for=\"keyword in leftPopularKeywordList\">\\n              <a :class=\"keyword.bold\" @click=\"clickPopularKeyword(keyword)\">\\n                  {{ keyword.number }} {{ keyword.bookName }}\\n              </a>\\n            </li>\\n          </ul>\\n          <ul class=\"right\">\\n            <li v-for=\"keyword in rightPopularKeywordList\">\\n              <a :class=\"keyword.bold\" @click=\"clickPopularKeyword(keyword)\">\\n                  {{ keyword.number }} {{ keyword.bookName }}\\n              </a>\\n            </li>\\n          </ul>\\n        </div>\\n    </div>\\n    <!-- \\xe2\\x91\\xa0 \\xec\\x9d\\xb8\\xea\\xb8\\xb0\\xea\\xb2\\x80\\xec\\x83\\x89\\xec\\x96\\xb4 -->\\n\\n    <!-- \\xe2\\x91\\xa1 \\xea\\xb2\\x80\\xec\\x83\\x89\\xea\\xb2\\xb0\\xea\\xb3\\xbc/\\xea\\xb2\\x80\\xec\\x83\\x89\\xec\\x84\\x9c\\xec\\xa0\\x9c\\xec\\x8a\\xa4\\xec\\xb3\\x94 -->\\n    <div class=\"msa_srch_suggestion\" v-if=\"showPopularKeyword === false\">\\n      <div class=\"sugg_left\" v-if=\"bookList.length !== 0\">\\n        <h3 class=\"tit\">BOOK</h3>\\n        <ul class=\"books_list\">\\n          <li v-for=\"book in bookList\" @mouseover=\"mouseOverBook(book.id)\"><a @click=\"clickBookKeyword(book)\"><p v-html=\"book.name\"></p></a></li>\\n        </ul>\\n      </div>\\n\\n      <div class=\"sugg_right\">\\n        <div class=\"sugg_book\" v-if=\"bookList.length !== 0\">\\n          <table class=\"sugg_book_detail\">\\n            <tr>\\n              <td class=\"cover\">\\n                <a @click=\"clickBookKeyword(bookSummary)\">\\n                  <img :src=\"bookSummary.imgUrl\" class=\"b_cover\">\\n                </a>\\n              </td>\\n              <td class=\"draft\">\\n                <a @click=\"clickBookKeyword(bookSummary)\" class=\"b_title\"><strong v-html=\"bookSummary.originName\"></strong></a>\\n                <p class=\"b_int\">\\n                {{ bookSummary.author }} \\xec\\xa7\\x80\\xec\\x9d\\x8c<br />\\n                {{ bookSummary.publishingCompany }} | {{ bookSummary.date }}\\n                </p>\\n                <p class=\"b_type\">\\n                <span>{{ bookSummary.bookType }}</span>\\n                </p>\\n              </td>\\n            </tr>\\n          </table>\\n        </div>\\n\\n        <!--\\n        <div class=\"sugg_edu\" v-if=\"educationList.length !== 0\">\\n          <h3 class=\"tit\">EDUCATION</h3>\\n          <ul class=\"edu_list\">\\n            <li v-for=\"education in educationList\">&#149; <a @click=\"clickEducationKeyword(education)\"><span v-html=\"education.title\"></span></a></li>\\n          </ul>\\n        </div>\\n        -->\\n        \\n        <div class=\"sugg_cont\" v-if=\"contentList.length !== 0\">\\n          <h3 class=\"tit\">CONTENTS</h3>\\n          <ul class=\"cont_list\">\\n            <li v-for=\"content in contentList\">&#149; <a @click=\"clickContentKeyword(content)\"><span v-html=\"content.title\"></span></a></li>\\n          </ul>\\n        </div>\\n      </div>\\n    </div>\\n    <!-- //\\xe2\\x91\\xa1 \\xea\\xb2\\x80\\xec\\x83\\x89\\xea\\xb2\\xb0\\xea\\xb3\\xbc/\\xea\\xb2\\x80\\xec\\x83\\x89\\xec\\x84\\x9c\\xec\\xa0\\x9c\\xec\\x8a\\xa4\\xec\\xb3\\x94 -->\\n\\n  <!-- \\xeb\\x8b\\xab\\xea\\xb8\\xb0 -->\\n  <div class=\"msa_wrap_close\">\\n    <a href=\"javascript:;\" onclick=\"view_hover(\\'main_search_area\\',\\'\\',\\'hide\\')\">\\xeb\\x8b\\xab\\xea\\xb8\\xb0</a>\\n  </div>\\n  <!-- //\\xeb\\x8b\\xab\\xea\\xb8\\xb0 -->\\n\\n  </div>\\n</div>\\n\\n<script type=\"text/javascript\">\\n    \"use strict\";\\n\\n    var common_top_search_vue = new Vue({\\n        el: \\'#main_search_area\\',\\n        data: {\\n            //\\xea\\xb2\\x80\\xec\\x83\\x89\\xec\\x97\\x94\\xec\\xa7\\x84 URL\\n            searchProxyURL: \"https://search.hanbit.co.kr\",\\n            //\\xec\\x9d\\xb8\\xea\\xb8\\xb0 \\xea\\xb2\\x80\\xec\\x83\\x89\\xec\\x96\\xb4 show \\xec\\x97\\xac\\xeb\\xb6\\x80\\n            showPopularKeyword: true,\\n            //\\xec\\x82\\xac\\xec\\x9a\\xa9\\xec\\x9e\\x90 \\xea\\xb2\\x80\\xec\\x83\\x89 \\xed\\x82\\xa4\\xec\\x9b\\x8c\\xeb\\x93\\x9c\\n            keyword: \\'\\',\\n            //\\xec\\x9d\\xb8\\xea\\xb8\\xb0 \\xea\\xb2\\x80\\xec\\x83\\x89\\xec\\x96\\xb4 \\xeb\\xa6\\xac\\xec\\x8a\\xa4\\xed\\x8a\\xb8\\n            popularKeywordList: [],\\n            // \\xec\\x9d\\xb8\\xea\\xb8\\xb0 \\xea\\xb2\\x80\\xec\\x83\\x89\\xec\\x96\\xb4 \\xeb\\xa6\\xac\\xec\\x8a\\xa4\\xed\\x8a\\xb8 (\\xec\\x99\\xbc\\xec\\xaa\\xbd)\\n            leftPopularKeywordList: [],\\n            // \\xec\\x9d\\xb8\\xea\\xb8\\xb0 \\xea\\xb2\\x80\\xec\\x83\\x89\\xec\\x96\\xb4 \\xeb\\xa6\\xac\\xec\\x8a\\xa4\\xed\\x8a\\xb8 (\\xec\\x98\\xa4\\xeb\\xa5\\xb8\\xec\\xaa\\xbd)\\n            rightPopularKeywordList: [],\\n            // \\xec\\x9e\\x90\\xeb\\x8f\\x99\\xec\\x99\\x84\\xec\\x84\\xb1\\xec\\x97\\x90\\xec\\x84\\x9c\\xec\\x9d\\x98 \\xec\\xb1\\x85 \\xeb\\xa6\\xac\\xec\\x8a\\xa4\\xed\\x8a\\xb8\\n            bookList: [],\\n            // \\xec\\x9e\\x90\\xeb\\x8f\\x99\\xec\\x99\\x84\\xec\\x84\\xb1\\xec\\x97\\x90\\xec\\x84\\x9c\\xec\\x9d\\x98 \\xec\\xb1\\x85 \\xec\\xa0\\x95\\xeb\\xb3\\xb4\\n            bookSummary: {\\n                \\'imgUrl\\': \\'\\',\\n                \\'link\\': \\'\\',\\n                \\'name\\': \\'\\',\\n                \\'author\\': \\'\\',\\n                \\'publishingCompany\\': \\'\\',\\n                \\'date\\': \\'\\',\\n                \\'bookType\\': \\'\\'\\n            },\\n            //\\xec\\x97\\x90\\xeb\\x93\\x80\\xec\\xbc\\x80\\xec\\x9d\\xb4\\xec\\x85\\x98 \\xeb\\xa6\\xac\\xec\\x8a\\xa4\\xed\\x8a\\xb8\\n            educationList: [],\\n            //\\xec\\xbb\\xa8\\xed\\x85\\x90\\xec\\xb8\\xa0 \\xeb\\xa6\\xac\\xec\\x8a\\xa4\\xed\\x8a\\xb8\\n            contentList: []\\n        },\\n        created: function created() {\\n            // \\xec\\x9d\\xb8\\xea\\xb8\\xb0 \\xea\\xb2\\x80\\xec\\x83\\x89\\xec\\x96\\xb4 \\xec\\xa1\\xb0\\xed\\x9a\\x8c\\n            this.getPopularKeyword();\\n        },\\n        methods: {\\n            /**\\n             * \\xec\\x82\\xac\\xec\\x9a\\xa9\\xec\\x9e\\x90\\xea\\xb0\\x80 \\xea\\xb2\\x80\\xec\\x83\\x89 \\xed\\x82\\xa4\\xec\\x9b\\x8c\\xeb\\x93\\x9c\\xeb\\xa5\\xbc \\xec\\x9e\\x85\\xeb\\xa0\\xa5\\xed\\x95\\xa0\\xeb\\x95\\x8c \\xeb\\xb0\\x9c\\xec\\x83\\x9d\\xed\\x95\\x98\\xeb\\x8a\\x94 \\xec\\x9d\\xb4\\xeb\\xb2\\xa4\\xed\\x8a\\xb8\\n             */\\n            typeKeyword: function typeKeyword() {\\n                var self = this;\\n                var keyword = $(\"#keyword_str\").val();\\n\\n                if (keyword.length !== 0) {\\n                    //\\xec\\x9e\\x90\\xeb\\x8f\\x99\\xec\\x99\\x84\\xec\\x84\\xb1\\xec\\x96\\xb4\\n                    this.findAutocompleteResult(keyword);\\n                } else {\\n                    //\\xec\\x9d\\xb8\\xea\\xb8\\xb0\\xea\\xb2\\x80\\xec\\x83\\x89\\xec\\x96\\xb4\\n                    self.showPopularKeyword = true;\\n                }\\n            },\\n\\n            /**\\n             * \\xec\\x9d\\xb8\\xea\\xb8\\xb0\\xea\\xb2\\x80\\xec\\x83\\x89\\xec\\x96\\xb4 \\xec\\xa1\\xb0\\xed\\x9a\\x8c\\n             */\\n            getPopularKeyword: function getPopularKeyword() {\\n                var self = this;\\n                this.popularKeywordList = [];\\n                $.get(this.searchProxyURL + \"/querylog/popularKeyword\").done(function (data) {\\n                    if (data != null) {\\n                        self.drawPopularKeyword(data);\\n                    }\\n                });\\n            },\\n\\n            /**\\n             * \\xec\\x9d\\xb8\\xea\\xb8\\xb0 \\xea\\xb2\\x80\\xec\\x83\\x89\\xec\\x96\\xb4 \\xea\\xb7\\xb8\\xeb\\xa6\\xac\\xea\\xb8\\xb0\\n             */\\n            drawPopularKeyword: function drawPopularKeyword(popularBooks) {\\n                var self = this;\\n                popularBooks.forEach(function (item) {\\n                    var popularBook = {\\n                        bookName: item.keyword\\n                    };\\n                    self.popularKeywordList.push(popularBook);\\n                });\\n                var number = 0;\\n\\n                for (var _iterator = this.popularKeywordList, _isArray = Array.isArray(_iterator), _i = 0, _iterator = _isArray ? _iterator : _iterator[Symbol.iterator]();;) {\\n                    var _ref;\\n\\n                    if (_isArray) {\\n                        if (_i >= _iterator.length) break;\\n                        _ref = _iterator[_i++];\\n                    } else {\\n                        _i = _iterator.next();\\n                        if (_i.done) break;\\n                        _ref = _i.value;\\n                    }\\n\\n                    var keyword = _ref;\\n                    number = number + 1;\\n                    keyword.number = number.toString().length < 2 ? \"0\" + number : number;\\n\\n                    if (number > 5) {\\n                        keyword.direction = \"right\";\\n                        self.rightPopularKeywordList.push(keyword);\\n                    } else {\\n                        keyword.direction = \"left\";\\n\\n                        if (number < 4) {\\n                            keyword.bold = \\'active\\';\\n                        }\\n\\n                        self.leftPopularKeywordList.push(keyword);\\n                    }\\n                }\\n            },\\n\\n            /**\\n             * \\xec\\x9e\\x90\\xeb\\x8f\\x99\\xec\\x99\\x84\\xec\\x84\\xb1 \\xea\\xb2\\x80\\xec\\x83\\x89 \\xea\\xb2\\xb0\\xea\\xb3\\xbc\\n             */\\n            findAutocompleteResult: function findAutocompleteResult(keyword) {\\n                var self = this;\\n                var param = {\\n                    q: keyword,\\n                    types: \"education,book,contents\",\\n                    fq: keyword\\n                };\\n                $.post(this.searchProxyURL + \"/autocomplete/search\", param).done(function (data) {\\n                    if (data != null) {\\n                        var bookResult = data.booksResults;\\n                        self.changeBookList(keyword, bookResult);\\n                        var contentResult = data.contentsResults;\\n                        self.changeContentList(keyword, contentResult);\\n                        var educationResult = data.educationResults;\\n                        self.changeEducationList(keyword, educationResult);\\n                    }\\n                });\\n                this.showPopularKeyword = false;\\n            },\\n\\n            /**\\n             * \\xec\\x9e\\x90\\xeb\\x8f\\x99\\xec\\x99\\x84\\xec\\x84\\xb1\\xec\\x96\\xb4\\xec\\x97\\x90\\xec\\x84\\x9c BOOK \\xeb\\xb6\\x80\\xeb\\xb6\\x84\\xec\\x97\\x90\\xec\\x84\\x9c \\xeb\\xa7\\x88\\xec\\x9a\\xb0\\xec\\x8a\\xa4\\xeb\\xa5\\xbc \\xec\\x98\\xac\\xeb\\xa0\\xb8\\xec\\x9d\\x84 \\xec\\x8b\\x9c\\xec\\x97\\x90 \\xeb\\xb0\\x9c\\xec\\x83\\x9d\\xed\\x95\\x98\\xeb\\x8a\\x94 \\xec\\x9d\\xb4\\xeb\\xb2\\xa4\\xed\\x8a\\xb8\\n             * @param bookId\\n             */\\n            mouseOverBook: function mouseOverBook(bookId) {\\n                var currentBook = this.bookList.filter(function (book) {\\n                    return book.id === bookId;\\n                });\\n                this.changeBookSummary(currentBook[0]);\\n            },\\n\\n            /**\\n             * \\xec\\xb1\\x85 \\xec\\x86\\x8c\\xea\\xb0\\x9c \\xeb\\xb3\\x80\\xea\\xb2\\xbd\\n             * @param book\\n             */\\n            changeBookSummary: function changeBookSummary(book) {\\n                if (book !== {}) {\\n                    this.bookSummary.name = book.name;\\n                    this.bookSummary.originName = book.originName;\\n                    this.bookSummary.author = book.author;\\n                    this.bookSummary.bookType = book.bookType;\\n                    this.bookSummary.imgUrl = book.imgUrl;\\n                    this.bookSummary.link = book.link;\\n                    this.bookSummary.publishingCompany = book.publishingCompany;\\n                    this.bookSummary.date = book.date;\\n                    this.bookSummary.bookType = book.bookType;\\n                }\\n            },\\n\\n            /**\\n             * BOOK \\xeb\\xa6\\xac\\xec\\x8a\\xa4\\xed\\x8a\\xb8 \\xeb\\xb3\\x80\\xea\\xb2\\xbd\\n             */\\n            changeBookList: function changeBookList(keyword, bookResultList) {\\n                var self = this;\\n                self.bookList = [];\\n                var index = 0;\\n\\n                if (bookResultList != null) {\\n                    for (var _iterator2 = bookResultList, _isArray2 = Array.isArray(_iterator2), _i2 = 0, _iterator2 = _isArray2 ? _iterator2 : _iterator2[Symbol.iterator]();;) {\\n                        var _ref2;\\n\\n                        if (_isArray2) {\\n                            if (_i2 >= _iterator2.length) break;\\n                            _ref2 = _iterator2[_i2++];\\n                        } else {\\n                            _i2 = _iterator2.next();\\n                            if (_i2.done) break;\\n                            _ref2 = _i2.value;\\n                        }\\n\\n                        var result = _ref2;\\n\\n                        if (index < 10) {\\n                            var book = {};\\n                            book.id = result.code;\\n                            book.originName = result.title;\\n                            book.name = JSON.parse(JSON.stringify(self.replaceHighlightWord(result.title, keyword)));\\n                            book.link = result.code;\\n                            book.imgUrl = self.getBookImageURL(result.code);\\n                            book.author = result.author;\\n                            book.publishingCompany = result.brand;\\n                            book.date = result.pubDate;\\n                            book.bookType = result.bookType;\\n                            self.bookList.push(book); //\\xec\\xb1\\x85 \\xeb\\xaf\\xb8\\xeb\\xa6\\xac\\xeb\\xb3\\xb4\\xea\\xb8\\xb0 \\xeb\\xb3\\x80\\xea\\xb2\\xbd\\n\\n                            self.changeBookSummary(self.bookList[0]);\\n                        }\\n                    }\\n                } else {\\n                    self.initBookSummary();\\n                }\\n            },\\n\\n            /**\\n             * \\xec\\xb1\\x85 \\xec\\x9d\\xb4\\xeb\\xaf\\xb8\\xec\\xa7\\x80 \\xec\\xa3\\xbc\\xec\\x86\\x8c \\xea\\xb0\\x80\\xec\\xa0\\xb8\\xec\\x98\\xa4\\xea\\xb8\\xb0\\n             */\\n            getBookImageURL: function getBookImageURL(bookCode) {\\n                var imgURL;\\n\\n                if (bookCode.substr(0, 1) === \"E\") {\\n                    imgURL = \\'/data/ebook/\\' + bookCode + \\'_m.jpg\\';\\n                } else {\\n                    imgURL = \\'/data/books/\\' + bookCode + \"_m.jpg\";\\n                }\\n\\n                return imgURL;\\n            },\\n\\n            /**\\n             * \\xea\\xb2\\x80\\xec\\x83\\x89 \\xea\\xb2\\xb0\\xea\\xb3\\xbc\\xea\\xb0\\x80 \\xec\\x97\\x86\\xec\\x9d\\x84 \\xea\\xb2\\xbd\\xec\\x9a\\xb0 \\xec\\xb1\\x85 \\xeb\\xaf\\xb8\\xeb\\xa6\\xac\\xeb\\xb3\\xb4\\xea\\xb8\\xb0 \\xec\\xb4\\x88\\xea\\xb8\\xb0\\xed\\x99\\x94\\n             */\\n            initBookSummary: function initBookSummary() {\\n                this.bookSummary = {\\n                    \\'imgUrl\\': \\'\\',\\n                    \\'link\\': \\'\\',\\n                    \\'name\\': \\'\\',\\n                    \\'author\\': \\'\\',\\n                    \\'publishingCompany\\': \\'\\',\\n                    \\'date\\': \\'\\',\\n                    \\'bookType\\': \\'\\'\\n                };\\n            },\\n\\n            /**\\n             * education \\xeb\\xa6\\xac\\xec\\x8a\\xa4\\xed\\x8a\\xb8 \\xeb\\xb3\\x80\\xea\\xb2\\xbd\\n             */\\n            changeEducationList: function changeEducationList(keyword, educationResultList) {\\n                var self = this;\\n                self.educationList = [];\\n                var index = 0;\\n\\n                if (educationResultList != null) {\\n                    for (var _iterator3 = educationResultList, _isArray3 = Array.isArray(_iterator3), _i3 = 0, _iterator3 = _isArray3 ? _iterator3 : _iterator3[Symbol.iterator]();;) {\\n                        var _ref3;\\n\\n                        if (_isArray3) {\\n                            if (_i3 >= _iterator3.length) break;\\n                            _ref3 = _iterator3[_i3++];\\n                        } else {\\n                            _i3 = _iterator3.next();\\n                            if (_i3.done) break;\\n                            _ref3 = _i3.value;\\n                        }\\n\\n                        var result = _ref3;\\n\\n                        if (index < 3) {\\n                            var content = {};\\n                            content.title = JSON.parse(JSON.stringify(self.replaceHighlightWord(result.title, keyword)));\\n                            content.link = result.code;\\n                            self.educationList.push(content);\\n                            index = index + 1;\\n                        }\\n                    }\\n                }\\n            },\\n\\n            /**\\n             * contents \\xeb\\xa6\\xac\\xec\\x8a\\xa4\\xed\\x8a\\xb8 \\xeb\\xb3\\x80\\xea\\xb2\\xbd\\n             */\\n            changeContentList: function changeContentList(keyword, contentResult) {\\n                var self = this;\\n                self.contentList = [];\\n                var index = 0;\\n\\n                if (contentResult != null) {\\n                    for (var _iterator4 = contentResult, _isArray4 = Array.isArray(_iterator4), _i4 = 0, _iterator4 = _isArray4 ? _iterator4 : _iterator4[Symbol.iterator]();;) {\\n                        var _ref4;\\n\\n                        if (_isArray4) {\\n                            if (_i4 >= _iterator4.length) break;\\n                            _ref4 = _iterator4[_i4++];\\n                        } else {\\n                            _i4 = _iterator4.next();\\n                            if (_i4.done) break;\\n                            _ref4 = _i4.value;\\n                        }\\n\\n                        var result = _ref4;\\n\\n                        if (index < 7) {\\n                            var content = {};\\n                            content.title = JSON.parse(JSON.stringify(self.replaceHighlightWord(result.title, keyword)));\\n                            content.link = result.code;\\n                            self.contentList.push(content);\\n                            index = index + 1;\\n                        }\\n                    }\\n                }\\n            },\\n\\n            /**\\n             * \\xed\\x95\\x98\\xec\\x9d\\xb4\\xeb\\x9d\\xbc\\xec\\x9d\\xb4\\xed\\x8a\\xb8 \\xed\\x91\\x9c\\xec\\x8b\\x9c\\n             */\\n            replaceHighlightWord: function replaceHighlightWord(str, highlightKeyword) {\\n                var replaceHighlightKeyword = highlightKeyword.replace(/[^a-z0-9\\xea\\xb0\\x80-\\xed\\x9e\\xa3_ ]/gi, \\'\\');\\n                var regEx = new RegExp(replaceHighlightKeyword, \"gi\");\\n                str = str.replace(regEx, function (a) {\\n                    return \\'<span class=\"keysel\">\\' + a + \\'</span>\\';\\n                });\\n                return str;\\n            },\\n\\n            /**\\n             * \\xea\\xb2\\x80\\xec\\x83\\x89 \\xeb\\xb2\\x84\\xed\\x8a\\xbc \\xed\\x81\\xb4\\xeb\\xa6\\xad \\xec\\x8b\\x9c\\n             * @param e\\n             */\\n            clickSearch: function clickSearch(e) {\\n                if (!this.keyword || this.keyword.length === 0) {\\n                    alert(\"\\xea\\xb2\\x80\\xec\\x83\\x89\\xec\\x96\\xb4\\xeb\\xa5\\xbc \\xec\\x9e\\x85\\xeb\\xa0\\xa5\\xed\\x95\\x98\\xec\\x84\\xb8\\xec\\x9a\\x94\");\\n                    $(\"#keyword_str\").focus();\\n                    e.preventDefault();\\n                } else {\\n                    location.href = \"/search/search_list.html?keyword=\" + this.keyword;\\n                }\\n            },\\n\\n            /**\\n             * \\xec\\x9d\\xb8\\xea\\xb8\\xb0 \\xea\\xb2\\x80\\xec\\x83\\x89\\xec\\x96\\xb4 \\xed\\x81\\xb4\\xeb\\xa6\\xad\\xec\\x8b\\x9c\\n             * @param book\\n             */\\n            clickPopularKeyword: function clickPopularKeyword(book) {\\n                var searchKeyword = book.bookName;\\n                location.href = \"/search/search_list.html?keyword=\" + searchKeyword;\\n            },\\n\\n            /**\\n             * \\xec\\xb1\\x85 \\xea\\xb2\\x80\\xec\\x83\\x89\\xec\\x96\\xb4 \\xed\\x81\\xb4\\xeb\\xa6\\xad\\xec\\x8b\\x9c \\xec\\xb1\\x85 \\xec\\x83\\x81\\xec\\x84\\xb8\\xeb\\xa1\\x9c \\xec\\x9d\\xb4\\xeb\\x8f\\x99\\n             * @param book\\n             */\\n            clickBookKeyword: function clickBookKeyword(book) {\\n                location.href = \"/store/books/look.php?p_code=\" + book.link;\\n            },\\n\\n            /**\\n             * \\xea\\xb5\\x90\\xec\\x9c\\xa1 \\xed\\x81\\xb4\\xeb\\xa6\\xad\\xec\\x8b\\x9c \\xea\\xb5\\x90\\xec\\x9c\\xa1 \\xec\\x83\\x81\\xec\\x84\\xb8\\xeb\\xa1\\x9c \\xec\\x9d\\xb4\\xeb\\x8f\\x99\\n             * @param education\\n             */\\n            clickEducationKeyword: function clickEducationKeyword(education) {\\n                location.href = \"/store/education/edu_view.html?p_code=\" + education.link;\\n            },\\n\\n            /**\\n             * \\xec\\xbb\\xa8\\xed\\x85\\x90\\xec\\xb8\\xa0 \\xed\\x81\\xb4\\xeb\\xa6\\xad\\xec\\x8b\\x9c \\xec\\xbb\\xa8\\xed\\x85\\x90\\xec\\xb8\\xa0 \\xec\\x83\\x81\\xec\\x84\\xb8\\xeb\\xa1\\x9c \\xec\\x9d\\xb4\\xeb\\x8f\\x99\\n             * @param contents\\n             */\\n            clickContentKeyword: function clickContentKeyword(content) {\\n                location.href = \"/channel/category/category_view.html?cms_code=\" + content.link;\\n            }\\n        }\\n    });\\n</script>\\n<!-- //\\xeb\\xa9\\x94\\xec\\x9d\\xb8 \\xea\\xb2\\x80\\xec\\x83\\x89 \\xeb\\xb0\\x8f \\xec\\xb9\\xb4\\xed\\x85\\x8c\\xea\\xb3\\xa0\\xeb\\xa6\\xac \\xec\\x98\\x81\\xec\\x97\\xad -->\\r\\n\\r\\n<link rel=\"stylesheet\" href=\"/css/main.css?202107291530\" />\\r\\n<link rel=\"preconnect\" href=\"https://fonts.googleapis.com\">\\r\\n<link rel=\"preconnect\" href=\"https://fonts.gstatic.com\" crossorigin>\\r\\n<link href=\"https://fonts.googleapis.com/css2?family=Black+Han+Sans&display=swap\" rel=\"stylesheet\">\\r\\n\\r\\n<!-- \\xed\\x94\\x84\\xeb\\xa1\\x9c\\xeb\\xaa\\xa8\\xec\\x85\\x98 -->\\r\\n<section id=\"main_top_wrap\" name=\"main_top_wrap\">\\r\\n  <div class=\"main_promotion_wrap\">\\r\\n    <article onmouseover=\"view_hover(\\'main_prm_btn\\',\\'\\',\\'show\\')\" onmouseout=\"view_hover(\\'main_prm_btn\\',\\'\\',\\'hide\\')\">\\r\\n      <div class=\"promo_top\">\\r\\n        <div id=\"touchSlider_prm\">\\r\\n          <ul style=\"width:100% !important;\">\\r\\n                        <li style=\"background: linear-gradient(to top, rgb(230,230,230), rgb(244,244,244)); float: none; display: block; position: absolute; top: 0px; left: -1367px; width: 1367px;\">\\r\\n                <div class=\"prm_tex_wrap\">\\r\\n                <a href=\"/store/books/look.php?p_code=B7123382765\" target=\"_self\">\\r\\n                <div class=\"prm_tex\">\\r\\n                  <span class=\"prm_brand_tex\">\\xed\\x95\\x9c\\xeb\\xb9\\x9b\\xeb\\xb9\\x84\\xec\\xa6\\x88</span>\\r\\n                  <span class=\"prm_book_title\">\\xeb\\x88\\x88 \\xeb\\x96\\xa0\\xeb\\xb3\\xb4\\xeb\\x8b\\x88 \\xec\\x84\\xa0\\xec\\xa7\\x84\\xea\\xb5\\xad</span>\\r\\n                  <span class=\"prm_book_detail\">\\xec\\x82\\xac\\xed\\x9a\\x8c\\xeb\\xac\\xb8\\xec\\xa0\\x9c\\xec\\x97\\x90\\xec\\x84\\x9c IT \\xeb\\xac\\xb8\\xec\\xa0\\x9c\\xea\\xb9\\x8c\\xec\\xa7\\x80, \\xeb\\x8c\\x80\\xed\\x95\\x9c\\xeb\\xaf\\xbc\\xea\\xb5\\xad \\xec\\x82\\xac\\xed\\x9a\\x8c\\xec\\x99\\x80 \\xea\\xb2\\xbd\\xec\\xa0\\x9c, \\xec\\x8b\\x9c\\xec\\x8a\\xa4\\xed\\x85\\x9c\\xec\\x9d\\x84 \\xec\\x9c\\x84\\xed\\x95\\x9c \\xed\\x81\\xb0 \\xec\\x83\\x9d\\xea\\xb0\\x81</span>\\r\\n                  <!-- <span class=\"prm_book_author\"></span> --> \\r\\n                </div>\\r\\n                <div class=\"prm_img\">\\r\\n                  <img style=\"margin:41px 5px 0 0;\" src=\"/data/books/B7123382765_l.jpg\" width=\"\" height=\"340\" alt=\"\\xeb\\x88\\x88 \\xeb\\x96\\xa0\\xeb\\xb3\\xb4\\xeb\\x8b\\x88 \\xec\\x84\\xa0\\xec\\xa7\\x84\\xea\\xb5\\xad\">\\r\\n                </div>\\r\\n                </a>\\r\\n                </div>\\r\\n              </li>\\r\\n                        <li style=\"background: linear-gradient(to top, rgb(230,230,230), rgb(244,244,244)); float: none; display: block; position: absolute; top: 0px; left: -1367px; width: 1367px;\">\\r\\n                <div class=\"prm_tex_wrap\">\\r\\n                <a href=\"/store/books/look.php?p_code=B7015117381\" target=\"_self\">\\r\\n                <div class=\"prm_tex\">\\r\\n                  <span class=\"prm_brand_tex\">\\xed\\x95\\x9c\\xeb\\xb9\\x9b\\xeb\\xaf\\xb8\\xeb\\x94\\x94\\xec\\x96\\xb4</span>\\r\\n                  <span class=\"prm_book_title\">\\xed\\x92\\x80\\xec\\x8a\\xa4\\xed\\x83\\x9d \\xec\\x84\\x9c\\xeb\\xb2\\x84\\xeb\\xa6\\xac\\xec\\x8a\\xa4</span>\\r\\n                  <span class=\"prm_book_detail\">\\xeb\\xa6\\xac\\xec\\x95\\xa1\\xed\\x8a\\xb8, AWS, \\xea\\xb7\\xb8\\xeb\\x9e\\x98\\xed\\x94\\x84QL\\xec\\x9d\\x84 \\xec\\x9d\\xb4\\xec\\x9a\\xa9\\xed\\x95\\x9c \\xec\\xb5\\x9c\\xec\\x8b\\xa0 \\xec\\x95\\xa0\\xed\\x94\\x8c\\xeb\\xa6\\xac\\xec\\xbc\\x80\\xec\\x9d\\xb4\\xec\\x85\\x98 \\xea\\xb0\\x9c\\xeb\\xb0\\x9c - \\xec\\x8b\\xa4\\xec\\x8a\\xb5\\xed\\x95\\x98\\xeb\\xa9\\xb0 \\xec\\x9d\\xb5\\xed\\x9e\\x88\\xeb\\x8a\\x94 \\xed\\x92\\x80\\xec\\x8a\\xa4\\xed\\x83\\x9d \\xec\\x84\\x9c\\xeb\\xb2\\x84\\xeb\\xa6\\xac\\xec\\x8a\\xa4 \\xec\\x95\\xb1 \\xea\\xb0\\x9c\\xeb\\xb0\\x9c \\xea\\xb0\\x80\\xec\\x9d\\xb4\\xeb\\x93\\x9c\\xeb\\xb6\\x81</span>\\r\\n                  <!-- <span class=\"prm_book_author\"></span> --> \\r\\n                </div>\\r\\n                <div class=\"prm_img\">\\r\\n                  <img style=\"margin:41px 5px 0 0;\" src=\"/data/books/B7015117381_l.jpg\" width=\"\" height=\"340\" alt=\"\\xed\\x92\\x80\\xec\\x8a\\xa4\\xed\\x83\\x9d \\xec\\x84\\x9c\\xeb\\xb2\\x84\\xeb\\xa6\\xac\\xec\\x8a\\xa4\">\\r\\n                </div>\\r\\n                </a>\\r\\n                </div>\\r\\n              </li>\\r\\n                        <li style=\"background: linear-gradient(to top, rgb(230,230,230), rgb(244,244,244)); float: none; display: block; position: absolute; top: 0px; left: -1367px; width: 1367px;\">\\r\\n                <div class=\"prm_tex_wrap\">\\r\\n                <a href=\"/store/books/look.php?p_code=B9783423109\" target=\"_self\">\\r\\n                <div class=\"prm_tex\">\\r\\n                  <span class=\"prm_brand_tex\">\\xed\\x95\\x9c\\xeb\\xb9\\x9b\\xeb\\xaf\\xb8\\xeb\\x94\\x94\\xec\\x96\\xb4</span>\\r\\n                  <span class=\"prm_book_title\">\\xec\\x95\\xa0\\xed\\x94\\x8c \\xed\\x85\\x8c\\xed\\x81\\xac \\xeb\\xa6\\xac\\xeb\\x8d\\x94\\xea\\xb0\\x80 \\xeb\\x93\\xa4\\xeb\\xa0\\xa4\\xec\\xa3\\xbc\\xeb\\x8a\\x94 30\\xea\\xb0\\x80\\xec\\xa7\\x80 \\xeb\\xb9\\x84\\xeb\\xb2\\x95</span>\\r\\n                  <span class=\"prm_book_detail\">\\xec\\x84\\xb1\\xea\\xb3\\xb5\\xec\\xa0\\x81\\xec\\x9d\\xb8 \\xeb\\xa6\\xac\\xeb\\x8d\\x94\\xec\\x8b\\xad\\xec\\x97\\x90\\xeb\\x8a\\x94 \\xeb\\x94\\x94\\xed\\x85\\x8c\\xec\\x9d\\xbc\\xec\\x9d\\xb4 \\xec\\x9e\\x88\\xeb\\x8b\\xa4!</span>\\r\\n                  <!-- <span class=\"prm_book_author\"></span> --> \\r\\n                </div>\\r\\n                <div class=\"prm_img\">\\r\\n                  <img style=\"margin:41px 5px 0 0;\" src=\"/data/books/B9783423109_l.jpg\" width=\"\" height=\"340\" alt=\"\\xec\\x95\\xa0\\xed\\x94\\x8c \\xed\\x85\\x8c\\xed\\x81\\xac \\xeb\\xa6\\xac\\xeb\\x8d\\x94\\xea\\xb0\\x80 \\xeb\\x93\\xa4\\xeb\\xa0\\xa4\\xec\\xa3\\xbc\\xeb\\x8a\\x94 30\\xea\\xb0\\x80\\xec\\xa7\\x80 \\xeb\\xb9\\x84\\xeb\\xb2\\x95\">\\r\\n                </div>\\r\\n                </a>\\r\\n                </div>\\r\\n              </li>\\r\\n                    </ul>\\r\\n        </div>\\r\\n        <div id=\"main_prm_btn\" class=\"btn_prm_area\">\\r\\n          <div class=\"btn_promo_left\"><a href=\"javascript:;\" class=\"btn_prm_prev\"></a></div>\\r\\n          <div class=\"btn_promo_right\"><a href=\"javascript:;\" class=\"btn_prm_next\"></a></div>\\r\\n        </div>\\r\\n        <div class=\"btn_prm_area_page\" style=\"text-align:center;\">\\r\\n          <div class=\"btn_prm_page\">paging</div>\\r\\n        </div>\\r\\n      </div>\\r\\n    </article>\\r\\n  </div>\\r\\n</section>\\r\\n<!-- //\\xed\\x94\\x84\\xeb\\xa1\\x9c\\xeb\\xaa\\xa8\\xec\\x85\\x98 -->\\r\\n\\r\\n<!-- //\\xeb\\xa9\\x94\\xec\\x9d\\xb8 \\xec\\x83\\x81\\xeb\\x8b\\xa8 \\xec\\x98\\x81\\xec\\x97\\xad -->\\r\\n<section id=\"box_main_quick\">\\r\\n  <div class=\"main_quick_wrap\">\\r\\n  <!-- \\xeb\\xb0\\xb0\\xeb\\x84\\x88 -->\\r\\n    <article class=\"main_quick\">\\r\\n    <div class=\"txt\">\\r\\n      <p><a href=\"/publisher/write.html?lang=k\" target=\"_blank\">\\r\\n      <span class=\"icon_plan\"></span><br>\\r\\n      <strong>\\xea\\xb8\\xb0\\xed\\x9a\\x8d/\\xec\\x9b\\x90\\xea\\xb3\\xa0 \\xeb\\xaa\\xa8\\xec\\xa7\\x91</strong>\\r\\n      </a></p>\\r\\n    </div>\\r\\n    </article>\\r\\n    \\r\\n    <article class=\"main_quick\">\\r\\n    <div class=\"txt\">\\r\\n      <p><a href=\"/academy/professor/\">\\r\\n      <span class=\"icon_professor\"></span><br>\\r\\n      <strong>\\xea\\xb5\\x90\\xec\\x88\\x98\\xec\\xa0\\x84\\xec\\x9a\\xa9</strong>\\r\\n      </a></p>\\r\\n    </div>\\r\\n    </article>\\r\\n    \\r\\n    <article class=\"main_quick\">\\r\\n    <div class=\"txt\">\\r\\n      <p><a href=\"/rent/\" target=\"_blank\">\\r\\n      <span class=\"icon_rent\"></span><br>\\r\\n      <strong>\\xeb\\x8c\\x80\\xea\\xb4\\x80\\xec\\x84\\x9c\\xeb\\xb9\\x84\\xec\\x8a\\xa4</strong>\\r\\n      </a></p>\\r\\n    </div>\\r\\n    </article>\\r\\n\\r\\n    <article class=\"main_quick\">\\r\\n    <div class=\"txt\">\\r\\n      <p><a href=\"/support/supplement_list.html\">\\r\\n      <span class=\"icon_source\"></span><br>\\r\\n      <strong>\\xeb\\xb6\\x80\\xeb\\xa1\\x9d/\\xec\\x98\\x88\\xec\\xa0\\x9c\\xec\\x86\\x8c\\xec\\x8a\\xa4</strong>\\r\\n      </a></p>\\r\\n    </div>\\r\\n    </article>\\r\\n\\r\\n    <article class=\"main_quick\">\\r\\n    <div class=\"txt\">\\r\\n      <p><a href=\"https://support.hanbit.co.kr/hc/ko/categories/200229407-%EC%9E%90%EC%A3%BC-%EB%AC%BB%EB%8A%94-%EC%A7%88%EB%AC%B8-FAQ-\" target=\"_blank\">\\r\\n      <span class=\"icon_question\"></span><br>\\r\\n      <strong>\\xec\\x9e\\x90\\xec\\xa3\\xbc\\xeb\\xac\\xbb\\xeb\\x8a\\x94\\xec\\xa7\\x88\\xeb\\xac\\xb8</strong>\\r\\n      </a></p>\\r\\n    </div>\\r\\n    </article>\\r\\n\\r\\n    <article class=\"main_quick\">\\r\\n    <div class=\"txt\">\\r\\n      <p><a href=\"/publisher/foreignrights.html?lang=e\" target=\"_blank\">\\r\\n      <span class=\"icon_foreign\"></span><br>\\r\\n      <strong>FOREIGN RIGHTS</strong>\\r\\n      </a></p>\\r\\n    </div>\\r\\n    </article>\\r\\n  </div>\\r\\n  <!-- //\\xeb\\xb0\\xb0\\xeb\\x84\\x88 -->\\r\\n</section>\\r\\n<!-- //\\xeb\\xa9\\x94\\xec\\x9d\\xb8 \\xec\\x83\\x81\\xeb\\x8b\\xa8 \\xec\\x98\\x81\\xec\\x97\\xad -->\\r\\n\\r\\n\\r\\n\\r\\n<!-- \\xeb\\xa9\\x94\\xec\\x9d\\xb8 \\xec\\xb1\\x85 \\xec\\x98\\x81\\xec\\x97\\xad -->\\r\\n\\r\\n<script>\\r\\nvar main_book_setid_list = new Array([\"#hbmain_book_area_new_HBIT\",\\r\\n                     \"#hbmain_book_area_new_HM\",\\r\\n                     \"#hbmain_book_area_new_HA\",\\r\\n                     \"#hbmain_book_area_new_HB\",\\r\\n                     \"#hbmain_book_area_new_HL\",\\r\\n                     \"#hbmain_book_area_new_HR\",\\r\\n                     \"#hbmain_book_area_new_MK\",\\r\\n                     \"#hbmain_book_area_new_HE\"],\\r\\n                     \\r\\n                    [\"#hbmain_book_area_best_HBIT\",\\r\\n                     \"#hbmain_book_area_best_HM\",\\r\\n                     \"#hbmain_book_area_best_HA\",\\r\\n                     \"#hbmain_book_area_best_HB\",\\r\\n                     \"#hbmain_book_area_best_HL\",\\r\\n                     \"#hbmain_book_area_best_HR\",\\r\\n                     \"#hbmain_book_area_best_MK\",\\r\\n                     \"#hbmain_book_area_best_HE\"]);\\r\\n\\r\\nfunction main_book_display(set_num, brand_num){\\r\\n  var set_num = set_num-1;\\r\\n  var brand_num = brand_num-1;\\r\\n  var array_langth = main_book_setid_list[0].length;\\r\\n  for(var i=0; i<array_langth; i++){\\r\\n    $(main_book_setid_list[0][i]).css(\"display\",\"none\");\\r\\n    $(main_book_setid_list[1][i]).css(\"display\",\"none\");\\r\\n  };\\r\\n  $(main_book_setid_list[set_num][brand_num]).css(\"display\",\"block\");\\r\\n}\\r\\n</script>\\r\\n\\r\\n<!-- \\xeb\\xa9\\x94\\xec\\x9d\\xb8 \\xec\\x83\\x88\\xeb\\xa1\\x9c\\xeb\\x82\\x98\\xec\\x98\\xa8\\xec\\xb1\\x85 -->\\r\\n<section id=\"hbmain_book_area_new_HBIT\" name=\"hbmain_book_area_new_HBIT\" style=\"display:block;\" onmouseover=\"view_hover(\\'main_book_btn_new_HBIT\\',\\'\\',\\'show\\')\" onmouseout=\"view_hover(\\'main_book_btn_new_HBIT\\',\\'\\',\\'hide\\')\">\\r\\n  <!-- \\xed\\x83\\xad\\xeb\\xa9\\x94\\xeb\\x89\\xb4 -->\\r\\n  <div class=\"m_tab\">\\r\\n    <ul class=\"m_tab_menu\">\\r\\n      <li><a href=\"javascript:main_book_display(1,1);\" class=\"curr\">\\xec\\x83\\x88\\xeb\\xa1\\x9c\\xeb\\x82\\x98\\xec\\x98\\xa8\\xec\\xb1\\x85</a></li>\\r\\n      <li><a href=\"javascript:main_book_display(2,1);\">\\xeb\\xb2\\xa0\\xec\\x8a\\xa4\\xed\\x8a\\xb8\\xec\\x85\\x80\\xeb\\x9f\\xac</a></li>\\r\\n    </ul>\\r\\n  </div>\\r\\n  <!-- //\\xed\\x83\\xad\\xeb\\xa9\\x94\\xeb\\x89\\xb4 -->\\r\\n  \\r\\n  <!-- \\xec\\xb1\\x85 \\xeb\\xa6\\xac\\xec\\x8a\\xa4\\xed\\x8a\\xb8 -->\\r\\n  <div id=\"touchSlider_book_new_HBIT\">\\r\\n    <ul>\\r\\n      <li>\\r\\n        <div class=\"main_book_list\">\\r\\n                  <div class=\"view_box\">\\r\\n            <span class=\"view_box_block\">\\r\\n              <span class=\"img_hidden_m\">\\r\\n                <span class=\"pop_quick_menu\">\\r\\n                  <a href=\"/store/books/look.php?p_code=B7628794939\"><img src=\"/images/common/icon_view_detail.png\" alt=\"\\xec\\x83\\x81\\xec\\x84\\xb8\\xeb\\xb3\\xb4\\xea\\xb8\\xb0\" /></a>\\r\\n                                    <a href=\"javascript:;\" onClick=\"addCart(\\'B7628794939\\',\\'\\',\\'1\\',\\'\\');\"><img src=\"/images/common/icon_add_cart.png\" alt=\"\\xec\\x9e\\xa5\\xeb\\xb0\\x94\\xea\\xb5\\xac\\xeb\\x8b\\x88 \\xeb\\x8b\\xb4\\xea\\xb8\\xb0\" /></a>\\r\\n                                  </span>\\r\\n                <span class=\"price\">36,000<span>\\xec\\x9b\\x90</span></span>\\r\\n                <span class=\"pop_quick_bg\" onClick=\"location=\\'/store/books/look.php?p_code=B7628794939\\'\"></span>\\r\\n              </span>\\r\\n                                                        <img src=\"/data/books/B7628794939_m.jpg\" alt=\"\\xeb\\xa7\\x8c\\xeb\\x93\\xa4\\xeb\\xa9\\xb4\\xec\\x84\\x9c \\xeb\\xb0\\xb0\\xec\\x9a\\xb0\\xeb\\x8a\\x94 \\xed\\x8c\\x8c\\xec\\x9d\\xb4\\xed\\x86\\xa0\\xec\\xb9\\x98 \\xeb\\x94\\xa5\\xeb\\x9f\\xac\\xeb\\x8b\\x9d\" class=\"thumb\" />\\r\\n                          </span>\\r\\n          </div>\\r\\n                  <div class=\"view_box\">\\r\\n            <span class=\"view_box_block\">\\r\\n              <span class=\"img_hidden_m\">\\r\\n                <span class=\"pop_quick_menu\">\\r\\n                  <a href=\"/store/books/look.php?p_code=B9783423109\"><img src=\"/images/common/icon_view_detail.png\" alt=\"\\xec\\x83\\x81\\xec\\x84\\xb8\\xeb\\xb3\\xb4\\xea\\xb8\\xb0\" /></a>\\r\\n                                    <a href=\"javascript:;\" onClick=\"addCart(\\'B9783423109\\',\\'\\',\\'1\\',\\'\\');\"><img src=\"/images/common/icon_add_cart.png\" alt=\"\\xec\\x9e\\xa5\\xeb\\xb0\\x94\\xea\\xb5\\xac\\xeb\\x8b\\x88 \\xeb\\x8b\\xb4\\xea\\xb8\\xb0\" /></a>\\r\\n                                  </span>\\r\\n                <span class=\"price\">19,800<span>\\xec\\x9b\\x90</span></span>\\r\\n                <span class=\"pop_quick_bg\" onClick=\"location=\\'/store/books/look.php?p_code=B9783423109\\'\"></span>\\r\\n              </span>\\r\\n                                                        <img src=\"/data/books/B9783423109_m.jpg\" alt=\"\\xec\\x8b\\xa4\\xeb\\xa6\\xac\\xec\\xbd\\x98\\xeb\\xb0\\xb8\\xeb\\xa6\\xac \\xeb\\xa6\\xac\\xeb\\x8d\\x94\\xec\\x8b\\xad\" class=\"thumb\" />\\r\\n                          </span>\\r\\n          </div>\\r\\n                  <div class=\"view_box\">\\r\\n            <span class=\"view_box_block\">\\r\\n              <span class=\"img_hidden_m\">\\r\\n                <span class=\"pop_quick_menu\">\\r\\n                  <a href=\"/store/books/look.php?p_code=B1598189984\"><img src=\"/images/common/icon_view_detail.png\" alt=\"\\xec\\x83\\x81\\xec\\x84\\xb8\\xeb\\xb3\\xb4\\xea\\xb8\\xb0\" /></a>\\r\\n                                    <a href=\"javascript:;\" onClick=\"addCart(\\'B1598189984\\',\\'\\',\\'1\\',\\'\\');\"><img src=\"/images/common/icon_add_cart.png\" alt=\"\\xec\\x9e\\xa5\\xeb\\xb0\\x94\\xea\\xb5\\xac\\xeb\\x8b\\x88 \\xeb\\x8b\\xb4\\xea\\xb8\\xb0\" /></a>\\r\\n                                  </span>\\r\\n                <span class=\"price\">24,300<span>\\xec\\x9b\\x90</span></span>\\r\\n                <span class=\"pop_quick_bg\" onClick=\"location=\\'/store/books/look.php?p_code=B1598189984\\'\"></span>\\r\\n              </span>\\r\\n                                                        <img src=\"/data/books/B1598189984_m.jpg\" alt=\"\\xec\\xb2\\x98\\xec\\x9d\\x8c \\xec\\x8b\\x9c\\xec\\x9e\\x91\\xed\\x95\\x98\\xeb\\x8a\\x94 \\xeb\\xa7\\x88\\xec\\x9d\\xb4\\xed\\x81\\xac\\xeb\\xa1\\x9c\\xec\\x84\\x9c\\xeb\\xb9\\x84\\xec\\x8a\\xa4\" class=\"thumb\" />\\r\\n                          </span>\\r\\n          </div>\\r\\n                  <div class=\"view_box\">\\r\\n            <span class=\"view_box_block\">\\r\\n              <span class=\"img_hidden_b\">\\r\\n                <span class=\"pop_quick_menu\">\\r\\n                  <a href=\"/store/books/look.php?p_code=B7123382765\"><img src=\"/images/common/icon_view_detail.png\" alt=\"\\xec\\x83\\x81\\xec\\x84\\xb8\\xeb\\xb3\\xb4\\xea\\xb8\\xb0\" /></a>\\r\\n                                                    </span>\\r\\n                <span class=\"price\">14,850<span>\\xec\\x9b\\x90</span></span>\\r\\n                <span class=\"pop_quick_bg\" onClick=\"location=\\'/store/books/look.php?p_code=B7123382765\\'\"></span>\\r\\n              </span>\\r\\n                                                        <img src=\"/data/books/B7123382765_m.jpg\" alt=\"\\xeb\\x88\\x88 \\xeb\\x96\\xa0\\xeb\\xb3\\xb4\\xeb\\x8b\\x88 \\xec\\x84\\xa0\\xec\\xa7\\x84\\xea\\xb5\\xad\" class=\"thumb\" />\\r\\n                          </span>\\r\\n          </div>\\r\\n                  <div class=\"view_box\">\\r\\n            <span class=\"view_box_block\">\\r\\n              <span class=\"img_hidden_m\">\\r\\n                <span class=\"pop_quick_menu\">\\r\\n                  <a href=\"/store/books/look.php?p_code=B2354289186\"><img src=\"/images/common/icon_view_detail.png\" alt=\"\\xec\\x83\\x81\\xec\\x84\\xb8\\xeb\\xb3\\xb4\\xea\\xb8\\xb0\" /></a>\\r\\n                                    <a href=\"javascript:;\" onClick=\"addCart(\\'B2354289186\\',\\'\\',\\'1\\',\\'\\');\"><img src=\"/images/common/icon_add_cart.png\" alt=\"\\xec\\x9e\\xa5\\xeb\\xb0\\x94\\xea\\xb5\\xac\\xeb\\x8b\\x88 \\xeb\\x8b\\xb4\\xea\\xb8\\xb0\" /></a>\\r\\n                                  </span>\\r\\n                <span class=\"price\">24,300<span>\\xec\\x9b\\x90</span></span>\\r\\n                <span class=\"pop_quick_bg\" onClick=\"location=\\'/store/books/look.php?p_code=B2354289186\\'\"></span>\\r\\n              </span>\\r\\n                                                        <img src=\"/data/books/B2354289186_m.jpg\" alt=\"\\xed\\x85\\x90\\xec\\x84\\x9c\\xed\\x94\\x8c\\xeb\\xa1\\x9c \\xeb\\x9d\\xbc\\xec\\x9d\\xb4\\xed\\x8a\\xb8\\xeb\\xa5\\xbc \\xed\\x99\\x9c\\xec\\x9a\\xa9\\xed\\x95\\x9c \\xec\\x95\\x88\\xeb\\x93\\x9c\\xeb\\xa1\\x9c\\xec\\x9d\\xb4\\xeb\\x93\\x9c \\xeb\\x94\\xa5\\xeb\\x9f\\xac\\xeb\\x8b\\x9d\" class=\"thumb\" />\\r\\n                          </span>\\r\\n          </div>\\r\\n        </div></li><li><div class=\\'main_book_list\\'>          <div class=\"view_box\">\\r\\n            <span class=\"view_box_block\">\\r\\n              <span class=\"img_hidden_m\">\\r\\n                <span class=\"pop_quick_menu\">\\r\\n                  <a href=\"/store/books/look.php?p_code=B9934227624\"><img src=\"/images/common/icon_view_detail.png\" alt=\"\\xec\\x83\\x81\\xec\\x84\\xb8\\xeb\\xb3\\xb4\\xea\\xb8\\xb0\" /></a>\\r\\n                                    <a href=\"javascript:;\" onClick=\"addCart(\\'B9934227624\\',\\'\\',\\'1\\',\\'\\');\"><img src=\"/images/common/icon_add_cart.png\" alt=\"\\xec\\x9e\\xa5\\xeb\\xb0\\x94\\xea\\xb5\\xac\\xeb\\x8b\\x88 \\xeb\\x8b\\xb4\\xea\\xb8\\xb0\" /></a>\\r\\n                                  </span>\\r\\n                <span class=\"price\">25,200<span>\\xec\\x9b\\x90</span></span>\\r\\n                <span class=\"pop_quick_bg\" onClick=\"location=\\'/store/books/look.php?p_code=B9934227624\\'\"></span>\\r\\n              </span>\\r\\n                                                        <img src=\"/data/books/B9934227624_m.jpg\" alt=\"\\xed\\x9a\\x8c\\xec\\x82\\xac\\xec\\x97\\x90\\xec\\x84\\x9c \\xeb\\xb0\\x94\\xeb\\xa1\\x9c \\xed\\x86\\xb5\\xed\\x95\\x98\\xeb\\x8a\\x94  \\xec\\x98\\xa4\\xed\\x86\\xa0\\xec\\xba\\x90\\xeb\\x93\\x9c AutoCAD 2022\" class=\"thumb\" />\\r\\n                          </span>\\r\\n          </div>\\r\\n                  <div class=\"view_box\">\\r\\n            <span class=\"view_box_block\">\\r\\n              <span class=\"img_hidden_b\">\\r\\n                <span class=\"pop_quick_menu\">\\r\\n                  <a href=\"/store/books/look.php?p_code=B3464803426\"><img src=\"/images/common/icon_view_detail.png\" alt=\"\\xec\\x83\\x81\\xec\\x84\\xb8\\xeb\\xb3\\xb4\\xea\\xb8\\xb0\" /></a>\\r\\n                                                    </span>\\r\\n                <span class=\"price\">22,500<span>\\xec\\x9b\\x90</span></span>\\r\\n                <span class=\"pop_quick_bg\" onClick=\"location=\\'/store/books/look.php?p_code=B3464803426\\'\"></span>\\r\\n              </span>\\r\\n                                                        <img src=\"/data/books/B3464803426_m.jpg\" alt=\"5\\xeb\\xa6\\xac\\xed\\x84\\xb0\\xec\\x9d\\x98 \\xed\\x94\\xbc\" class=\"thumb\" />\\r\\n                          </span>\\r\\n          </div>\\r\\n                  <div class=\"view_box\">\\r\\n            <span class=\"view_box_block\">\\r\\n              <span class=\"img_hidden_b\">\\r\\n                <span class=\"pop_quick_menu\">\\r\\n                  <a href=\"/store/books/look.php?p_code=B4332804661\"><img src=\"/images/common/icon_view_detail.png\" alt=\"\\xec\\x83\\x81\\xec\\x84\\xb8\\xeb\\xb3\\xb4\\xea\\xb8\\xb0\" /></a>\\r\\n                                                    </span>\\r\\n                <span class=\"price\">16,650<span>\\xec\\x9b\\x90</span></span>\\r\\n                <span class=\"pop_quick_bg\" onClick=\"location=\\'/store/books/look.php?p_code=B4332804661\\'\"></span>\\r\\n              </span>\\r\\n                                                        <img src=\"/data/books/B4332804661_m.jpg\" alt=\"\\xeb\\xaf\\xb8\\xea\\xb5\\xad\\xec\\xa3\\xbc\\xec\\x8b\\x9d \\xec\\x8a\\xa4\\xed\\x8c\\xa9\\xed\\x88\\xac\\xec\\x9e\\x90\\xeb\\xb2\\x95\" class=\"thumb\" />\\r\\n                          </span>\\r\\n          </div>\\r\\n                  <div class=\"view_box\">\\r\\n            <span class=\"view_box_block\">\\r\\n              <span class=\"img_hidden_e\">\\r\\n                <span class=\"pop_quick_menu\">\\r\\n                  <a href=\"/store/books/look.php?p_code=B3130478771\"><img src=\"/images/common/icon_view_detail.png\" alt=\"\\xec\\x83\\x81\\xec\\x84\\xb8\\xeb\\xb3\\xb4\\xea\\xb8\\xb0\" /></a>\\r\\n                                    <a href=\"javascript:;\" onClick=\"addCart(\\'B3130478771\\',\\'\\',\\'1\\',\\'\\');\"><img src=\"/images/common/icon_add_cart.png\" alt=\"\\xec\\x9e\\xa5\\xeb\\xb0\\x94\\xea\\xb5\\xac\\xeb\\x8b\\x88 \\xeb\\x8b\\xb4\\xea\\xb8\\xb0\" /></a>\\r\\n                                  </span>\\r\\n                <span class=\"price\">6,750<span>\\xec\\x9b\\x90</span></span>\\r\\n                <span class=\"pop_quick_bg\" onClick=\"location=\\'/store/books/look.php?p_code=B3130478771\\'\"></span>\\r\\n              </span>\\r\\n                                                        <img src=\"/data/books/B3130478771_m.jpg\" alt=\"\\xec\\x9e\\xac\\xeb\\xaf\\xb8\\xec\\x9e\\x88\\xea\\xb3\\xa0 \\xeb\\xb9\\xa0\\xeb\\xa5\\xb8 \\xec\\x88\\xab\\xec\\x9e\\x90 \\xec\\x93\\xb0\\xea\\xb8\\xb0 1\\xea\\xb6\\x8c : 0\\xeb\\xb6\\x80\\xed\\x84\\xb0 50\\xea\\xb9\\x8c\\xec\\xa7\\x80\" class=\"thumb\" />\\r\\n                          </span>\\r\\n          </div>\\r\\n                  <div class=\"view_box\">\\r\\n            <span class=\"view_box_block\">\\r\\n              <span class=\"img_hidden_e\">\\r\\n                <span class=\"pop_quick_menu\">\\r\\n                  <a href=\"/store/books/look.php?p_code=B8498015749\"><img src=\"/images/common/icon_view_detail.png\" alt=\"\\xec\\x83\\x81\\xec\\x84\\xb8\\xeb\\xb3\\xb4\\xea\\xb8\\xb0\" /></a>\\r\\n                                    <a href=\"javascript:;\" onClick=\"addCart(\\'B8498015749\\',\\'\\',\\'1\\',\\'\\');\"><img src=\"/images/common/icon_add_cart.png\" alt=\"\\xec\\x9e\\xa5\\xeb\\xb0\\x94\\xea\\xb5\\xac\\xeb\\x8b\\x88 \\xeb\\x8b\\xb4\\xea\\xb8\\xb0\" /></a>\\r\\n                                  </span>\\r\\n                <span class=\"price\">6,750<span>\\xec\\x9b\\x90</span></span>\\r\\n                <span class=\"pop_quick_bg\" onClick=\"location=\\'/store/books/look.php?p_code=B8498015749\\'\"></span>\\r\\n              </span>\\r\\n                                                        <img src=\"/data/books/B8498015749_m.jpg\" alt=\"\\xec\\x9e\\xac\\xeb\\xaf\\xb8\\xec\\x9e\\x88\\xea\\xb3\\xa0 \\xeb\\xb9\\xa0\\xeb\\xa5\\xb8 \\xec\\x88\\xab\\xec\\x9e\\x90 \\xec\\x93\\xb0\\xea\\xb8\\xb0 2\\xea\\xb6\\x8c : 0\\xeb\\xb6\\x80\\xed\\x84\\xb0 100\\xea\\xb9\\x8c\\xec\\xa7\\x80\" class=\"thumb\" />\\r\\n                          </span>\\r\\n          </div>\\r\\n        </div></li><li><div class=\\'main_book_list\\'>          <div class=\"view_box\">\\r\\n            <span class=\"view_box_block\">\\r\\n              <span class=\"img_hidden_e\">\\r\\n                <span class=\"pop_quick_menu\">\\r\\n                  <a href=\"/store/books/look.php?p_code=B9329914886\"><img src=\"/images/common/icon_view_detail.png\" alt=\"\\xec\\x83\\x81\\xec\\x84\\xb8\\xeb\\xb3\\xb4\\xea\\xb8\\xb0\" /></a>\\r\\n                                    <a href=\"javascript:;\" onClick=\"addCart(\\'B9329914886\\',\\'\\',\\'1\\',\\'\\');\"><img src=\"/images/common/icon_add_cart.png\" alt=\"\\xec\\x9e\\xa5\\xeb\\xb0\\x94\\xea\\xb5\\xac\\xeb\\x8b\\x88 \\xeb\\x8b\\xb4\\xea\\xb8\\xb0\" /></a>\\r\\n                                  </span>\\r\\n                <span class=\"price\">6,750<span>\\xec\\x9b\\x90</span></span>\\r\\n                <span class=\"pop_quick_bg\" onClick=\"location=\\'/store/books/look.php?p_code=B9329914886\\'\"></span>\\r\\n              </span>\\r\\n                                                        <img src=\"/data/books/B9329914886_m.jpg\" alt=\"\\xec\\x9e\\xac\\xeb\\xaf\\xb8\\xec\\x9e\\x88\\xea\\xb3\\xa0 \\xeb\\xb9\\xa0\\xeb\\xa5\\xb8 \\xec\\x95\\x8c\\xed\\x8c\\x8c\\xeb\\xb2\\xb3 \\xec\\x93\\xb0\\xea\\xb8\\xb0\" class=\"thumb\" />\\r\\n                          </span>\\r\\n          </div>\\r\\n                  <div class=\"view_box\">\\r\\n            <span class=\"view_box_block\">\\r\\n              <span class=\"img_hidden_m\">\\r\\n                <span class=\"pop_quick_menu\">\\r\\n                  <a href=\"/store/books/look.php?p_code=B3467206212\"><img src=\"/images/common/icon_view_detail.png\" alt=\"\\xec\\x83\\x81\\xec\\x84\\xb8\\xeb\\xb3\\xb4\\xea\\xb8\\xb0\" /></a>\\r\\n                                    <a href=\"javascript:;\" onClick=\"addCart(\\'B3467206212\\',\\'\\',\\'1\\',\\'\\');\"><img src=\"/images/common/icon_add_cart.png\" alt=\"\\xec\\x9e\\xa5\\xeb\\xb0\\x94\\xea\\xb5\\xac\\xeb\\x8b\\x88 \\xeb\\x8b\\xb4\\xea\\xb8\\xb0\" /></a>\\r\\n                                  </span>\\r\\n                <span class=\"price\">12,420<span>\\xec\\x9b\\x90</span></span>\\r\\n                <span class=\"pop_quick_bg\" onClick=\"location=\\'/store/books/look.php?p_code=B3467206212\\'\"></span>\\r\\n              </span>\\r\\n                                                        <img src=\"/data/books/B3467206212_m.jpg\" alt=\"\\xec\\x9d\\xb4\\xea\\xb8\\xb0\\xec\\xa0\\x81\\xec\\x9d\\xb4\\xeb\\x9d\\xbc \\xec\\x82\\xb4\\xec\\x95\\x84\\xeb\\x82\\xa8\\xec\\x95\\x98\\xec\\x8a\\xb5\\xeb\\x8b\\x88\\xeb\\x8b\\xa4\" class=\"thumb\" />\\r\\n                          </span>\\r\\n          </div>\\r\\n                  <div class=\"view_box\">\\r\\n            <span class=\"view_box_block\">\\r\\n              <span class=\"img_hidden_a\">\\r\\n                <span class=\"pop_quick_menu\">\\r\\n                  <a href=\"/store/books/look.php?p_code=B2179952545\"><img src=\"/images/common/icon_view_detail.png\" alt=\"\\xec\\x83\\x81\\xec\\x84\\xb8\\xeb\\xb3\\xb4\\xea\\xb8\\xb0\" /></a>\\r\\n                                                    </span>\\r\\n                <span class=\"price\">38,000<span>\\xec\\x9b\\x90</span></span>\\r\\n                <span class=\"pop_quick_bg\" onClick=\"location=\\'/store/books/look.php?p_code=B2179952545\\'\"></span>\\r\\n              </span>\\r\\n                                                        <img src=\"/data/books/B2179952545_m.jpg\" alt=\"\\xeb\\xb9\\x84\\xec\\xa6\\x88\\xeb\\x8b\\x88\\xec\\x8a\\xa4 \\xec\\x95\\xa0\\xeb\\x84\\x90\\xeb\\xa6\\xac\\xed\\x8b\\xb1\\xec\\x8a\\xa4\" class=\"thumb\" />\\r\\n                          </span>\\r\\n          </div>\\r\\n                  <div class=\"view_box\">\\r\\n            <span class=\"view_box_block\">\\r\\n              <span class=\"img_hidden_m\">\\r\\n                <span class=\"pop_quick_menu\">\\r\\n                  <a href=\"/store/books/look.php?p_code=B1047091568\"><img src=\"/images/common/icon_view_detail.png\" alt=\"\\xec\\x83\\x81\\xec\\x84\\xb8\\xeb\\xb3\\xb4\\xea\\xb8\\xb0\" /></a>\\r\\n                                    <a href=\"javascript:;\" onClick=\"addCart(\\'B1047091568\\',\\'\\',\\'1\\',\\'\\');\"><img src=\"/images/common/icon_add_cart.png\" alt=\"\\xec\\x9e\\xa5\\xeb\\xb0\\x94\\xea\\xb5\\xac\\xeb\\x8b\\x88 \\xeb\\x8b\\xb4\\xea\\xb8\\xb0\" /></a>\\r\\n                                  </span>\\r\\n                <span class=\"price\">34,200<span>\\xec\\x9b\\x90</span></span>\\r\\n                <span class=\"pop_quick_bg\" onClick=\"location=\\'/store/books/look.php?p_code=B1047091568\\'\"></span>\\r\\n              </span>\\r\\n                                                        <img src=\"/data/books/B1047091568_m.jpg\" alt=\"\\xec\\x8a\\xa4\\xeb\\xb2\\xa8\\xed\\x8a\\xb8 \\xec\\x95\\xa4 \\xec\\x83\\x88\\xed\\x8d\\xbc \\xec\\x9d\\xb8 \\xec\\x95\\xa1\\xec\\x85\\x98\" class=\"thumb\" />\\r\\n                          </span>\\r\\n          </div>\\r\\n                  <div class=\"view_box\">\\r\\n            <span class=\"view_box_block\">\\r\\n              <span class=\"img_hidden_a\">\\r\\n                <span class=\"pop_quick_menu\">\\r\\n                  <a href=\"/store/books/look.php?p_code=B2499110389\"><img src=\"/images/common/icon_view_detail.png\" alt=\"\\xec\\x83\\x81\\xec\\x84\\xb8\\xeb\\xb3\\xb4\\xea\\xb8\\xb0\" /></a>\\r\\n                                                    </span>\\r\\n                <span class=\"price\">30,000<span>\\xec\\x9b\\x90</span></span>\\r\\n                <span class=\"pop_quick_bg\" onClick=\"location=\\'/store/books/look.php?p_code=B2499110389\\'\"></span>\\r\\n              </span>\\r\\n                                                        <img src=\"/data/books/B2499110389_m.jpg\" alt=\"STEM CookBook, \\xeb\\xac\\xb8\\xec\\xa0\\x9c \\xed\\x95\\xb4\\xea\\xb2\\xb0\\xeb\\xa0\\xa5\\xec\\x9d\\x84 \\xed\\x82\\xa4\\xec\\x9a\\xb0\\xeb\\x8a\\x94 \\xec\\xa0\\x95\\xec\\x97\\xad\\xed\\x95\\x99\" class=\"thumb\" />\\r\\n                          </span>\\r\\n          </div>\\r\\n        </div></li>  \\r\\n        </div>\\r\\n      </li>\\r\\n    </ul>\\r\\n  </div>\\r\\n  <div id=\"main_book_btn_new_HBIT\">\\r\\n    <div class=\"btn_book_left\"><a href=\"javascript:;\" class=\"btn_book_prev\" onmouseover=\"view_hover(\\'main_book_btn\\',\\'\\',\\'show\\')\" onmouseout=\"view_hover(\\'main_book_btn\\',\\'\\',\\'hide\\')\"></a></div>\\r\\n    <div class=\"btn_book_right\"><a href=\"javascript:;\" class=\"btn_book_next\" onmouseover=\"view_hover(\\'main_book_btn\\',\\'\\',\\'show\\')\" onmouseout=\"view_hover(\\'main_book_btn\\',\\'\\',\\'hide\\')\"></a></div>\\r\\n  </div>\\r\\n  <div class=\"btn_book_area_page\" style=\"text-align:center;\">\\r\\n    <div class=\"btn_book_page\">paging</div>\\r\\n  </div>\\r\\n  <!-- //\\xec\\xb1\\x85 \\xeb\\xa6\\xac\\xec\\x8a\\xa4\\xed\\x8a\\xb8 -->\\r\\n  \\r\\n  <div class=\"btn_more\"><a href=\"/store/books/new_book_list.html\"><span>\\xeb\\x8d\\x94\\xeb\\xb3\\xb4\\xea\\xb8\\xb0</span></a></div>\\r\\n</section>\\r\\n<!-- //\\xeb\\xa9\\x94\\xec\\x9d\\xb8 \\xec\\x83\\x88\\xeb\\xa1\\x9c\\xeb\\x82\\x98\\xec\\x98\\xa8 \\xec\\xb1\\x85-\\xed\\x86\\xb5\\xed\\x95\\xa9 -->\\r\\n\\r\\n\\r\\n<!-- \\xeb\\xa9\\x94\\xec\\x9d\\xb8 \\xeb\\xb2\\xa0\\xec\\x8a\\xa4\\xed\\x8a\\xb8\\xec\\x85\\x80\\xeb\\x9f\\xac -->\\r\\n<section id=\"hbmain_book_area_best_HBIT\" name=\"hbmain_book_area_best_HBIT\" style=\"display:none;\" onmouseover=\"view_hover(\\'main_book_btn_best_HBIT\\',\\'\\',\\'show\\')\" onmouseout=\"view_hover(\\'main_book_btn_best_HBIT\\',\\'\\',\\'hide\\')\">\\r\\n  <!-- \\xed\\x83\\xad\\xeb\\xa9\\x94\\xeb\\x89\\xb4 -->\\r\\n  <div class=\"m_tab\">\\r\\n    <ul class=\"m_tab_menu\">\\r\\n      <li><a href=\"javascript:main_book_display(1,1);\">\\xec\\x83\\x88\\xeb\\xa1\\x9c\\xeb\\x82\\x98\\xec\\x98\\xa8\\xec\\xb1\\x85</a></li>\\r\\n      <li><a href=\"javascript:main_book_display(2,1);\" class=\"curr\">\\xeb\\xb2\\xa0\\xec\\x8a\\xa4\\xed\\x8a\\xb8\\xec\\x85\\x80\\xeb\\x9f\\xac</a></li>\\r\\n    </ul>\\r\\n  </div>\\r\\n  <!-- //\\xed\\x83\\xad\\xeb\\xa9\\x94\\xeb\\x89\\xb4 -->\\r\\n  \\r\\n  <!-- \\xec\\xb1\\x85 \\xeb\\xa6\\xac\\xec\\x8a\\xa4\\xed\\x8a\\xb8 -->\\r\\n  <div id=\"touchSlider_book_best_HBIT\">\\r\\n    <ul>\\r\\n      <li>\\r\\n        <div class=\"main_book_list\">\\r\\n                  <div class=\"view_box\">\\r\\n            <span class=\"view_box_block\">\\r\\n              <span class=\"img_hidden_m\">\\r\\n                <span class=\"pop_quick_menu\">\\r\\n                  <a href=\"/store/books/look.php?p_code=B2587075793\"><img src=\"/images/common/icon_view_detail.png\" alt=\"\\xec\\x83\\x81\\xec\\x84\\xb8\\xeb\\xb3\\xb4\\xea\\xb8\\xb0\" /></a>\\r\\n                                    <a href=\"javascript:;\" onClick=\"addCart(\\'B2587075793\\',\\'\\',\\'1\\',\\'\\');\"><img src=\"/images/common/icon_add_cart.png\" alt=\"\\xec\\x9e\\xa5\\xeb\\xb0\\x94\\xea\\xb5\\xac\\xeb\\x8b\\x88 \\xeb\\x8b\\xb4\\xea\\xb8\\xb0\" /></a>\\r\\n                                  </span>\\r\\n                <span class=\"price\">16,200<span>\\xec\\x9b\\x90</span></span>\\r\\n                <span class=\"pop_quick_bg\" onClick=\"location=\\'/store/books/look.php?p_code=B2587075793\\'\"></span>\\r\\n              </span>\\r\\n                                          <img src=\"/data/books/B2587075793_m.jpg\" alt=\"\\xed\\x98\\xbc\\xec\\x9e\\x90 \\xea\\xb3\\xb5\\xeb\\xb6\\x80\\xed\\x95\\x98\\xeb\\x8a\\x94 \\xed\\x8c\\x8c\\xec\\x9d\\xb4\\xec\\x8d\\xac\" class=\"thumb\" />\\r\\n                          </span>\\r\\n          </div>\\r\\n                  <div class=\"view_box\">\\r\\n            <span class=\"view_box_block\">\\r\\n              <span class=\"img_hidden_m\">\\r\\n                <span class=\"pop_quick_menu\">\\r\\n                  <a href=\"/store/books/look.php?p_code=B2002963743\"><img src=\"/images/common/icon_view_detail.png\" alt=\"\\xec\\x83\\x81\\xec\\x84\\xb8\\xeb\\xb3\\xb4\\xea\\xb8\\xb0\" /></a>\\r\\n                                    <a href=\"javascript:;\" onClick=\"addCart(\\'B2002963743\\',\\'\\',\\'1\\',\\'\\');\"><img src=\"/images/common/icon_add_cart.png\" alt=\"\\xec\\x9e\\xa5\\xeb\\xb0\\x94\\xea\\xb5\\xac\\xeb\\x8b\\x88 \\xeb\\x8b\\xb4\\xea\\xb8\\xb0\" /></a>\\r\\n                                  </span>\\r\\n                <span class=\"price\">23,400<span>\\xec\\x9b\\x90</span></span>\\r\\n                <span class=\"pop_quick_bg\" onClick=\"location=\\'/store/books/look.php?p_code=B2002963743\\'\"></span>\\r\\n              </span>\\r\\n                                          <img src=\"/data/books/B2002963743_m.jpg\" alt=\"\\xed\\x98\\xbc\\xec\\x9e\\x90 \\xea\\xb3\\xb5\\xeb\\xb6\\x80\\xed\\x95\\x98\\xeb\\x8a\\x94 \\xeb\\xa8\\xb8\\xec\\x8b\\xa0\\xeb\\x9f\\xac\\xeb\\x8b\\x9d+\\xeb\\x94\\xa5\\xeb\\x9f\\xac\\xeb\\x8b\\x9d\" class=\"thumb\" />\\r\\n                          </span>\\r\\n          </div>\\r\\n                  <div class=\"view_box\">\\r\\n            <span class=\"view_box_block\">\\r\\n              <span class=\"img_hidden_a\">\\r\\n                <span class=\"pop_quick_menu\">\\r\\n                  <a href=\"/store/books/look.php?p_code=B4295361584\"><img src=\"/images/common/icon_view_detail.png\" alt=\"\\xec\\x83\\x81\\xec\\x84\\xb8\\xeb\\xb3\\xb4\\xea\\xb8\\xb0\" /></a>\\r\\n                                                    </span>\\r\\n                <span class=\"price\">29,000<span>\\xec\\x9b\\x90</span></span>\\r\\n                <span class=\"pop_quick_bg\" onClick=\"location=\\'/store/books/look.php?p_code=B4295361584\\'\"></span>\\r\\n              </span>\\r\\n                                          <img src=\"/data/books/B4295361584_m.jpg\" alt=\"IT CookBook, \\xec\\xb4\\x88\\xec\\x97\\xb0\\xea\\xb2\\xb0 \\xec\\x82\\xac\\xed\\x9a\\x8c\\xec\\x9d\\x98 \\xeb\\x8d\\xb0\\xec\\x9d\\xb4\\xed\\x84\\xb0\\xed\\x86\\xb5\\xec\\x8b\\xa0\\xea\\xb3\\xbc \\xeb\\x84\\xa4\\xed\\x8a\\xb8\\xec\\x9b\\x8c\\xed\\x82\\xb9\" class=\"thumb\" />\\r\\n                          </span>\\r\\n          </div>\\r\\n                  <div class=\"view_box\">\\r\\n            <span class=\"view_box_block\">\\r\\n              <span class=\"img_hidden_b\">\\r\\n                <span class=\"pop_quick_menu\">\\r\\n                  <a href=\"/store/books/look.php?p_code=B6068039583\"><img src=\"/images/common/icon_view_detail.png\" alt=\"\\xec\\x83\\x81\\xec\\x84\\xb8\\xeb\\xb3\\xb4\\xea\\xb8\\xb0\" /></a>\\r\\n                                                    </span>\\r\\n                <span class=\"price\">30,150<span>\\xec\\x9b\\x90</span></span>\\r\\n                <span class=\"pop_quick_bg\" onClick=\"location=\\'/store/books/look.php?p_code=B6068039583\\'\"></span>\\r\\n              </span>\\r\\n                                          <img src=\"/data/books/B6068039583_m.jpg\" alt=\"\\xeb\\x8c\\x80\\xed\\x95\\x9c\\xeb\\xaf\\xbc\\xea\\xb5\\xad \\xeb\\xb6\\x80\\xeb\\x8f\\x99\\xec\\x82\\xb0 \\xeb\\xaf\\xb8\\xeb\\x9e\\x98\\xec\\xa7\\x80\\xeb\\x8f\\x84\" class=\"thumb\" />\\r\\n                          </span>\\r\\n          </div>\\r\\n                  <div class=\"view_box\">\\r\\n            <span class=\"view_box_block\">\\r\\n              <span class=\"img_hidden_a\">\\r\\n                <span class=\"pop_quick_menu\">\\r\\n                  <a href=\"/store/books/look.php?p_code=B1710834745\"><img src=\"/images/common/icon_view_detail.png\" alt=\"\\xec\\x83\\x81\\xec\\x84\\xb8\\xeb\\xb3\\xb4\\xea\\xb8\\xb0\" /></a>\\r\\n                                                    </span>\\r\\n                <span class=\"price\">35,000<span>\\xec\\x9b\\x90</span></span>\\r\\n                <span class=\"pop_quick_bg\" onClick=\"location=\\'/store/books/look.php?p_code=B1710834745\\'\"></span>\\r\\n              </span>\\r\\n                                          <img src=\"/data/books/B1710834745_m.jpg\" alt=\"\\xed\\x94\\x84\\xeb\\xa6\\xac\\xeb\\x93\\x9c\\xeb\\xb2\\x84\\xea\\xb7\\xb8 \\xec\\x84\\xa0\\xed\\x98\\x95\\xeb\\x8c\\x80\\xec\\x88\\x98\\xed\\x95\\x99\" class=\"thumb\" />\\r\\n                          </span>\\r\\n          </div>\\r\\n        </div></li><li><div class=\\'main_book_list\\'>          <div class=\"view_box\">\\r\\n            <span class=\"view_box_block\">\\r\\n              <span class=\"img_hidden_m\">\\r\\n                <span class=\"pop_quick_menu\">\\r\\n                  <a href=\"/store/books/look.php?p_code=B8945183661\"><img src=\"/images/common/icon_view_detail.png\" alt=\"\\xec\\x83\\x81\\xec\\x84\\xb8\\xeb\\xb3\\xb4\\xea\\xb8\\xb0\" /></a>\\r\\n                                    <a href=\"javascript:;\" onClick=\"addCart(\\'B8945183661\\',\\'\\',\\'1\\',\\'\\');\"><img src=\"/images/common/icon_add_cart.png\" alt=\"\\xec\\x9e\\xa5\\xeb\\xb0\\x94\\xea\\xb5\\xac\\xeb\\x8b\\x88 \\xeb\\x8b\\xb4\\xea\\xb8\\xb0\" /></a>\\r\\n                                  </span>\\r\\n                <span class=\"price\">30,600<span>\\xec\\x9b\\x90</span></span>\\r\\n                <span class=\"pop_quick_bg\" onClick=\"location=\\'/store/books/look.php?p_code=B8945183661\\'\"></span>\\r\\n              </span>\\r\\n                                          <img src=\"/data/books/B8945183661_m.jpg\" alt=\"\\xec\\x9d\\xb4\\xea\\xb2\\x83\\xec\\x9d\\xb4 \\xec\\xb7\\xa8\\xec\\x97\\x85\\xec\\x9d\\x84 \\xec\\x9c\\x84\\xed\\x95\\x9c \\xec\\xbd\\x94\\xeb\\x94\\xa9 \\xed\\x85\\x8c\\xec\\x8a\\xa4\\xed\\x8a\\xb8\\xeb\\x8b\\xa4 with \\xed\\x8c\\x8c\\xec\\x9d\\xb4\\xec\\x8d\\xac\" class=\"thumb\" />\\r\\n                          </span>\\r\\n          </div>\\r\\n                  <div class=\"view_box\">\\r\\n            <span class=\"view_box_block\">\\r\\n              <span class=\"img_hidden_m\">\\r\\n                <span class=\"pop_quick_menu\">\\r\\n                  <a href=\"/store/books/look.php?p_code=B6988001706\"><img src=\"/images/common/icon_view_detail.png\" alt=\"\\xec\\x83\\x81\\xec\\x84\\xb8\\xeb\\xb3\\xb4\\xea\\xb8\\xb0\" /></a>\\r\\n                                    <a href=\"javascript:;\" onClick=\"addCart(\\'B6988001706\\',\\'\\',\\'1\\',\\'\\');\"><img src=\"/images/common/icon_add_cart.png\" alt=\"\\xec\\x9e\\xa5\\xeb\\xb0\\x94\\xea\\xb5\\xac\\xeb\\x8b\\x88 \\xeb\\x8b\\xb4\\xea\\xb8\\xb0\" /></a>\\r\\n                                  </span>\\r\\n                <span class=\"price\">20,700<span>\\xec\\x9b\\x90</span></span>\\r\\n                <span class=\"pop_quick_bg\" onClick=\"location=\\'/store/books/look.php?p_code=B6988001706\\'\"></span>\\r\\n              </span>\\r\\n                                          <img src=\"/data/books/B6988001706_m.jpg\" alt=\"\\xeb\\xa7\\x9b\\xec\\x9e\\x88\\xeb\\x8a\\x94 \\xeb\\x94\\x94\\xec\\x9e\\x90\\xec\\x9d\\xb8 \\xed\\x94\\x84\\xeb\\xa6\\xac\\xeb\\xaf\\xb8\\xec\\x96\\xb4 \\xed\\x94\\x84\\xeb\\xa1\\x9c&\\xec\\x95\\xa0\\xed\\x94\\x84\\xed\\x84\\xb0 \\xec\\x9d\\xb4\\xed\\x8e\\x99\\xed\\x8a\\xb8 CC 2021\" class=\"thumb\" />\\r\\n                          </span>\\r\\n          </div>\\r\\n                  <div class=\"view_box\">\\r\\n            <span class=\"view_box_block\">\\r\\n              <span class=\"img_hidden_l\">\\r\\n                <span class=\"pop_quick_menu\">\\r\\n                  <a href=\"/store/books/look.php?p_code=B6779771167\"><img src=\"/images/common/icon_view_detail.png\" alt=\"\\xec\\x83\\x81\\xec\\x84\\xb8\\xeb\\xb3\\xb4\\xea\\xb8\\xb0\" /></a>\\r\\n                                    <a href=\"javascript:;\" onClick=\"addCart(\\'B6779771167\\',\\'\\',\\'1\\',\\'\\');\"><img src=\"/images/common/icon_add_cart.png\" alt=\"\\xec\\x9e\\xa5\\xeb\\xb0\\x94\\xea\\xb5\\xac\\xeb\\x8b\\x88 \\xeb\\x8b\\xb4\\xea\\xb8\\xb0\" /></a>\\r\\n                                  </span>\\r\\n                <span class=\"price\">13,500<span>\\xec\\x9b\\x90</span></span>\\r\\n                <span class=\"pop_quick_bg\" onClick=\"location=\\'/store/books/look.php?p_code=B6779771167\\'\"></span>\\r\\n              </span>\\r\\n                                          <img src=\"/data/books/B6779771167_m.jpg\" alt=\"\\xea\\xb3\\xa0\\xea\\xb0\\x9c\\xeb\\xa5\\xbc \\xeb\\x81\\x84\\xeb\\x8d\\x95\\xec\\x9d\\xb4\\xeb\\x8a\\x94 \\xea\\xb2\\x83\\xeb\\xa7\\x8c\\xec\\x9c\\xbc\\xeb\\xa1\\x9c\\xeb\\x8f\\x84 \\xec\\x9c\\x84\\xeb\\xa1\\x9c\\xea\\xb0\\x80 \\xeb\\x90\\x98\\xeb\\x8b\\x88\\xea\\xb9\\x8c\" class=\"thumb\" />\\r\\n                          </span>\\r\\n          </div>\\r\\n                  <div class=\"view_box\">\\r\\n            <span class=\"view_box_block\">\\r\\n              <span class=\"img_hidden_b\">\\r\\n                <span class=\"pop_quick_menu\">\\r\\n                  <a href=\"/store/books/look.php?p_code=B9332880793\"><img src=\"/images/common/icon_view_detail.png\" alt=\"\\xec\\x83\\x81\\xec\\x84\\xb8\\xeb\\xb3\\xb4\\xea\\xb8\\xb0\" /></a>\\r\\n                                                    </span>\\r\\n                <span class=\"price\">17,820<span>\\xec\\x9b\\x90</span></span>\\r\\n                <span class=\"pop_quick_bg\" onClick=\"location=\\'/store/books/look.php?p_code=B9332880793\\'\"></span>\\r\\n              </span>\\r\\n                                          <img src=\"/data/books/B9332880793_m.jpg\" alt=\"\\xec\\xa7\\x80\\xea\\xb8\\x88 \\xeb\\x8b\\xb9\\xec\\x9e\\xa5 \\xed\\x9a\\x8c\\xea\\xb3\\x84\\xea\\xb3\\xb5\\xeb\\xb6\\x80 \\xec\\x8b\\x9c\\xec\\x9e\\x91\\xed\\x95\\x98\\xeb\\x9d\\xbc&#40;\\xec\\xa0\\x84\\xeb\\xa9\\xb4\\xea\\xb0\\x9c\\xec\\xa0\\x95\\xed\\x8c\\x90&#41;\" class=\"thumb\" />\\r\\n                          </span>\\r\\n          </div>\\r\\n                  <div class=\"view_box\">\\r\\n            <span class=\"view_box_block\">\\r\\n              <span class=\"img_hidden_l\">\\r\\n                <span class=\"pop_quick_menu\">\\r\\n                  <a href=\"/store/books/look.php?p_code=B7051031564\"><img src=\"/images/common/icon_view_detail.png\" alt=\"\\xec\\x83\\x81\\xec\\x84\\xb8\\xeb\\xb3\\xb4\\xea\\xb8\\xb0\" /></a>\\r\\n                                    <a href=\"javascript:;\" onClick=\"addCart(\\'B7051031564\\',\\'\\',\\'1\\',\\'\\');\"><img src=\"/images/common/icon_add_cart.png\" alt=\"\\xec\\x9e\\xa5\\xeb\\xb0\\x94\\xea\\xb5\\xac\\xeb\\x8b\\x88 \\xeb\\x8b\\xb4\\xea\\xb8\\xb0\" /></a>\\r\\n                                  </span>\\r\\n                <span class=\"price\">15,300<span>\\xec\\x9b\\x90</span></span>\\r\\n                <span class=\"pop_quick_bg\" onClick=\"location=\\'/store/books/look.php?p_code=B7051031564\\'\"></span>\\r\\n              </span>\\r\\n                                          <img src=\"/data/books/B7051031564_m.jpg\" alt=\"\\xeb\\xa6\\xac\\xec\\x96\\xbc \\xec\\xa0\\x9c\\xec\\xa3\\xbc [2021~2022\\xeb\\x85\\x84 \\xec\\xb5\\x9c\\xec\\x8b\\xa0\\xed\\x8c\\x90]\" class=\"thumb\" />\\r\\n                          </span>\\r\\n          </div>\\r\\n        </div></li><li><div class=\\'main_book_list\\'>          <div class=\"view_box\">\\r\\n            <span class=\"view_box_block\">\\r\\n              <span class=\"img_hidden_e\">\\r\\n                <span class=\"pop_quick_menu\">\\r\\n                  <a href=\"/store/books/look.php?p_code=B3024570365\"><img src=\"/images/common/icon_view_detail.png\" alt=\"\\xec\\x83\\x81\\xec\\x84\\xb8\\xeb\\xb3\\xb4\\xea\\xb8\\xb0\" /></a>\\r\\n                                    <a href=\"javascript:;\" onClick=\"addCart(\\'B3024570365\\',\\'\\',\\'1\\',\\'\\');\"><img src=\"/images/common/icon_add_cart.png\" alt=\"\\xec\\x9e\\xa5\\xeb\\xb0\\x94\\xea\\xb5\\xac\\xeb\\x8b\\x88 \\xeb\\x8b\\xb4\\xea\\xb8\\xb0\" /></a>\\r\\n                                  </span>\\r\\n                <span class=\"price\">5,400<span>\\xec\\x9b\\x90</span></span>\\r\\n                <span class=\"pop_quick_bg\" onClick=\"location=\\'/store/books/look.php?p_code=B3024570365\\'\"></span>\\r\\n              </span>\\r\\n                                          <img src=\"/data/books/B3024570365_m.jpg\" alt=\"\\xec\\x9e\\xac\\xeb\\xaf\\xb8\\xec\\x9e\\x88\\xea\\xb3\\xa0 \\xeb\\xb9\\xa0\\xeb\\xa5\\xb8 \\xec\\xb2\\xab \\xed\\x95\\x9c\\xea\\xb8\\x80 \\xec\\xa4\\x80\\xeb\\xb9\\x84 \\xec\\x84\\xa0 \\xea\\xb8\\x8b\\xea\\xb8\\xb0 2\\xea\\xb6\\x8c : \\xea\\xb8\\x80\\xec\\x9e\\x90 \\xeb\\xaa\\xa8\\xec\\x96\\x91 \\xeb\\x94\\xb0\\xeb\\x9d\\xbc \\xea\\xb8\\x8b\\xea\\xb8\\xb0\" class=\"thumb\" />\\r\\n                          </span>\\r\\n          </div>\\r\\n                  <div class=\"view_box\">\\r\\n            <span class=\"view_box_block\">\\r\\n              <span class=\"img_hidden_a\">\\r\\n                <span class=\"pop_quick_menu\">\\r\\n                  <a href=\"/store/books/look.php?p_code=B5471691739\"><img src=\"/images/common/icon_view_detail.png\" alt=\"\\xec\\x83\\x81\\xec\\x84\\xb8\\xeb\\xb3\\xb4\\xea\\xb8\\xb0\" /></a>\\r\\n                                                    </span>\\r\\n                <span class=\"price\">28,000<span>\\xec\\x9b\\x90</span></span>\\r\\n                <span class=\"pop_quick_bg\" onClick=\"location=\\'/store/books/look.php?p_code=B5471691739\\'\"></span>\\r\\n              </span>\\r\\n                                          <img src=\"/data/books/B5471691739_m.jpg\" alt=\"IT CookBook, \\xec\\x89\\xbd\\xea\\xb2\\x8c \\xeb\\xb0\\xb0\\xec\\x9a\\xb0\\xeb\\x8a\\x94 \\xec\\x9a\\xb4\\xec\\x98\\x81\\xec\\xb2\\xb4\\xec\\xa0\\x9c\" class=\"thumb\" />\\r\\n                          </span>\\r\\n          </div>\\r\\n                  <div class=\"view_box\">\\r\\n            <span class=\"view_box_block\">\\r\\n              <span class=\"img_hidden_m\">\\r\\n                <span class=\"pop_quick_menu\">\\r\\n                  <a href=\"/store/books/look.php?p_code=B7033438574\"><img src=\"/images/common/icon_view_detail.png\" alt=\"\\xec\\x83\\x81\\xec\\x84\\xb8\\xeb\\xb3\\xb4\\xea\\xb8\\xb0\" /></a>\\r\\n                                    <a href=\"javascript:;\" onClick=\"addCart(\\'B7033438574\\',\\'\\',\\'1\\',\\'\\');\"><img src=\"/images/common/icon_add_cart.png\" alt=\"\\xec\\x9e\\xa5\\xeb\\xb0\\x94\\xea\\xb5\\xac\\xeb\\x8b\\x88 \\xeb\\x8b\\xb4\\xea\\xb8\\xb0\" /></a>\\r\\n                                  </span>\\r\\n                <span class=\"price\">49,500<span>\\xec\\x9b\\x90</span></span>\\r\\n                <span class=\"pop_quick_bg\" onClick=\"location=\\'/store/books/look.php?p_code=B7033438574\\'\"></span>\\r\\n              </span>\\r\\n                                          <img src=\"/data/books/B7033438574_m.jpg\" alt=\"\\xed\\x95\\xb8\\xec\\xa6\\x88\\xec\\x98\\xa8 \\xeb\\xa8\\xb8\\xec\\x8b\\xa0\\xeb\\x9f\\xac\\xeb\\x8b\\x9d&#40;2\\xed\\x8c\\x90&#41;\" class=\"thumb\" />\\r\\n                          </span>\\r\\n          </div>\\r\\n                  <div class=\"view_box\">\\r\\n            <span class=\"view_box_block\">\\r\\n              <span class=\"img_hidden_m\">\\r\\n                <span class=\"pop_quick_menu\">\\r\\n                  <a href=\"/store/books/look.php?p_code=B7026921929\"><img src=\"/images/common/icon_view_detail.png\" alt=\"\\xec\\x83\\x81\\xec\\x84\\xb8\\xeb\\xb3\\xb4\\xea\\xb8\\xb0\" /></a>\\r\\n                                    <a href=\"javascript:;\" onClick=\"addCart(\\'B7026921929\\',\\'\\',\\'1\\',\\'\\');\"><img src=\"/images/common/icon_add_cart.png\" alt=\"\\xec\\x9e\\xa5\\xeb\\xb0\\x94\\xea\\xb5\\xac\\xeb\\x8b\\x88 \\xeb\\x8b\\xb4\\xea\\xb8\\xb0\" /></a>\\r\\n                                  </span>\\r\\n                <span class=\"price\">28,800<span>\\xec\\x9b\\x90</span></span>\\r\\n                <span class=\"pop_quick_bg\" onClick=\"location=\\'/store/books/look.php?p_code=B7026921929\\'\"></span>\\r\\n              </span>\\r\\n                                          <img src=\"/data/books/B7026921929_m.jpg\" alt=\"\\xed\\x8c\\x8c\\xec\\x9d\\xb4\\xec\\x8d\\xac \\xec\\xa6\\x9d\\xea\\xb6\\x8c \\xeb\\x8d\\xb0\\xec\\x9d\\xb4\\xed\\x84\\xb0 \\xeb\\xb6\\x84\\xec\\x84\\x9d\" class=\"thumb\" />\\r\\n                          </span>\\r\\n          </div>\\r\\n                  <div class=\"view_box\">\\r\\n            <span class=\"view_box_block\">\\r\\n              <span class=\"img_hidden_m\">\\r\\n                <span class=\"pop_quick_menu\">\\r\\n                  <a href=\"/store/books/look.php?p_code=B6952616555\"><img src=\"/images/common/icon_view_detail.png\" alt=\"\\xec\\x83\\x81\\xec\\x84\\xb8\\xeb\\xb3\\xb4\\xea\\xb8\\xb0\" /></a>\\r\\n                                    <a href=\"javascript:;\" onClick=\"addCart(\\'B6952616555\\',\\'\\',\\'1\\',\\'\\');\"><img src=\"/images/common/icon_add_cart.png\" alt=\"\\xec\\x9e\\xa5\\xeb\\xb0\\x94\\xea\\xb5\\xac\\xeb\\x8b\\x88 \\xeb\\x8b\\xb4\\xea\\xb8\\xb0\" /></a>\\r\\n                                  </span>\\r\\n                <span class=\"price\">31,500<span>\\xec\\x9b\\x90</span></span>\\r\\n                <span class=\"pop_quick_bg\" onClick=\"location=\\'/store/books/look.php?p_code=B6952616555\\'\"></span>\\r\\n              </span>\\r\\n                                          <img src=\"/data/books/B6952616555_m.jpg\" alt=\"\\xeb\\xa6\\xac\\xed\\x8c\\xa9\\xed\\x84\\xb0\\xeb\\xa7\\x81 2\\xed\\x8c\\x90 &#40;\\xeb\\xa6\\xac\\xed\\x8c\\xa9\\xed\\x86\\xa0\\xeb\\xa7\\x81 \\xea\\xb0\\x9c\\xec\\xa0\\x95\\xed\\x8c\\x90&#41;\" class=\"thumb\" />\\r\\n                          </span>\\r\\n          </div>\\r\\n        </div></li>        </div>\\r\\n      </li>\\r\\n      \\r\\n    </ul>\\r\\n  </div>\\r\\n  \\r\\n  <div id=\"main_book_btn_best_HBIT\">\\r\\n    <div class=\"btn_book_left\"><a href=\"javascript:;\" class=\"btn_book_prev\" onmouseover=\"view_hover(\\'main_book_btn\\',\\'\\',\\'show\\')\" onmouseout=\"view_hover(\\'main_book_btn\\',\\'\\',\\'hide\\')\"></a></div>\\r\\n    <div class=\"btn_book_right\"><a href=\"javascript:;\" class=\"btn_book_next\" onmouseover=\"view_hover(\\'main_book_btn\\',\\'\\',\\'show\\')\" onmouseout=\"view_hover(\\'main_book_btn\\',\\'\\',\\'hide\\')\"></a></div>\\r\\n  </div>\\r\\n  <div class=\"btn_book_area_page\" style=\"text-align:center;\">\\r\\n    <div class=\"btn_book_page\">paging</div>\\r\\n  </div>\\r\\n  <!-- //\\xec\\xb1\\x85 \\xeb\\xa6\\xac\\xec\\x8a\\xa4\\xed\\x8a\\xb8 -->\\r\\n  \\r\\n  <div class=\"btn_more\"><a href=\"/store/books/bestseller_list.html\"><span>\\xeb\\x8d\\x94\\xeb\\xb3\\xb4\\xea\\xb8\\xb0</span></a></div>\\r\\n</section>\\r\\n<!-- //\\xeb\\xa9\\x94\\xec\\x9d\\xb8 \\xeb\\xb2\\xa0\\xec\\x8a\\xa4\\xed\\x8a\\xb8\\xec\\x85\\x80\\xeb\\x9f\\xac -->\\r\\n\\r\\n<!-- //\\xeb\\xa9\\x94\\xec\\x9d\\xb8 \\xec\\xb1\\x85 \\xec\\x98\\x81\\xec\\x97\\xad -->\\r\\n\\r\\n\\r\\n<!-- \\xeb\\xa9\\x94\\xec\\x9d\\xb8 \\xeb\\x84\\xa4\\xed\\x8a\\xb8\\xec\\x9b\\x8c\\xed\\x81\\xac \\xec\\x98\\x81\\xec\\x97\\xad -->\\r\\n<section id=\"main_sns_area\" name=\"main_sns_area\" onmouseover=\"view_hover(\\'main_network_btn\\',\\'\\',\\'show\\')\" onmouseout=\"view_hover(\\'main_network_btn\\',\\'\\',\\'hide\\')\">\\r\\n  <!-- \\xed\\x83\\x80\\xec\\x9d\\xb4\\xed\\x8b\\x80 -->\\r\\n  <div class=\"main_sns_area_tit\">\\xed\\x95\\x9c\\xeb\\xb9\\x9b \\xec\\xbd\\x98\\xed\\x85\\x90\\xec\\xb8\\xa0\\xec\\x99\\x80 \\xed\\x95\\xa8\\xea\\xbb\\x98!!</div>\\r\\n  \\r\\n  <div class=\"main_sns_area_tit_r\">\\r\\n   <ul class=\"tab_sns\">\\r\\n    <li><a href=\"https://blog.hanbit.co.kr\" target=\"_blank\"><div class=\"sns_blog\"></div></a></li>\\r\\n    <li><a href=\"https://www.instagram.com/hanbit.pub/\" target=\"_blank\"><div class=\"sns_inst\"></div></a></li>\\r\\n    <li><a href=\"https://www.youtube.com/%ED%95%9C%EB%B9%9BTV\" target=\"_blank\"><div class=\"sns_yutu\"></div></a></li>\\r\\n    <li><a href=\"https://m.post.naver.com/hanbitstory\" target=\"_blank\"><div class=\"sns_nv\"></div></a></li>\\r\\n    <li><a href=\"https://www.facebook.com/hanbitmedia\" target=\"_blank\"><div class=\"sns_fb\"></div></a></li>\\r\\n    <li><a href=\"/channel/channel_submain.html\" target=\"_self\"><div class=\"sns_hb\"></div></a></li>\\r\\n  </ul> \\r\\n  </div>\\r\\n  \\r\\n  <!-- \\xec\\x82\\xad\\xec\\xa0\\x9c\\xec\\x98\\x88\\xec\\xa0\\x95_\\xec\\x86\\xa1\\xea\\xb4\\x80\\r\\n  <script>\\r\\n  $(function(){\\r\\n      $(\\'.tab_sns li\\').click(function(){\\r\\n          var tabType = $(this).index();\\r\\n              $(\\'.tab_sns li\\').each(function(index){\\r\\n              $(this).find(\\'img\\').attr(\\'src\\', $(this).find(\\'img\\').attr(\\'src\\').replace(\\'_off\\',\\'_on\\'));\\r\\n              if(tabType != index){\\r\\n                  $(this).find(\\'img\\').attr(\\'src\\', $(this).find(\\'img\\').attr(\\'src\\').replace(\\'_on\\',\\'_off\\'));\\r\\n              }\\r\\n          });\\r\\n      });\\r\\n   });\\r\\n  </script>\\r\\n  -->\\r\\n  <!-- //\\xed\\x83\\x80\\xec\\x9d\\xb4\\xed\\x8b\\x80 -->\\r\\n  \\r\\n  <!-- \\xeb\\x84\\xa4\\xed\\x8a\\xb8\\xec\\x9b\\x8c\\xed\\x81\\xac \\xeb\\xa6\\xac\\xec\\x8a\\xa4\\xed\\x8a\\xb8 -->\\r\\n  <div id=\"sns_network\">\\r\\n    <ul>\\r\\n      <li>\\r\\n        <div class=\"main_sns_list_area\">\\r\\n          <div class=\"main_sns_list\">\\r\\n                    \\r\\n            <div class=\"thumb\">\\r\\n              <img src=\"/images/design/thum_sns_yt.png\" alt=\"SNS\" class=\"sns_icon1\"/>\\r\\n              <a class=\"\" href=\"https://youtu.be/TJBmaBJSSGQ\" target=\"_blank\">\\r\\n              <img src=\"/data/cms/SNS4522095146_thumb.jpg\" alt=\"IT \\xed\\x98\\x84\\xec\\x9e\\x90 \\xeb\\xb0\\x95\\xed\\x83\\x9c\\xec\\x9b\\x85 \\xec\\x9d\\x98\\xec\\x9e\\xa5\\xec\\x9d\\x98 \\xec\\x98\\xa4\\xeb\\x8a\\x98\\xec\\x9e\\x90  \\'\\xea\\xb9\\x80\\xec\\x96\\xb4\\xec\\xa4\\x80\\xec\\x9d\\x98 \\xeb\\x89\\xb4\\xec\\x8a\\xa4\\xea\\xb3\\xb5\\xec\\x9e\\xa5\\' \\xec\\xb6\\x9c\\xec\\x97\\xb0 \\xec\\x98\\x81\\xec\\x83\\x81!\" class=\"thumb hv1\"/>\\r\\n              <span><p>IT \\xed\\x98\\x84\\xec\\x9e\\x90 \\xeb\\xb0\\x95\\xed\\x83\\x9c\\xec\\x9b\\x85 \\xec\\x9d\\x98\\xec\\x9e\\xa5\\xec\\x9d\\x98 \\xec\\x98\\xa4\\xeb\\x8a\\x98\\xec\\x9e\\x90  \\'\\xea\\xb9\\x80\\xec\\x96\\xb4\\xec\\xa4\\x80\\xec\\x9d\\x98 \\xeb\\x89\\xb4\\xec\\x8a\\xa4\\xea\\xb3\\xb5\\xec\\x9e\\xa5\\' \\xec\\xb6\\x9c\\xec\\x97\\xb0 \\xec\\x98\\x81\\xec\\x83\\x81!</p></span>\\r\\n              </a>\\r\\n            </div>\\r\\n                    \\r\\n            <div class=\"thumb\">\\r\\n              <img src=\"/images/design/thum_sns_nv.png\" alt=\"SNS\" class=\"sns_icon1\"/>\\r\\n              <a class=\"\" href=\"https://m.post.naver.com/viewer/postView.naver?volumeNo=31975843&memberNo=25379965\" target=\"_blank\">\\r\\n              <img src=\"/data/cms/SNS3939610027_thumb.jpg\" alt=\"\\xeb\\xb9\\x84\\xec\\xa0\\x84\\xea\\xb3\\xb5\\xec\\x9e\\x90\\xeb\\x8f\\x84 \\xea\\xb0\\x9c\\xeb\\xb0\\x9c\\xec\\x9e\\x90\\xeb\\xa1\\x9c \\xec\\xb7\\xa8\\xec\\x97\\x85\\xed\\x95\\xa0 \\xec\\x88\\x98 \\xec\\x9e\\x88\\xeb\\x82\\x98\\xec\\x9a\\x94?\" class=\"thumb hv1\"/>\\r\\n              <span><p>\\xeb\\xb9\\x84\\xec\\xa0\\x84\\xea\\xb3\\xb5\\xec\\x9e\\x90\\xeb\\x8f\\x84 \\xea\\xb0\\x9c\\xeb\\xb0\\x9c\\xec\\x9e\\x90\\xeb\\xa1\\x9c \\xec\\xb7\\xa8\\xec\\x97\\x85\\xed\\x95\\xa0 \\xec\\x88\\x98 \\xec\\x9e\\x88\\xeb\\x82\\x98\\xec\\x9a\\x94?</p></span>\\r\\n              </a>\\r\\n            </div>\\r\\n                    \\r\\n            <div class=\"thumb\">\\r\\n              <img src=\"/images/design/thum_sns_nv.png\" alt=\"SNS\" class=\"sns_icon1\"/>\\r\\n              <a class=\"\" href=\"https://m.post.naver.com/viewer/postView.naver?volumeNo=32060959&memberNo=25379965\" target=\"_blank\">\\r\\n              <img src=\"/data/cms/SNS9318630963_thumb.jpg\" alt=\"\\xeb\\xac\\xb8\\xec\\xa7\\x80\\xec\\x95\\xa0\\xea\\xb0\\x80 \\xec\\x82\\xac\\xeb\\x9e\\x8c\\xeb\\x93\\xa4\\xea\\xb3\\xbc \\xea\\xb1\\xb0\\xeb\\xa6\\xac\\xeb\\x91\\x90\\xeb\\x8a\\x94 \\xec\\x9d\\x98\\xec\\x99\\xb8\\xec\\x9d\\x98 \\xec\\x9d\\xb4\\xec\\x9c\\xa0\" class=\"thumb hv1\"/>\\r\\n              <span><p>\\xeb\\xac\\xb8\\xec\\xa7\\x80\\xec\\x95\\xa0\\xea\\xb0\\x80 \\xec\\x82\\xac\\xeb\\x9e\\x8c\\xeb\\x93\\xa4\\xea\\xb3\\xbc \\xea\\xb1\\xb0\\xeb\\xa6\\xac\\xeb\\x91\\x90\\xeb\\x8a\\x94 \\xec\\x9d\\x98\\xec\\x99\\xb8\\xec\\x9d\\x98 \\xec\\x9d\\xb4\\xec\\x9c\\xa0</p></span>\\r\\n              </a>\\r\\n            </div>\\r\\n                    \\r\\n            <div class=\"thumb\">\\r\\n              <img src=\"/images/design/thum_sns_yt.png\" alt=\"SNS\" class=\"sns_icon1\"/>\\r\\n              <a class=\"\" href=\"https://youtu.be/XPZB8yCIbL8\" target=\"_blank\">\\r\\n              <img src=\"/data/cms/SNS6028798391_thumb.jpg\" alt=\"INDEX, MATCH \\xed\\x95\\xa8\\xec\\x88\\x98\\xeb\\x8a\\x94 \\xec\\x84\\xb8\\xec\\x83\\x81\\xec\\x97\\x90\\xec\\x84\\x9c \\xec\\xa0\\x9c\\xec\\x9d\\xbc \\xed\\x8e\\xb8\\xeb\\xa6\\xac\\xed\\x95\\xa9\\xeb\\x8b\\x88\\xeb\\x8b\\xa4.\" class=\"thumb hv1\"/>\\r\\n              <span><p>INDEX, MATCH \\xed\\x95\\xa8\\xec\\x88\\x98\\xeb\\x8a\\x94 \\xec\\x84\\xb8\\xec\\x83\\x81\\xec\\x97\\x90\\xec\\x84\\x9c \\xec\\xa0\\x9c\\xec\\x9d\\xbc \\xed\\x8e\\xb8\\xeb\\xa6\\xac\\xed\\x95\\xa9\\xeb\\x8b\\x88\\xeb\\x8b\\xa4.</p></span>\\r\\n              </a>\\r\\n            </div>\\r\\n        </div><div class=\"main_sns_list\">            \\r\\n            <div class=\"thumb\">\\r\\n              <img src=\"/images/design/thum_sns_bl.png\" alt=\"SNS\" class=\"sns_icon1\"/>\\r\\n              <a class=\"\" href=\"https://blog.hanbit.co.kr/271\" target=\"_blank\">\\r\\n              <img src=\"/data/cms/SNS4613196241_thumb.jpg\" alt=\"\\xeb\\xa7\\x88\\xeb\\xb8\\x94 \\xeb\\x8d\\x95\\xed\\x9b\\x84\\xec\\x97\\x90\\xec\\x84\\x9c \\xeb\\xa7\\x88\\xeb\\xb8\\x94 \\xeb\\xa7\\x8c\\xed\\x99\\x94 \\xeb\\xb2\\x88\\xec\\x97\\xad\\xec\\x9e\\x90\\xea\\xb0\\x80 \\xeb\\x90\\x9c \\xec\\x97\\x90\\xeb\\x94\\x94\\xed\\x84\\xb0!\" class=\"thumb hv1\"/>\\r\\n              <span><p>\\xeb\\xa7\\x88\\xeb\\xb8\\x94 \\xeb\\x8d\\x95\\xed\\x9b\\x84\\xec\\x97\\x90\\xec\\x84\\x9c \\xeb\\xa7\\x88\\xeb\\xb8\\x94 \\xeb\\xa7\\x8c\\xed\\x99\\x94 \\xeb\\xb2\\x88\\xec\\x97\\xad\\xec\\x9e\\x90\\xea\\xb0\\x80 \\xeb\\x90\\x9c \\xec\\x97\\x90\\xeb\\x94\\x94\\xed\\x84\\xb0!</p></span>\\r\\n              </a>\\r\\n            </div>\\r\\n                    \\r\\n            <div class=\"thumb\">\\r\\n              <img src=\"/images/design/thum_sns_hb.png\" alt=\"SNS\" class=\"sns_icon1\"/>\\r\\n              <a class=\"\" href=\"/channel/category/category_view.html?cms_code=CMS5004537908\" target=\"_self\">\\r\\n              <img src=\"/data/cms/CMS5004537908_thumb.jpg\" alt=\"\\xed\\x8c\\x8c\\xec\\x9d\\xb4\\xec\\x8d\\xac Django, \\xec\\x9e\\x90\\xeb\\xb0\\x94 \\xec\\x8a\\xa4\\xed\\x94\\x84\\xeb\\xa7\\x81\\xec\\x9d\\xb4 \\xec\\x9e\\x88\\xeb\\x8b\\xa4\\xeb\\xa9\\xb4, \\xec\\x9e\\x90\\xeb\\xb0\\x94\\xec\\x8a\\xa4\\xed\\x81\\xac\\xeb\\xa6\\xbd\\xed\\x8a\\xb8\\xeb\\x8a\\x94 \\xeb\\x85\\xb8\\xeb\\x93\\x9c\\xec\\x99\\x80 \\xec\\x9d\\xb5\\xec\\x8a\\xa4\\xed\\x94\\x84\\xeb\\xa0\\x88\\xec\\x8a\\xa4!\" class=\"thumb hv1\"/>\\r\\n              <span><p>\\xed\\x8c\\x8c\\xec\\x9d\\xb4\\xec\\x8d\\xac Django, \\xec\\x9e\\x90\\xeb\\xb0\\x94 \\xec\\x8a\\xa4\\xed\\x94\\x84\\xeb\\xa7\\x81\\xec\\x9d\\xb4 \\xec\\x9e\\x88\\xeb\\x8b\\xa4\\xeb\\xa9\\xb4, \\xec\\x9e\\x90\\xeb\\xb0\\x94\\xec\\x8a\\xa4\\xed\\x81\\xac\\xeb\\xa6\\xbd\\xed\\x8a\\xb8\\xeb\\x8a\\x94 \\xeb\\x85\\xb8\\xeb\\x93\\x9c\\xec\\x99\\x80 \\xec\\x9d\\xb5\\xec\\x8a\\xa4\\xed\\x94\\x84\\xeb\\xa0\\x88\\xec\\x8a\\xa4!</p></span>\\r\\n              </a>\\r\\n            </div>\\r\\n                    \\r\\n            <div class=\"thumb\">\\r\\n              <img src=\"/images/design/thum_sns_hb.png\" alt=\"SNS\" class=\"sns_icon1\"/>\\r\\n              <a class=\"\" href=\"/channel/category/category_view.html?cms_code=CMS1803341217\" target=\"_self\">\\r\\n              <img src=\"/data/cms/CMS1803341217_thumb.jpg\" alt=\"\\xeb\\xb3\\xb4\\xea\\xb3\\xa0\\xec\\x84\\x9c\\xec\\x99\\x80 \\xec\\xa0\\x9c\\xec\\x95\\x88\\xec\\x84\\x9c\\xec\\x97\\x90 \\xec\\x93\\xb0\\xeb\\xa9\\xb4 \\xec\\xa2\\x8b\\xec\\x9d\\x80 \\xeb\\x8f\\x99\\xec\\x82\\xac VS \\xec\\x93\\xb0\\xec\\xa7\\x80 \\xeb\\xa7\\x90\\xec\\x95\\x84\\xec\\x95\\xbc \\xed\\x95\\xa0 \\xeb\\x8f\\x99\\xec\\x82\\xac 50\\xea\\xb0\\x80\\xec\\xa7\\x80\" class=\"thumb hv1\"/>\\r\\n              <span><p>\\xeb\\xb3\\xb4\\xea\\xb3\\xa0\\xec\\x84\\x9c\\xec\\x99\\x80 \\xec\\xa0\\x9c\\xec\\x95\\x88\\xec\\x84\\x9c\\xec\\x97\\x90 \\xec\\x93\\xb0\\xeb\\xa9\\xb4 \\xec\\xa2\\x8b\\xec\\x9d\\x80 \\xeb\\x8f\\x99\\xec\\x82\\xac VS \\xec\\x93\\xb0\\xec\\xa7\\x80 \\xeb\\xa7\\x90\\xec\\x95\\x84\\xec\\x95\\xbc \\xed\\x95\\xa0 \\xeb\\x8f\\x99\\xec\\x82\\xac 50\\xea\\xb0\\x80\\xec\\xa7\\x80</p></span>\\r\\n              </a>\\r\\n            </div>\\r\\n                    \\r\\n            <div class=\"thumb\">\\r\\n              <img src=\"/images/design/thum_sns_hb.png\" alt=\"SNS\" class=\"sns_icon1\"/>\\r\\n              <a class=\"\" href=\"/channel/category/category_view.html?cms_code=CMS6821633333\" target=\"_self\">\\r\\n              <img src=\"/data/cms/CMS6821633333_thumb.jpg\" alt=\"\\xec\\x84\\xb1\\xea\\xb3\\xb5\\xec\\xa0\\x81\\xec\\x9d\\xb8 \\xed\\x94\\x84\\xeb\\xa0\\x88\\xec\\xa0\\xa0\\xed\\x85\\x8c\\xec\\x9d\\xb4\\xec\\x85\\x98 \\xeb\\xb0\\x9c\\xed\\x91\\x9c \\xec\\x97\\xb0\\xec\\xb6\\x9c \\xeb\\xb0\\xa9\\xeb\\xb2\\x95&#40;PPT \\xed\\x85\\x9c\\xed\\x94\\x8c\\xeb\\xa6\\xbf \\xeb\\xac\\xb4\\xeb\\xa3\\x8c \\xea\\xb3\\xb5\\xec\\x9c\\xa0&#41;\" class=\"thumb hv1\"/>\\r\\n              <span><p>\\xec\\x84\\xb1\\xea\\xb3\\xb5\\xec\\xa0\\x81\\xec\\x9d\\xb8 \\xed\\x94\\x84\\xeb\\xa0\\x88\\xec\\xa0\\xa0\\xed\\x85\\x8c\\xec\\x9d\\xb4\\xec\\x85\\x98 \\xeb\\xb0\\x9c\\xed\\x91\\x9c \\xec\\x97\\xb0\\xec\\xb6\\x9c \\xeb\\xb0\\xa9\\xeb\\xb2\\x95&#40;PPT \\xed\\x85\\x9c\\xed\\x94\\x8c\\xeb\\xa6\\xbf \\xeb\\xac\\xb4\\xeb\\xa3\\x8c \\xea\\xb3\\xb5\\xec\\x9c\\xa0&#41;</p></span>\\r\\n              </a>\\r\\n            </div>\\r\\n                  </div>\\r\\n        </div>\\r\\n      </li>    \\r\\n    </ul>\\r\\n  </div>\\r\\n  <!-- //\\xeb\\x84\\xa4\\xed\\x8a\\xb8\\xec\\x9b\\x8c\\xed\\x81\\xac \\xeb\\xa6\\xac\\xec\\x8a\\xa4\\xed\\x8a\\xb8 -->\\r\\n</section>\\r\\n<!-- //\\xeb\\xa9\\x94\\xec\\x9d\\xb8 \\xeb\\x84\\xa4\\xed\\x8a\\xb8\\xec\\x9b\\x8c\\xed\\x81\\xac \\xec\\x98\\x81\\xec\\x97\\xad -->\\r\\n\\r\\n<!-- \\xea\\xb3\\xb5\\xec\\xa7\\x80\\xec\\x82\\xac\\xed\\x95\\xad -->\\r\\n<section id=\"hb_supprt\">\\r\\n  <!-- \\xed\\x83\\xad\\xeb\\xa9\\x94\\xeb\\x89\\xb4 -->\\r\\n  <div class=\"m_tab\">\\r\\n    <ul class=\"m_tab_menu\">\\r\\n      <li><a href=\"/support/notice_list.html\" class=\"curr\">\\xea\\xb3\\xb5\\xec\\xa7\\x80\\xec\\x82\\xac\\xed\\x95\\xad</a></li>\\r\\n    </ul>\\r\\n  </div>\\r\\n  <div class=\"btn_more\"><a href=\"/support/notice_list.html\"><span>\\xeb\\x8d\\x94\\xeb\\xb3\\xb4\\xea\\xb8\\xb0</span></a></div>\\r\\n\\r\\n  <div class=\"supprt_wrap\">\\r\\n    <div class=\"supprt_content\">\\r\\n    <a class=\"new_supprt\" href=\"/support/notice_view.html?hnb_idx=311\">\\r\\n      <p>\\xeb\\xac\\xbc\\xeb\\xa5\\x98\\xec\\x84\\xbc\\xed\\x84\\xb0 \\xed\\x95\\x98\\xea\\xb3\\x84\\xed\\x9c\\xb4\\xea\\xb0\\x80&#40;8\\xec\\x9b\\x94 5\\xec\\x9d\\xbc ~ 8\\xec\\x9b\\x94 6\\xec\\x9d\\xbc&#41;\\xeb\\xa1\\x9c \\xec\\x9d\\xb8\\xed\\x95\\x9c \\xeb\\xb0\\xb0\\xec\\x86\\xa1 \\xec\\x95\\x88\\xeb\\x82\\xb4</p>\\r\\n    </a>\\r\\n    <span>2021-07-26</span>\\r\\n  </div>\\r\\n    <div class=\"supprt_content_m\">\\r\\n    <a class=\"gen_supprt\" href=\"/support/notice_view.html?hnb_idx=310\">\\r\\n      <p>\\xec\\xbd\\x94\\xeb\\xa1\\x9c\\xeb\\x82\\x9819 \\xed\\x99\\x95\\xec\\x82\\xb0 \\xeb\\xb0\\xa9\\xec\\xa7\\x80\\xeb\\xa5\\xbc \\xec\\x9c\\x84\\xed\\x95\\x9c \\xec\\x9e\\xac\\xed\\x83\\x9d \\xea\\xb7\\xbc\\xeb\\xac\\xb4 \\xec\\x95\\x88\\xeb\\x82\\xb4&#40;7\\xec\\x9b\\x94 12\\xec\\x9d\\xbc ~ 8\\xec\\x9b\\x94 6\\xec\\x9d\\xbc&#41;</p>\\r\\n    </a>\\r\\n    <span>2021-07-09</span>\\r\\n  </div>\\r\\n    <div class=\"supprt_content\">\\r\\n    <a class=\"gen_supprt\" href=\"/support/notice_view.html?hnb_idx=308\">\\r\\n      <p>\\xed\\x83\\x9d\\xeb\\xb0\\xb0\\xec\\x82\\xac \\xed\\x8c\\x8c\\xec\\x97\\x85\\xec\\x9c\\xbc\\xeb\\xa1\\x9c \\xec\\x9d\\xb8\\xed\\x95\\x9c \\xeb\\xb0\\xb0\\xec\\x86\\xa1 \\xec\\xa7\\x80\\xec\\x97\\xb0 \\xec\\x95\\x88\\xeb\\x82\\xb4</p>\\r\\n    </a>\\r\\n    <span>2021-06-15</span>\\r\\n  </div>\\r\\n    </div>\\r\\n</section>\\r\\n\\r\\n  <!-- \\xeb\\xa0\\x88\\xec\\x9d\\xb4\\xec\\x96\\xb4 \\xed\\x8c\\x9d\\xec\\x97\\x85 - \\xec\\xb9\\xb4\\xed\\x8a\\xb8 \\xeb\\x8b\\xb4\\xea\\xb8\\xb0 -->\\r\\n  \\t<div class=\"add_cart_layer\">\\r\\n\\t\\t<div class=\"bg\"></div>\\r\\n\\t\\t<div class=\"add_cart_pop-layer\" id=\"layer_add_cart\">\\r\\n\\t\\t\\t<div class=\"pop-container\">\\r\\n\\t\\t\\t\\t<div class=\"pop-conts\">\\r\\n\\t\\t\\t\\t\\t\\r\\n\\t\\t\\t\\t\\t<!--content //-->\\r\\n\\t\\t\\t\\t\\t<div class=\"close\"><a class=\"cbtn\" href=\"javascript:;\" onClick=\"\"><img src=\"https://www.hanbit.co.kr/images/common/icon_close.png\" width=\"38\" height=\"38\" alt=\"\\xeb\\x8b\\xab\\xea\\xb8\\xb0\" /></a></div>\\r\\n\\t\\t\\t\\t\\t<p class=\"ctxt\"><span id=\\'cartmsg\\'>\\xed\\x95\\xb4\\xeb\\x8b\\xb9 \\xec\\x83\\x81\\xed\\x92\\x88\\xec\\x9d\\x84 \\xec\\x9e\\xa5\\xeb\\xb0\\x94\\xea\\xb5\\xac\\xeb\\x8b\\x88\\xec\\x97\\x90 \\xeb\\x8b\\xb4\\xec\\x95\\x98\\xec\\x8a\\xb5\\xeb\\x8b\\x88\\xeb\\x8b\\xa4.</span><span id=\\'cartmsg2\\'>\\xec\\x9d\\xb4\\xeb\\xaf\\xb8 \\xec\\x9e\\xa5\\xeb\\xb0\\x94\\xea\\xb5\\xac\\xeb\\x8b\\x88\\xec\\x97\\x90 \\xec\\xb6\\x94\\xea\\xb0\\x80\\xeb\\x90\\x9c \\xec\\x83\\x81\\xed\\x92\\x88\\xec\\x9e\\x85\\xeb\\x8b\\x88\\xeb\\x8b\\xa4.</span><br />\\xec\\x9e\\xa5\\xeb\\xb0\\x94\\xea\\xb5\\xac\\xeb\\x8b\\x88\\xeb\\xa1\\x9c \\xec\\x9d\\xb4\\xeb\\x8f\\x99\\xed\\x95\\x98\\xec\\x8b\\x9c\\xea\\xb2\\xa0\\xec\\x8a\\xb5\\xeb\\x8b\\x88\\xea\\xb9\\x8c?</p>\\r\\n\\t\\t\\t\\t\\t<div class=\"btn_layer\">\\r\\n\\t\\t\\t\\t\\t\\t<a href=\"/myhanbit/cart.html\">\\xec\\x9e\\xa5\\xeb\\xb0\\x94\\xea\\xb5\\xac\\xeb\\x8b\\x88<br />\\xec\\x9d\\xb4\\xeb\\x8f\\x99</a>\\r\\n\\t\\t\\t\\t\\t\\t<!--<a href=\"javascript:;\" onClick=\"$(\\'.add_cart_layer\\').hide();\">\\xec\\x87\\xbc\\xed\\x95\\x91<br />\\xea\\xb3\\x84\\xec\\x86\\x8d</a>-->\\r\\n\\t\\t\\t\\t\\t\\t<a class=\"cbtn\" href=\"javascript:;\" onClick=\"\">\\xec\\x87\\xbc\\xed\\x95\\x91<br />\\xea\\xb3\\x84\\xec\\x86\\x8d</a>\\r\\n\\t\\t\\t\\t\\t</div>\\r\\n\\t\\t\\t\\t\\t<!--// content-->\\r\\n\\t\\t\\t\\t\\t\\r\\n\\t\\t\\t\\t</div>\\r\\n\\t\\t\\t</div>\\r\\n\\t\\t</div>\\r\\n\\t</div>  <!-- //\\xeb\\xa0\\x88\\xec\\x9d\\xb4\\xec\\x96\\xb4 \\xed\\x8c\\x9d\\xec\\x97\\x85 - \\xec\\xb9\\xb4\\xed\\x8a\\xb8 \\xeb\\x8b\\xb4\\xea\\xb8\\xb0 -->\\r\\n\\r\\n<!-- Footer -->\\r\\n<footer>\\r\\n  <!-- \\xea\\xb3\\xb5\\xec\\xa7\\x80\\xec\\x82\\xac\\xed\\x95\\xad -->\\r\\n  <div class=\"foot_notice\" style=\"height:6px;\"></div>  <!-- //\\xea\\xb3\\xb5\\xec\\xa7\\x80\\xec\\x82\\xac\\xed\\x95\\xad -->\\r\\n  \\r\\n  <div class=\"foot_contents\">\\r\\n    <!-- \\xed\\x95\\x98\\xeb\\x8b\\xa8 \\xeb\\xa9\\x94\\xeb\\x89\\xb4 -->\\r\\n    <div class=\"foot_menu\">\\r\\n      <!-- added by coffin -->\\r\\n            <ul>\\r\\n        <li><a href=\"https://www.hanbit.co.kr/publisher/index.html\" target=\"_blank\">\\xed\\x9a\\x8c\\xec\\x82\\xac\\xec\\x86\\x8c\\xea\\xb0\\x9c</a>(<a href=\"https://www.hanbit.co.kr/publisher/index.html\" target=\"_blank\">KOR</a> | <a href=\"https://www.hanbit.co.kr/publisher/index.html?lang=e\" target=\"_blank\">ENG</a>) &#149; <a href=\"https://www.hanbit.co.kr/publisher/contact.html?lang=k\" target=\"_blank\">\\xec\\x95\\xbd\\xeb\\x8f\\x84</a></li>\\r\\n        <li><a href=\"https://www.hanbit.co.kr/publisher/write.html\" target=\"_blank\">\\xea\\xb8\\xb0\\xed\\x9a\\x8d \\xeb\\xb0\\x8f \\xec\\x9b\\x90\\xea\\xb3\\xa0 \\xeb\\xaa\\xa8\\xec\\xa7\\x91</a></li>\\r\\n        <li><a href=\"https://www.hanbit.co.kr/publisher/career.html\" target=\"_blank\">\\xec\\xb1\\x84\\xec\\x9a\\xa9</a> &#149; \\xec\\x9e\\x85\\xec\\x82\\xac\\xec\\xa7\\x80\\xec\\x9b\\x90 <a href=\"mailto:jobs@hanbit.co.kr\">jobs@hanbit.co.kr</a></li>\\r\\n        <li><a href=\"https://www.hanbit.co.kr/publisher/foreignrights.html\" target=\"_blank\">FOREIGN RIGHTS</a></li>\\r\\n        <li><a href=\"https://www.hanbit.co.kr/member/use_agreement.html\">\\xec\\x9d\\xb4\\xec\\x9a\\xa9\\xec\\x95\\xbd\\xea\\xb4\\x80</a> &#149; <a href=\"https://www.hanbit.co.kr/member/privacy_policy.html\"><strong>\\xea\\xb0\\x9c\\xec\\x9d\\xb8\\xec\\xa0\\x95\\xeb\\xb3\\xb4\\xec\\xb7\\xa8\\xea\\xb8\\x89\\xeb\\xb0\\xa9\\xec\\xb9\\xa8</strong></a></li>\\r\\n        <li><a href=\"https://www.hanbit.co.kr/sitemap/sitemap.html\">\\xec\\x82\\xac\\xec\\x9d\\xb4\\xed\\x8a\\xb8\\xeb\\xa7\\xb5</a></li>\\r\\n      </ul>\\r\\n          </div>\\r\\n    <!-- //\\xed\\x95\\x98\\xeb\\x8b\\xa8 \\xeb\\xa9\\x94\\xeb\\x89\\xb4 -->\\r\\n\\r\\n    <!-- SNS -->\\r\\n    <div class=\"foot_sns\">\\r\\n            \\r\\n      <ul>\\r\\n        <li class=\"foot_facebook\"><a href=\"https://www.facebook.com/hanbitmedia\" target=\"_blank\"><span>\\xed\\x8e\\x98\\xec\\x9d\\xb4\\xec\\x8a\\xa4\\xeb\\xb6\\x81</span></a></li>\\r\\n        <!-- <li class=\"foot_googleplus\"><a href=\"https://plus.google.com/u/0/+HanbitCoKr/posts\" target=\"_blank\"><span>\\xea\\xb5\\xac\\xea\\xb8\\x80\\xed\\x94\\x8c\\xeb\\x9f\\xac\\xec\\x8a\\xa4</span></a></li> -->\\r\\n        <!-- <li class=\"foot_twitter\"><a href=\"https://twitter.com/hanbit\" target=\"_blank\"><span>\\xed\\x8a\\xb8\\xec\\x9c\\x84\\xed\\x84\\xb0</span></a></li> -->\\r\\n        <li class=\"foot_youtube\"><a href=\"https://www.youtube.com/\\xed\\x95\\x9c\\xeb\\xb9\\x9bTV\" target=\"_blank\"><span>\\xec\\x9c\\xa0\\xed\\x8a\\x9c\\xeb\\xb8\\x8c</span></a></li>\\r\\n        <li class=\"foot_bolg\"><a href=\"http://blog.hanbit.co.kr/\" target=\"_blank\"><span>\\xeb\\xb8\\x94\\xeb\\xa1\\x9c\\xea\\xb7\\xb8</span></a></li>\\r\\n        <li class=\"foot_naverpost\"><a href=\"https://m.post.naver.com/hanbitstory\" target=\"_blank\"><span>\\xeb\\x84\\xa4\\xec\\x9d\\xb4\\xeb\\xb2\\x84\\xed\\x8f\\xac\\xec\\x8a\\xa4\\xed\\x8a\\xb8</span></a></li>\\r\\n      </ul>\\r\\n      \\r\\n      \\r\\n        <fieldset class=\"foot_srch\">\\r\\n          <legend>\\xed\\x95\\x98\\xeb\\x8b\\xa8 \\xea\\xb2\\x80\\xec\\x83\\x89\\xec\\x98\\x81\\xec\\x97\\xad</legend>\\r\\n          <input title=\"\\xea\\xb2\\x80\\xec\\x83\\x89\\xec\\x96\\xb4\" class=\"foot_srch_keyword\" accesskey=\"s\" type=\"text\" value=\"\"  id=\"foot_keyword_str\" style=\"font-size:16px;\">\\r\\n          <input type=\"button\" alt=\"\" class=\"foot_srch_btn\" onclick=\"foot_sch_smit();\" style=\"cursor: pointer;\">\\r\\n        </fieldset>\\r\\n\\r\\n      \\r\\n      <script>\\r\\n        // \\xea\\xb2\\x80\\xec\\x83\\x89 \\xeb\\xa6\\xac\\xec\\x8a\\xa4\\xed\\x8a\\xb8  \\r\\n        $(document).ready(function() {       \\r\\n          $(\\'#foot_keyword_str\\').keyup(function(e) {\\r\\n            if (e.keyCode == 13) \\r\\n              foot_sch_smit();\\r\\n          });        \\r\\n        });\\r\\n\\r\\n        function foot_sch_smit(){            \\r\\n          var foot_keyword_str = $(\"#foot_keyword_str\").val();      \\r\\n          var searchUrl = \"/search/search_list.html?keyword=\"+foot_keyword_str;\\r\\n\\r\\n          if(!foot_keyword_str){\\r\\n            alert(\"\\xea\\xb2\\x80\\xec\\x83\\x89\\xec\\x96\\xb4\\xeb\\xa5\\xbc \\xec\\x9e\\x85\\xeb\\xa0\\xa5\\xed\\x95\\xb4\\xec\\xa3\\xbc\\xec\\x84\\xb8\\xec\\x9a\\x94\");\\r\\n            $(\"#foot_keyword_str\").focus();\\r\\n          }else{\\r\\n            location.href = searchUrl;\\r\\n          }\\r\\n        }\\r\\n      </script>  \\r\\n      \\r\\n    </div>\\r\\n    <!-- //SNS -->\\r\\n    \\r\\n    <!-- \\xed\\x95\\x9c\\xeb\\xb9\\x9b \\xec\\xa0\\x95\\xeb\\xb3\\xb4 -->\\r\\n    <div class=\"foot_about\">\\r\\n      <div class=\"foot_about_area\">\\r\\n        \\r\\n\\r\\n        <p><strong>\\xed\\x95\\x9c\\xeb\\xb9\\x9b\\xeb\\xaf\\xb8\\xeb\\x94\\x94\\xec\\x96\\xb4\\xe3\\x88\\x9c &#149; \\xed\\x95\\x9c\\xeb\\xb9\\x9b\\xec\\x95\\x84\\xec\\xb9\\xb4\\xeb\\x8d\\xb0\\xeb\\xaf\\xb8\\xe3\\x88\\x9c &#149; \\xed\\x95\\x9c\\xeb\\xb9\\x9b\\xeb\\xb9\\x84\\xec\\xa6\\x88\\xe3\\x88\\x9c</strong></p>\\r\\n        <p>(03785) \\xec\\x84\\x9c\\xec\\x9a\\xb8 \\xec\\x84\\x9c\\xeb\\x8c\\x80\\xeb\\xac\\xb8\\xea\\xb5\\xac \\xec\\x97\\xb0\\xed\\x9d\\xac\\xeb\\xa1\\x9c2\\xea\\xb8\\xb8 62</p>\\r\\n        <p>EMAIL : support@hanbit.co.kr</p>\\r\\n        <p>\\xeb\\x8c\\x80\\xed\\x91\\x9c\\xec\\x9d\\xb4\\xec\\x82\\xac : \\xea\\xb9\\x80\\xed\\x83\\x9c\\xed\\x97\\x8c</p>\\r\\n        <p>\\xec\\x82\\xac\\xec\\x97\\x85\\xec\\x9e\\x90\\xeb\\x93\\xb1\\xeb\\xa1\\x9d\\xeb\\xb2\\x88\\xed\\x98\\xb8 : 220-81-05665 <a href=\"http://www.ftc.go.kr/bizCommPop.do?wrkr_no=2208105665\" target=\"_blank\">[\\xed\\x99\\x95\\xec\\x9d\\xb8]</a></p>\\r\\n        <p>\\xed\\x86\\xb5\\xec\\x8b\\xa0\\xed\\x8c\\x90\\xeb\\xa7\\xa4\\xec\\x97\\x85\\xec\\x8b\\xa0\\xea\\xb3\\xa0 : 2017-\\xec\\x84\\x9c\\xec\\x9a\\xb8\\xec\\x84\\x9c\\xeb\\x8c\\x80\\xeb\\xac\\xb8-0671\\xed\\x98\\xb8</p>\\r\\n        <p>\\xed\\x98\\xb8\\xec\\x8a\\xa4\\xed\\x8c\\x85\\xec\\xa0\\x9c\\xea\\xb3\\xb5\\xec\\x9e\\x90 : (\\xec\\xa3\\xbc)\\xeb\\x88\\x84\\xeb\\xa6\\xac\\xed\\x98\\xb8\\xec\\x8a\\xa4\\xed\\x8c\\x85</p>        \\r\\n\\r\\n      </div>\\r\\n    </div>\\r\\n    <!-- //\\xed\\x95\\x9c\\xeb\\xb9\\x9b \\xec\\xa0\\x95\\xeb\\xb3\\xb4 -->\\r\\n  </div>\\r\\n  \\r\\n  <div class=\"copyright\">&copy;1993-2021 Hanbit Publishing Network, Inc. All rights reserved.</div>\\r\\n</footer>\\r\\n<!-- //\\xed\\x91\\xb8\\xed\\x84\\xb0 -->\\r\\n<div class=\"foot_download_btn\"><a href=\"https://www.hanbit.co.kr/support/supplement_list.html\">\\xec\\x9e\\x90\\xeb\\xa3\\x8c\\xec\\x8b\\xa4</a></div>\\r\\n\\r\\n<!-- \\xea\\xb3\\xb5\\xed\\x86\\xb5 JS \\xed\\x98\\xb8\\xec\\xb6\\x9c -->\\r\\n<script type=\"text/javascript\" src=\"/js/common.js\"></script>\\r\\n<!-- //\\xea\\xb3\\xb5\\xed\\x86\\xb5 JS \\xed\\x98\\xb8\\xec\\xb6\\x9c -->\\r\\n\\r\\n</body>\\r\\n</html>\\r\\n'"
      ]
     },
     "execution_count": 76,
     "metadata": {},
     "output_type": "execute_result"
    }
   ],
   "source": [
    "f.read()\n",
    "# bytes의 자료형\n",
    "#HTTP 헤더를 참조해서 적절한 인코딩 방식으로 디코딩 필욤\n",
    "#http 응답의 Content Type 헤더를 참조하면 해당 페이지의 인코딩 방식 확인 가능"
   ]
  },
  {
   "cell_type": "code",
   "execution_count": 77,
   "id": "9ed43dcd",
   "metadata": {},
   "outputs": [
    {
     "data": {
      "text/plain": [
       "200"
      ]
     },
     "execution_count": 77,
     "metadata": {},
     "output_type": "execute_result"
    }
   ],
   "source": [
    "f.status"
   ]
  },
  {
   "cell_type": "code",
   "execution_count": 78,
   "id": "fe59ec3c",
   "metadata": {},
   "outputs": [
    {
     "data": {
      "text/plain": [
       "'text/html; charset=UTF-8'"
      ]
     },
     "execution_count": 78,
     "metadata": {},
     "output_type": "execute_result"
    }
   ],
   "source": [
    "f.getheader('Content-Type')"
   ]
  },
  {
   "cell_type": "code",
   "execution_count": 79,
   "id": "49f1a6f9",
   "metadata": {},
   "outputs": [],
   "source": [
    "import sys\n",
    "from urllib.request import urlopen"
   ]
  },
  {
   "cell_type": "code",
   "execution_count": 80,
   "id": "b9187bef",
   "metadata": {},
   "outputs": [],
   "source": [
    "f= urlopen('http://hanbit.co.kr/store/books/full_book_list.html')"
   ]
  },
  {
   "cell_type": "code",
   "execution_count": 81,
   "id": "7b16438d",
   "metadata": {},
   "outputs": [],
   "source": [
    "encoding=f.info().get_content_charset(failobj=\"utf_8\")\n",
    "#HTTP 헤더를 기반으로 인코딩 방식을 추출(명시돼있지 않을 경우 UTF-8 사용)"
   ]
  },
  {
   "cell_type": "code",
   "execution_count": 82,
   "id": "c3f0a7fd",
   "metadata": {},
   "outputs": [
    {
     "name": "stdout",
     "output_type": "stream",
     "text": [
      "encoding:  utf-8\n"
     ]
    }
   ],
   "source": [
    "print('encoding: ',encoding)"
   ]
  },
  {
   "cell_type": "code",
   "execution_count": 83,
   "id": "8f668adb",
   "metadata": {},
   "outputs": [],
   "source": [
    "text=f.read().decode(encoding)\n",
    "#추출한 인코딩 방식으로 디코딩"
   ]
  },
  {
   "cell_type": "code",
   "execution_count": 84,
   "id": "3a82ccbd",
   "metadata": {},
   "outputs": [
    {
     "name": "stdout",
     "output_type": "stream",
     "text": [
      "<!DOCTYPE html>\r\n",
      "<html lang=\"ko\">\r\n",
      "<head>\r\n",
      "<!--[if lte IE 8]>\r\n",
      "<script>\r\n",
      "  location.replace('/support/explorer_upgrade.html');\r\n",
      "</script>\r\n",
      "<![endif]-->\r\n",
      "<meta charset=\"utf-8\"/>\r\n",
      "<title>한빛출판네트워크</title>\r\n",
      "<link rel=\"shortcut icon\" href=\"https://www.hanbit.co.kr/images/common/hanbit.ico\"> \r\n",
      "<meta http-equiv=\"X-UA-Compatible\" content=\"IE=Edge\" />\r\n",
      "<meta property=\"og:type\" content=\"website\"/>\r\n",
      "<meta property=\"og:title\" content=\"한빛출판네트워크\"/>\r\n",
      "<meta property=\"og:description\" content=\"더 넓은 세상, 더 나은 미래를 위한 아시아 출판 네트워크 :: 한빛미디어, 한빛아카데미, 한빛비즈, 한빛라이프, 한빛에듀\"/>\r\n",
      "<meta property=\"og:image\" content=\"https://www.hanbit.co.kr/images/hanbitpubnet_logo.jpg\" />\r\n",
      "<meta property=\"og:url\" content=\"https://hanbit.co.kr/store/books/full_book_list.html\"/>\r\n",
      "<link rel=\"canonical\" href=\"https://hanbit.co.kr/store/books/full_book_list.html\" />\r\n",
      "<meta name=\"keywords\" content=\"한빛미디어,한빛아카데미,한빛비즈,한빛라이프,한빛에듀,리얼타임,대관서비스,책,출판사,IT전문서,IT활용서,대학교재,경제경영,어린이/유아,실용/여행,전자책,자격증,교육,세미나,강의,ebook,정보교과서\" />\r\n",
      "<meta name=\"description\" content=\"더 넓은 세상, 더 나은 미래를 위한 아시아 출판 네트워크 :: 한빛미디어, 한빛아카데미, 한빛비즈, 한빛라이프, 한빛에듀\" />\r\n",
      "<meta name=\"viewport\" content=\"width=device-width,initial-scale=1.0,minimum-scale=1.0,maximum-scale=1.0\">\r\n",
      "<meta name=\"viewport\" content=\"width=1260\">\r\n",
      "<meta name=\"apple-mobile-web-app-capable\" content=\"yes\" />\r\n",
      "<meta name=\"naver-site-verification\" content=\"01c29ed1852aecca7a48ac0c3e0869627bc512d8\"/>\r\n",
      "<link rel=\"stylesheet\" href=\"/css/common.css?20210603093421\" />\r\n",
      "<link href=\"/css/hover.css\" rel=\"stylesheet\" media=\"all\">\r\n",
      "<link rel=\"stylesheet\" href=\"/js/jquery.raty.css\" />\r\n",
      "<script type=\"text/javascript\" src=\"/js/jquery-latest.js\"></script>\r\n",
      "<script type=\"text/javascript\" src=\"/js/jquery-ui.js\"></script>\r\n",
      "<script type=\"text/javascript\" src=\"/js/jquery.event.drag-1.5.min.js\"></script>\r\n",
      "<script type=\"text/javascript\" src=\"/js/jquery.touchSlider.js\"></script>\r\n",
      "<script type=\"text/javascript\" src=\"/js/jquery.raty.js\"></script>\r\n",
      "<script type=\"text/javascript\" src=\"/js/main.js\"></script>\r\n",
      "<script type=\"text/javascript\" src=\"/lib/cheditor/cheditor.js\"></script>\r\n",
      "<script type=\"text/javascript\" src=\"/js/jquery.ui.datepicker-ko.js\"></script>\r\n",
      "<script type=\"text/javascript\" src=\"/js/engine.js\"></script>\r\n",
      "<script type=\"text/javascript\" src=\"/js/vue.js\"></script>\r\n",
      "\r\n",
      "<!-- Google Analytics -->\r\n",
      "<script>\r\n",
      "(function(i,s,o,g,r,a,m){i['GoogleAnalyticsObject']=r;i[r]=i[r]||function(){\r\n",
      "(i[r].q=i[r].q||[]).push(arguments)},i[r].l=1*new Date();a=s.createElement(o),\r\n",
      "m=s.getElementsByTagName(o)[0];a.async=1;a.src=g;m.parentNode.insertBefore(a,m)\r\n",
      "})(window,document,'script','//www.google-analytics.com/analytics.js','ga');\r\n",
      "ga('create', 'UA-47080738-1', 'hanbit.co.kr');\r\n",
      "ga('require', 'linkid', 'linkid.js');\r\n",
      "ga('send', 'pageview');\r\n",
      "</script>\r\n",
      "<!-- Google Analytics -->\r\n",
      "\r\n",
      "<!-- Facebook Pixel Code -->\r\n",
      "<script>\r\n",
      "  !function(f,b,e,v,n,t,s)\r\n",
      "  {if(f.fbq)return;n=f.fbq=function(){n.callMethod?\r\n",
      "  n.callMethod.apply(n,arguments):n.queue.push(arguments)};\r\n",
      "  if(!f._fbq)f._fbq=n;n.push=n;n.loaded=!0;n.version='2.0';\r\n",
      "  n.queue=[];t=b.createElement(e);t.async=!0;\r\n",
      "  t.src=v;s=b.getElementsByTagName(e)[0];\r\n",
      "  s.parentNode.insertBefore(t,s)}(window, document,'script',\r\n",
      "  'https://connect.facebook.net/en_US/fbevents.js');\r\n",
      "  fbq('init', '406459623338891');\r\n",
      "  fbq('track', 'PageView');\r\n",
      "</script>\r\n",
      "<noscript><img height=\"1\" width=\"1\" style=\"display:none\"\r\n",
      "  src=\"https://www.facebook.com/tr?id=406459623338891&ev=PageView&noscript=1\"\r\n",
      "/></noscript>\r\n",
      "<!-- End Facebook Pixel Code -->\r\n",
      "\r\n",
      "<!-- Kakao Pixel Code -->\r\n",
      "<script type=\"text/javascript\" charset=\"UTF-8\" src=\"//t1.daumcdn.net/adfit/static/kp.js\"></script>\r\n",
      "<script type=\"text/javascript\">\r\n",
      "  kakaoPixel('3011392806152551233').pageView();\r\n",
      "</script>\r\n",
      "<!-- //Kakao Pixel Code -->\r\n",
      "</head>\r\n",
      "<body>\r\n",
      "<!-- Google Tag Manager (noscript) -->\r\n",
      "<noscript><iframe src=\"https://www.googletagmanager.com/ns.html?id=GTM-W9D5PM3\"\r\n",
      "height=\"0\" width=\"0\" style=\"display:none;visibility:hidden\"></iframe></noscript>\r\n",
      "<!-- End Google Tag Manager (noscript) -->\r\n",
      "<link rel=\"stylesheet\" href=\"/css/layout-hanbit.css?202107291450\" />\r\n",
      "<link rel=\"stylesheet\" href=\"/css/layout-member.css\" />\r\n",
      "<link rel=\"stylesheet\" href=\"/css/layout-network.css\" />\r\n",
      "<link rel=\"stylesheet\" href=\"/css/layout-store.css\" />\r\n",
      "<link rel=\"stylesheet\" href=\"/css/layout-myhanbit.css\" />\r\n",
      "<link rel=\"stylesheet\" href=\"/css/layout-event.css\" />\r\n",
      "<!-- 메뉴 바로가기 -->\r\n",
      "<div id=\"quick_skip_menu\">\r\n",
      "  <a href=\"#gnb\" onclick=\"document.getElementById('gnb').tabIndex = -1;document.getElementById('gnb').focus();return false;\"><span>메뉴 바로가기</span></a>\r\n",
      "  <a href=\"#top_search\" onclick=\"view_hover('main_search_area','','show'), document.getElementById('top_search').tabIndex = -1;document.getElementById('top_search').focus();return false;\"><span>검색 및 카테고리 바로가기</span></a>\r\n",
      "    <a href=\"#container\" onclick=\"document.getElementById('container').tabIndex = -1;document.getElementById('container').focus();return false;\"><span>본문 바로가기</span></a>\r\n",
      "  </div>\r\n",
      "<!-- //메뉴 바로가기 -->\r\n",
      "\r\n",
      "<!-- header -->\r\n",
      "<header>\r\n",
      "  <!-- top menu -->\r\n",
      "    <nav>\r\n",
      "    <div id=\"wrap_nav\">\r\n",
      "      <ul class=\"top_brand\">\r\n",
      "        <li><a href=\"https://www.hanbit.co.kr/index.html\" name=\"hanbit_network\"><span>HOME</span></a></li>\r\n",
      "        <li><a href=\"https://www.hanbit.co.kr/media/\">한빛미디어</a></li>\r\n",
      "        <li><a href=\"https://www.hanbit.co.kr/academy/\">한빛아카데미</a></li>\r\n",
      "        <li><a href=\"https://www.hanbit.co.kr/biz/\">한빛비즈</a></li>\r\n",
      "        <li><a href=\"https://www.hanbit.co.kr/life/\">한빛라이프</a></li>\r\n",
      "        <li><a href=\"https://www.hanbit.co.kr/edu/\">한빛에듀</a></li>\r\n",
      "        <li><a href=\"https://www.hanbit.co.kr/realtime/\">리얼타임</a></li>\r\n",
      "        <li><a href=\"https://www.hanbit.co.kr/textbook/\" target=\"_blank\">한빛정보교과서</a></li>\r\n",
      "        <li><a href=\"https://www.hanbit.co.kr/rent/\" target=\"_blank\">한빛대관서비스</a></li>\r\n",
      "      </ul>\r\n",
      "      \r\n",
      "      <ul class=\"top_menu\">\r\n",
      "                <li><a href=\"https://www.hanbit.co.kr/member/login.html\" class=\"login\">로그인</a></li>\r\n",
      "        <li><a href=\"https://www.hanbit.co.kr/member/member_agree.html\" class=\"join\">회원가입</a></li>\r\n",
      "        <li><a href=\"https://www.hanbit.co.kr/myhanbit/myhanbit.html\" class=\"myhanbit\">마이한빛</a></li>\r\n",
      "        <li><a href=\"https://www.hanbit.co.kr/myhanbit/cart.html\" class=\"cart\">장바구니</a></li>\r\n",
      "                    <li class=\"top_menu_store\"><a href=\"https://www.hanbit.co.kr/publisher/foreignrights.html?lang=e\" target=\"_blank\">ENGLISH</a></li>\r\n",
      "      </ul>\r\n",
      "    </div>\r\n",
      "  </nav>\r\n",
      "  <!-- //top menu -->\r\n",
      "\r\n",
      "  <div id=\"wrap_gnb\">\r\n",
      "    <!-- logo -->\r\n",
      "    <h1><a href=\"https://www.hanbit.co.kr/index.html\">한빛출판네트워크</a></h1>\r\n",
      "    <!-- //logo -->\r\n",
      "\r\n",
      "    <!-- Menu -->\r\n",
      "    <div id=\"gnb\" name=\"gnb\">\r\n",
      "      <ul>\r\n",
      "        <li><a href=\"https://www.hanbit.co.kr/brand/brand_submain.html\" class=\"\">BRAND</a></li>\r\n",
      "        <li><a href=\"https://www.hanbit.co.kr/channel/channel_submain.html\" class=\"\">Channel.H</a></li>\r\n",
      "        <li><a href=\"https://www.hanbit.co.kr/store/store_submain.html\" class=\"curr\">STORE</a></li>\r\n",
      "        <li><a href=\"https://www.hanbit.co.kr/support/help_info.html\" class=\"\">SUPPORT</a></li>\r\n",
      "        <li><a href=\"https://www.hanbit.co.kr/event/current/current_event_list.html\" class=\"\">EVENT</a></li>\r\n",
      "        \r\n",
      "        <li><a href=\"https://www.hanbit.co.kr/publisher/foreignrights.html?lang=e\" class=\"\" target=\"_blank\">RIGHTS</a></li>\r\n",
      "        \r\n",
      "        <li id=\"top_search\" class=\"search\"><a href=\"javascript:;\" onClick=\"view_hover('main_search_area','','show'); $('#keyword_str').focus();\"><span>SEARCH</span></a></li>\r\n",
      "      </ul>\r\n",
      "    </div>\r\n",
      "    <!-- //Menu -->\r\n",
      "    \r\n",
      "    <!-- lnb -->\r\n",
      "    <div class=\"lnb\" style=\"top:92px;\">\r\n",
      "      <div class=\"lnb_area\">\r\n",
      "      <!-- BRAND -->\r\n",
      "            <ul class=\"lnb_depth1_category\">\r\n",
      "        <li onmouseover=\"view_hover('category_store','','show')\" onMouseOut=\"view_hover('category_store','','hide')\"><a href=\"#\" onFocus=\"view_hover('category_store','','show')\" class=\"gnb_category\">카테고리</a>\r\n",
      "          <ul id=\"category_store\">\r\n",
      "\r\n",
      "                          <li onmouseover=\"view_hover('category_store1','','show')\" onMouseOut=\"view_hover('category_store1','','hide')\"><a href=\"/store/books/category_list.html?cate_cd=001\" onFocus=\"view_hover('category_store1','','show')\">IT/모바일</a>\r\n",
      "                <ul id=\"category_store1\">\r\n",
      "                              <li><a href=\"/store/books/category_list.html?cate_cd=001001\">프로그래밍</a></li>      \r\n",
      "                              <li><a href=\"/store/books/category_list.html?cate_cd=001002\">웹</a></li>      \r\n",
      "                              <li><a href=\"/store/books/category_list.html?cate_cd=001003\">모바일/스마트기기</a></li>      \r\n",
      "                              <li><a href=\"/store/books/category_list.html?cate_cd=001013\">데이터베이스</a></li>      \r\n",
      "                              <li><a href=\"/store/books/category_list.html?cate_cd=001005\">운영체제</a></li>      \r\n",
      "                              <li><a href=\"/store/books/category_list.html?cate_cd=001014\">하드웨어</a></li>      \r\n",
      "                              <li><a href=\"/store/books/category_list.html?cate_cd=001015\">시스템/네트워크</a></li>      \r\n",
      "                              <li><a href=\"/store/books/category_list.html?cate_cd=001016\">보안</a></li>      \r\n",
      "                              <li><a href=\"/store/books/category_list.html?cate_cd=001009\">비즈니스/문화</a></li>      \r\n",
      "                              <li><a href=\"/store/books/category_list.html?cate_cd=001010\">게임</a></li>      \r\n",
      "                              <li><a href=\"/store/books/category_list.html?cate_cd=001017\">IT에세이</a></li>      \r\n",
      "                              <li><a href=\"/store/books/category_list.html?cate_cd=001012\">자격증</a></li>      \r\n",
      "                              <li><a href=\"/store/books/category_list.html?cate_cd=001018\">인공지능/데이터과학</a></li>      \r\n",
      "              </ul></li>              <li onmouseover=\"view_hover('category_store2','','show')\" onMouseOut=\"view_hover('category_store2','','hide')\"><a href=\"/store/books/category_list.html?cate_cd=002\" onFocus=\"view_hover('category_store2','','show')\">MAKE</a>\r\n",
      "                <ul id=\"category_store2\">\r\n",
      "                              <li><a href=\"/store/books/category_list.html?cate_cd=002002\">Make 프로젝트 북</a></li>      \r\n",
      "              </ul></li>              <li onmouseover=\"view_hover('category_store3','','show')\" onMouseOut=\"view_hover('category_store3','','hide')\"><a href=\"/store/books/category_list.html?cate_cd=003\" onFocus=\"view_hover('category_store3','','show')\">IT활용</a>\r\n",
      "                <ul id=\"category_store3\">\r\n",
      "                              <li><a href=\"/store/books/category_list.html?cate_cd=003001\">오피스/OA</a></li>      \r\n",
      "                              <li><a href=\"/store/books/category_list.html?cate_cd=003002\">그래픽/멀티미디어</a></li>      \r\n",
      "                              <li><a href=\"/store/books/category_list.html?cate_cd=003003\">사진/예술</a></li>      \r\n",
      "                              <li><a href=\"/store/books/category_list.html?cate_cd=003004\">컴퓨터입문/IT교양</a></li>      \r\n",
      "              </ul></li>              <li onmouseover=\"view_hover('category_store4','','show')\" onMouseOut=\"view_hover('category_store4','','hide')\"><a href=\"/store/books/category_list.html?cate_cd=004\" onFocus=\"view_hover('category_store4','','show')\">대학교재</a>\r\n",
      "                <ul id=\"category_store4\">\r\n",
      "                              <li><a href=\"/store/books/category_list.html?cate_cd=004003\">수학/통계</a></li>      \r\n",
      "                              <li><a href=\"/store/books/category_list.html?cate_cd=004010\">과학/공학일반</a></li>      \r\n",
      "                              <li><a href=\"/store/books/category_list.html?cate_cd=004007\">컴퓨터공학</a></li>      \r\n",
      "                              <li><a href=\"/store/books/category_list.html?cate_cd=004004\">프로그래밍</a></li>      \r\n",
      "                              <li><a href=\"/store/books/category_list.html?cate_cd=004011\">데이터과학/인공지능</a></li>      \r\n",
      "                              <li><a href=\"/store/books/category_list.html?cate_cd=004008\">전기/전자</a></li>      \r\n",
      "                              <li><a href=\"/store/books/category_list.html?cate_cd=004009\">기계/자동차</a></li>      \r\n",
      "                              <li><a href=\"/store/books/category_list.html?cate_cd=004006\">OA/그래픽</a></li>      \r\n",
      "                              <li><a href=\"/store/books/category_list.html?cate_cd=004012\">경영/경제</a></li>      \r\n",
      "                              <li><a href=\"/store/books/category_list.html?cate_cd=004005\">논문</a></li>      \r\n",
      "              </ul></li>              <li onmouseover=\"view_hover('category_store5','','show')\" onMouseOut=\"view_hover('category_store5','','hide')\"><a href=\"/store/books/category_list.html?cate_cd=006\" onFocus=\"view_hover('category_store5','','show')\">실용서</a>\r\n",
      "                <ul id=\"category_store5\">\r\n",
      "                              <li><a href=\"/store/books/category_list.html?cate_cd=006001\">취미/실용</a></li>      \r\n",
      "                              <li><a href=\"/store/books/category_list.html?cate_cd=006002\">여행</a></li>      \r\n",
      "                              <li><a href=\"/store/books/category_list.html?cate_cd=006003\">건강</a></li>      \r\n",
      "                              <li><a href=\"/store/books/category_list.html?cate_cd=006004\">유아/육아</a></li>      \r\n",
      "              </ul></li>              <li onmouseover=\"view_hover('category_store6','','show')\" onMouseOut=\"view_hover('category_store6','','hide')\"><a href=\"/store/books/category_list.html?cate_cd=007\" onFocus=\"view_hover('category_store6','','show')\">경제/경영/인문</a>\r\n",
      "                <ul id=\"category_store6\">\r\n",
      "                              <li><a href=\"/store/books/category_list.html?cate_cd=007001\">경제/경영</a></li>      \r\n",
      "                              <li><a href=\"/store/books/category_list.html?cate_cd=007002\">자기계발</a></li>      \r\n",
      "                              <li><a href=\"/store/books/category_list.html?cate_cd=007003\">인문/교양</a></li>      \r\n",
      "                              <li><a href=\"/store/books/category_list.html?cate_cd=007004\">마케팅</a></li>      \r\n",
      "                              <li><a href=\"/store/books/category_list.html?cate_cd=007005\">에세이</a></li>      \r\n",
      "              </ul></li>              <li onmouseover=\"view_hover('category_store7','','show')\" onMouseOut=\"view_hover('category_store7','','hide')\"><a href=\"/store/books/category_list.html?cate_cd=008\" onFocus=\"view_hover('category_store7','','show')\">유아/어린이/초등</a>\r\n",
      "                <ul id=\"category_store7\">\r\n",
      "                              <li><a href=\"/store/books/category_list.html?cate_cd=008001\">4~6세</a></li>      \r\n",
      "                              <li><a href=\"/store/books/category_list.html?cate_cd=008002\">5~7세</a></li>      \r\n",
      "                              <li><a href=\"/store/books/category_list.html?cate_cd=008003\">예비초등</a></li>      \r\n",
      "                              <li><a href=\"/store/books/category_list.html?cate_cd=008004\">초등교과연계 1~12영역</a></li>      \r\n",
      "                              <li><a href=\"/store/books/category_list.html?cate_cd=008005\">초등 전학년</a></li>      \r\n",
      "              </ul></li>            \r\n",
      "               \r\n",
      "          <!-- <li class=\"gnb_category_series\"><a href=\"https://www.hanbit.co.kr/store/books/series_list.html\">시리즈</a></li>\r\n",
      "          <li class=\"gnb_category_reservations\"><a href=\"https://www.hanbit.co.kr/store/books/reservations_list.html\">예약도서</a></li> -->\r\n",
      "        </ul>\r\n",
      "      </ul>\r\n",
      "      <!--/li-->        \r\n",
      "      <!--/ul-->\r\n",
      "\r\n",
      "      <ul class=\"lnb_depth1\">\r\n",
      "        <li><a href=\"https://www.hanbit.co.kr/store/books/new_book_list.html\">새로나온책</a></li><span>l</span>\r\n",
      "        <li><a href=\"https://www.hanbit.co.kr/store/books/reservations_list.html\">예약도서</a></li><span>l</span>\r\n",
      "        <li><a href=\"https://www.hanbit.co.kr/store/books/bestseller_list.html\">베스트셀러</a></li><span>l</span>\r\n",
      "        <li><a href=\"https://www.hanbit.co.kr/store/books/full_book_list.html\">전체도서목록</a></li><span>l</span>\r\n",
      "        <li><a href=\"https://www.hanbit.co.kr/store/books/series_list.html\">시리즈</a></li>\r\n",
      "        <!-- <li><a href=\"https://www.hanbit.co.kr/store/education/edu_list.html\">교육</a></li><span>l</span>\r\n",
      "        <li><a href=\"https://www.hanbit.co.kr/store/item/item_list.html\">Item &amp; Maker Shed</a></li> -->\r\n",
      "      </ul>\r\n",
      "      \r\n",
      "      <!-- SUPPORT -->\r\n",
      "          </div>\r\n",
      "    </div>\r\n",
      "    <!--// lnb -->\r\n",
      "  </div>\r\n",
      "</header>\r\n",
      "<!-- //header -->\r\n",
      "\r\n",
      "<!-- 메인 검색 및 카테고리 영역 -->\r\n",
      "<div id=\"main_search_area\" class=\"fixed\" style=\"display:none;\">\n",
      "  <div class=\"msa_wrap\">\n",
      "\n",
      "    <!-- 검색 -->\n",
      "    <div class=\"msa_srch_wrap\">\n",
      "      <form onsubmit=\"return false;\">\n",
      "      <fieldset class=\"msa_srch_field\">\n",
      "        <legend>한빛출판네트워크 검색</legend>\n",
      "        <input title=\"검색어\" autocomplete=\"off\" class=\"srch_keyword\" accesskey=\"s\" type=\"text\" name=\"keyword_str\" id=\"keyword_str\" v-model=\"keyword\" @input=\"typeKeyword\">\n",
      "        <input type=\"submit\" class=\"srch_btn\" style=\"cursor:pointer;\" @click=\"clickSearch\">\n",
      "      </fieldset>\n",
      "      </form>\n",
      "    </div>\n",
      "    <!-- //검색 -->\n",
      "\n",
      "    <!-- ① 인기검색어 -->\n",
      "    <div class=\"msa_srch_polular\" v-if=\"showPopularKeyword === true\">\n",
      "      <h2 class=\"tit\">인기 검색어 <span>(최근 1개월간)</span></h2>\n",
      "        <div class=\"popula_box\">\n",
      "          <ul class=\"left\">\n",
      "            <li v-for=\"keyword in leftPopularKeywordList\">\n",
      "              <a :class=\"keyword.bold\" @click=\"clickPopularKeyword(keyword)\">\n",
      "                  {{ keyword.number }} {{ keyword.bookName }}\n",
      "              </a>\n",
      "            </li>\n",
      "          </ul>\n",
      "          <ul class=\"right\">\n",
      "            <li v-for=\"keyword in rightPopularKeywordList\">\n",
      "              <a :class=\"keyword.bold\" @click=\"clickPopularKeyword(keyword)\">\n",
      "                  {{ keyword.number }} {{ keyword.bookName }}\n",
      "              </a>\n",
      "            </li>\n",
      "          </ul>\n",
      "        </div>\n",
      "    </div>\n",
      "    <!-- ① 인기검색어 -->\n",
      "\n",
      "    <!-- ② 검색결과/검색서제스쳔 -->\n",
      "    <div class=\"msa_srch_suggestion\" v-if=\"showPopularKeyword === false\">\n",
      "      <div class=\"sugg_left\" v-if=\"bookList.length !== 0\">\n",
      "        <h3 class=\"tit\">BOOK</h3>\n",
      "        <ul class=\"books_list\">\n",
      "          <li v-for=\"book in bookList\" @mouseover=\"mouseOverBook(book.id)\"><a @click=\"clickBookKeyword(book)\"><p v-html=\"book.name\"></p></a></li>\n",
      "        </ul>\n",
      "      </div>\n",
      "\n",
      "      <div class=\"sugg_right\">\n",
      "        <div class=\"sugg_book\" v-if=\"bookList.length !== 0\">\n",
      "          <table class=\"sugg_book_detail\">\n",
      "            <tr>\n",
      "              <td class=\"cover\">\n",
      "                <a @click=\"clickBookKeyword(bookSummary)\">\n",
      "                  <img :src=\"bookSummary.imgUrl\" class=\"b_cover\">\n",
      "                </a>\n",
      "              </td>\n",
      "              <td class=\"draft\">\n",
      "                <a @click=\"clickBookKeyword(bookSummary)\" class=\"b_title\"><strong v-html=\"bookSummary.originName\"></strong></a>\n",
      "                <p class=\"b_int\">\n",
      "                {{ bookSummary.author }} 지음<br />\n",
      "                {{ bookSummary.publishingCompany }} | {{ bookSummary.date }}\n",
      "                </p>\n",
      "                <p class=\"b_type\">\n",
      "                <span>{{ bookSummary.bookType }}</span>\n",
      "                </p>\n",
      "              </td>\n",
      "            </tr>\n",
      "          </table>\n",
      "        </div>\n",
      "\n",
      "        <!--\n",
      "        <div class=\"sugg_edu\" v-if=\"educationList.length !== 0\">\n",
      "          <h3 class=\"tit\">EDUCATION</h3>\n",
      "          <ul class=\"edu_list\">\n",
      "            <li v-for=\"education in educationList\">&#149; <a @click=\"clickEducationKeyword(education)\"><span v-html=\"education.title\"></span></a></li>\n",
      "          </ul>\n",
      "        </div>\n",
      "        -->\n",
      "        \n",
      "        <div class=\"sugg_cont\" v-if=\"contentList.length !== 0\">\n",
      "          <h3 class=\"tit\">CONTENTS</h3>\n",
      "          <ul class=\"cont_list\">\n",
      "            <li v-for=\"content in contentList\">&#149; <a @click=\"clickContentKeyword(content)\"><span v-html=\"content.title\"></span></a></li>\n",
      "          </ul>\n",
      "        </div>\n",
      "      </div>\n",
      "    </div>\n",
      "    <!-- //② 검색결과/검색서제스쳔 -->\n",
      "\n",
      "  <!-- 닫기 -->\n",
      "  <div class=\"msa_wrap_close\">\n",
      "    <a href=\"javascript:;\" onclick=\"view_hover('main_search_area','','hide')\">닫기</a>\n",
      "  </div>\n",
      "  <!-- //닫기 -->\n",
      "\n",
      "  </div>\n",
      "</div>\n",
      "\n",
      "<script type=\"text/javascript\">\n",
      "    \"use strict\";\n",
      "\n",
      "    var common_top_search_vue = new Vue({\n",
      "        el: '#main_search_area',\n",
      "        data: {\n",
      "            //검색엔진 URL\n",
      "            searchProxyURL: \"https://search.hanbit.co.kr\",\n",
      "            //인기 검색어 show 여부\n",
      "            showPopularKeyword: true,\n",
      "            //사용자 검색 키워드\n",
      "            keyword: '',\n",
      "            //인기 검색어 리스트\n",
      "            popularKeywordList: [],\n",
      "            // 인기 검색어 리스트 (왼쪽)\n",
      "            leftPopularKeywordList: [],\n",
      "            // 인기 검색어 리스트 (오른쪽)\n",
      "            rightPopularKeywordList: [],\n",
      "            // 자동완성에서의 책 리스트\n",
      "            bookList: [],\n",
      "            // 자동완성에서의 책 정보\n",
      "            bookSummary: {\n",
      "                'imgUrl': '',\n",
      "                'link': '',\n",
      "                'name': '',\n",
      "                'author': '',\n",
      "                'publishingCompany': '',\n",
      "                'date': '',\n",
      "                'bookType': ''\n",
      "            },\n",
      "            //에듀케이션 리스트\n",
      "            educationList: [],\n",
      "            //컨텐츠 리스트\n",
      "            contentList: []\n",
      "        },\n",
      "        created: function created() {\n",
      "            // 인기 검색어 조회\n",
      "            this.getPopularKeyword();\n",
      "        },\n",
      "        methods: {\n",
      "            /**\n",
      "             * 사용자가 검색 키워드를 입력할때 발생하는 이벤트\n",
      "             */\n",
      "            typeKeyword: function typeKeyword() {\n",
      "                var self = this;\n",
      "                var keyword = $(\"#keyword_str\").val();\n",
      "\n",
      "                if (keyword.length !== 0) {\n",
      "                    //자동완성어\n",
      "                    this.findAutocompleteResult(keyword);\n",
      "                } else {\n",
      "                    //인기검색어\n",
      "                    self.showPopularKeyword = true;\n",
      "                }\n",
      "            },\n",
      "\n",
      "            /**\n",
      "             * 인기검색어 조회\n",
      "             */\n",
      "            getPopularKeyword: function getPopularKeyword() {\n",
      "                var self = this;\n",
      "                this.popularKeywordList = [];\n",
      "                $.get(this.searchProxyURL + \"/querylog/popularKeyword\").done(function (data) {\n",
      "                    if (data != null) {\n",
      "                        self.drawPopularKeyword(data);\n",
      "                    }\n",
      "                });\n",
      "            },\n",
      "\n",
      "            /**\n",
      "             * 인기 검색어 그리기\n",
      "             */\n",
      "            drawPopularKeyword: function drawPopularKeyword(popularBooks) {\n",
      "                var self = this;\n",
      "                popularBooks.forEach(function (item) {\n",
      "                    var popularBook = {\n",
      "                        bookName: item.keyword\n",
      "                    };\n",
      "                    self.popularKeywordList.push(popularBook);\n",
      "                });\n",
      "                var number = 0;\n",
      "\n",
      "                for (var _iterator = this.popularKeywordList, _isArray = Array.isArray(_iterator), _i = 0, _iterator = _isArray ? _iterator : _iterator[Symbol.iterator]();;) {\n",
      "                    var _ref;\n",
      "\n",
      "                    if (_isArray) {\n",
      "                        if (_i >= _iterator.length) break;\n",
      "                        _ref = _iterator[_i++];\n",
      "                    } else {\n",
      "                        _i = _iterator.next();\n",
      "                        if (_i.done) break;\n",
      "                        _ref = _i.value;\n",
      "                    }\n",
      "\n",
      "                    var keyword = _ref;\n",
      "                    number = number + 1;\n",
      "                    keyword.number = number.toString().length < 2 ? \"0\" + number : number;\n",
      "\n",
      "                    if (number > 5) {\n",
      "                        keyword.direction = \"right\";\n",
      "                        self.rightPopularKeywordList.push(keyword);\n",
      "                    } else {\n",
      "                        keyword.direction = \"left\";\n",
      "\n",
      "                        if (number < 4) {\n",
      "                            keyword.bold = 'active';\n",
      "                        }\n",
      "\n",
      "                        self.leftPopularKeywordList.push(keyword);\n",
      "                    }\n",
      "                }\n",
      "            },\n",
      "\n",
      "            /**\n",
      "             * 자동완성 검색 결과\n",
      "             */\n",
      "            findAutocompleteResult: function findAutocompleteResult(keyword) {\n",
      "                var self = this;\n",
      "                var param = {\n",
      "                    q: keyword,\n",
      "                    types: \"education,book,contents\",\n",
      "                    fq: keyword\n",
      "                };\n",
      "                $.post(this.searchProxyURL + \"/autocomplete/search\", param).done(function (data) {\n",
      "                    if (data != null) {\n",
      "                        var bookResult = data.booksResults;\n",
      "                        self.changeBookList(keyword, bookResult);\n",
      "                        var contentResult = data.contentsResults;\n",
      "                        self.changeContentList(keyword, contentResult);\n",
      "                        var educationResult = data.educationResults;\n",
      "                        self.changeEducationList(keyword, educationResult);\n",
      "                    }\n",
      "                });\n",
      "                this.showPopularKeyword = false;\n",
      "            },\n",
      "\n",
      "            /**\n",
      "             * 자동완성어에서 BOOK 부분에서 마우스를 올렸을 시에 발생하는 이벤트\n",
      "             * @param bookId\n",
      "             */\n",
      "            mouseOverBook: function mouseOverBook(bookId) {\n",
      "                var currentBook = this.bookList.filter(function (book) {\n",
      "                    return book.id === bookId;\n",
      "                });\n",
      "                this.changeBookSummary(currentBook[0]);\n",
      "            },\n",
      "\n",
      "            /**\n",
      "             * 책 소개 변경\n",
      "             * @param book\n",
      "             */\n",
      "            changeBookSummary: function changeBookSummary(book) {\n",
      "                if (book !== {}) {\n",
      "                    this.bookSummary.name = book.name;\n",
      "                    this.bookSummary.originName = book.originName;\n",
      "                    this.bookSummary.author = book.author;\n",
      "                    this.bookSummary.bookType = book.bookType;\n",
      "                    this.bookSummary.imgUrl = book.imgUrl;\n",
      "                    this.bookSummary.link = book.link;\n",
      "                    this.bookSummary.publishingCompany = book.publishingCompany;\n",
      "                    this.bookSummary.date = book.date;\n",
      "                    this.bookSummary.bookType = book.bookType;\n",
      "                }\n",
      "            },\n",
      "\n",
      "            /**\n",
      "             * BOOK 리스트 변경\n",
      "             */\n",
      "            changeBookList: function changeBookList(keyword, bookResultList) {\n",
      "                var self = this;\n",
      "                self.bookList = [];\n",
      "                var index = 0;\n",
      "\n",
      "                if (bookResultList != null) {\n",
      "                    for (var _iterator2 = bookResultList, _isArray2 = Array.isArray(_iterator2), _i2 = 0, _iterator2 = _isArray2 ? _iterator2 : _iterator2[Symbol.iterator]();;) {\n",
      "                        var _ref2;\n",
      "\n",
      "                        if (_isArray2) {\n",
      "                            if (_i2 >= _iterator2.length) break;\n",
      "                            _ref2 = _iterator2[_i2++];\n",
      "                        } else {\n",
      "                            _i2 = _iterator2.next();\n",
      "                            if (_i2.done) break;\n",
      "                            _ref2 = _i2.value;\n",
      "                        }\n",
      "\n",
      "                        var result = _ref2;\n",
      "\n",
      "                        if (index < 10) {\n",
      "                            var book = {};\n",
      "                            book.id = result.code;\n",
      "                            book.originName = result.title;\n",
      "                            book.name = JSON.parse(JSON.stringify(self.replaceHighlightWord(result.title, keyword)));\n",
      "                            book.link = result.code;\n",
      "                            book.imgUrl = self.getBookImageURL(result.code);\n",
      "                            book.author = result.author;\n",
      "                            book.publishingCompany = result.brand;\n",
      "                            book.date = result.pubDate;\n",
      "                            book.bookType = result.bookType;\n",
      "                            self.bookList.push(book); //책 미리보기 변경\n",
      "\n",
      "                            self.changeBookSummary(self.bookList[0]);\n",
      "                        }\n",
      "                    }\n",
      "                } else {\n",
      "                    self.initBookSummary();\n",
      "                }\n",
      "            },\n",
      "\n",
      "            /**\n",
      "             * 책 이미지 주소 가져오기\n",
      "             */\n",
      "            getBookImageURL: function getBookImageURL(bookCode) {\n",
      "                var imgURL;\n",
      "\n",
      "                if (bookCode.substr(0, 1) === \"E\") {\n",
      "                    imgURL = '/data/ebook/' + bookCode + '_m.jpg';\n",
      "                } else {\n",
      "                    imgURL = '/data/books/' + bookCode + \"_m.jpg\";\n",
      "                }\n",
      "\n",
      "                return imgURL;\n",
      "            },\n",
      "\n",
      "            /**\n",
      "             * 검색 결과가 없을 경우 책 미리보기 초기화\n",
      "             */\n",
      "            initBookSummary: function initBookSummary() {\n",
      "                this.bookSummary = {\n",
      "                    'imgUrl': '',\n",
      "                    'link': '',\n",
      "                    'name': '',\n",
      "                    'author': '',\n",
      "                    'publishingCompany': '',\n",
      "                    'date': '',\n",
      "                    'bookType': ''\n",
      "                };\n",
      "            },\n",
      "\n",
      "            /**\n",
      "             * education 리스트 변경\n",
      "             */\n",
      "            changeEducationList: function changeEducationList(keyword, educationResultList) {\n",
      "                var self = this;\n",
      "                self.educationList = [];\n",
      "                var index = 0;\n",
      "\n",
      "                if (educationResultList != null) {\n",
      "                    for (var _iterator3 = educationResultList, _isArray3 = Array.isArray(_iterator3), _i3 = 0, _iterator3 = _isArray3 ? _iterator3 : _iterator3[Symbol.iterator]();;) {\n",
      "                        var _ref3;\n",
      "\n",
      "                        if (_isArray3) {\n",
      "                            if (_i3 >= _iterator3.length) break;\n",
      "                            _ref3 = _iterator3[_i3++];\n",
      "                        } else {\n",
      "                            _i3 = _iterator3.next();\n",
      "                            if (_i3.done) break;\n",
      "                            _ref3 = _i3.value;\n",
      "                        }\n",
      "\n",
      "                        var result = _ref3;\n",
      "\n",
      "                        if (index < 3) {\n",
      "                            var content = {};\n",
      "                            content.title = JSON.parse(JSON.stringify(self.replaceHighlightWord(result.title, keyword)));\n",
      "                            content.link = result.code;\n",
      "                            self.educationList.push(content);\n",
      "                            index = index + 1;\n",
      "                        }\n",
      "                    }\n",
      "                }\n",
      "            },\n",
      "\n",
      "            /**\n",
      "             * contents 리스트 변경\n",
      "             */\n",
      "            changeContentList: function changeContentList(keyword, contentResult) {\n",
      "                var self = this;\n",
      "                self.contentList = [];\n",
      "                var index = 0;\n",
      "\n",
      "                if (contentResult != null) {\n",
      "                    for (var _iterator4 = contentResult, _isArray4 = Array.isArray(_iterator4), _i4 = 0, _iterator4 = _isArray4 ? _iterator4 : _iterator4[Symbol.iterator]();;) {\n",
      "                        var _ref4;\n",
      "\n",
      "                        if (_isArray4) {\n",
      "                            if (_i4 >= _iterator4.length) break;\n",
      "                            _ref4 = _iterator4[_i4++];\n",
      "                        } else {\n",
      "                            _i4 = _iterator4.next();\n",
      "                            if (_i4.done) break;\n",
      "                            _ref4 = _i4.value;\n",
      "                        }\n",
      "\n",
      "                        var result = _ref4;\n",
      "\n",
      "                        if (index < 7) {\n",
      "                            var content = {};\n",
      "                            content.title = JSON.parse(JSON.stringify(self.replaceHighlightWord(result.title, keyword)));\n",
      "                            content.link = result.code;\n",
      "                            self.contentList.push(content);\n",
      "                            index = index + 1;\n",
      "                        }\n",
      "                    }\n",
      "                }\n",
      "            },\n",
      "\n",
      "            /**\n",
      "             * 하이라이트 표시\n",
      "             */\n",
      "            replaceHighlightWord: function replaceHighlightWord(str, highlightKeyword) {\n",
      "                var replaceHighlightKeyword = highlightKeyword.replace(/[^a-z0-9가-힣_ ]/gi, '');\n",
      "                var regEx = new RegExp(replaceHighlightKeyword, \"gi\");\n",
      "                str = str.replace(regEx, function (a) {\n",
      "                    return '<span class=\"keysel\">' + a + '</span>';\n",
      "                });\n",
      "                return str;\n",
      "            },\n",
      "\n",
      "            /**\n",
      "             * 검색 버튼 클릭 시\n",
      "             * @param e\n",
      "             */\n",
      "            clickSearch: function clickSearch(e) {\n",
      "                if (!this.keyword || this.keyword.length === 0) {\n",
      "                    alert(\"검색어를 입력하세요\");\n",
      "                    $(\"#keyword_str\").focus();\n",
      "                    e.preventDefault();\n",
      "                } else {\n",
      "                    location.href = \"/search/search_list.html?keyword=\" + this.keyword;\n",
      "                }\n",
      "            },\n",
      "\n",
      "            /**\n",
      "             * 인기 검색어 클릭시\n",
      "             * @param book\n",
      "             */\n",
      "            clickPopularKeyword: function clickPopularKeyword(book) {\n",
      "                var searchKeyword = book.bookName;\n",
      "                location.href = \"/search/search_list.html?keyword=\" + searchKeyword;\n",
      "            },\n",
      "\n",
      "            /**\n",
      "             * 책 검색어 클릭시 책 상세로 이동\n",
      "             * @param book\n",
      "             */\n",
      "            clickBookKeyword: function clickBookKeyword(book) {\n",
      "                location.href = \"/store/books/look.php?p_code=\" + book.link;\n",
      "            },\n",
      "\n",
      "            /**\n",
      "             * 교육 클릭시 교육 상세로 이동\n",
      "             * @param education\n",
      "             */\n",
      "            clickEducationKeyword: function clickEducationKeyword(education) {\n",
      "                location.href = \"/store/education/edu_view.html?p_code=\" + education.link;\n",
      "            },\n",
      "\n",
      "            /**\n",
      "             * 컨텐츠 클릭시 컨텐츠 상세로 이동\n",
      "             * @param contents\n",
      "             */\n",
      "            clickContentKeyword: function clickContentKeyword(content) {\n",
      "                location.href = \"/channel/category/category_view.html?cms_code=\" + content.link;\n",
      "            }\n",
      "        }\n",
      "    });\n",
      "</script>\n",
      "<!-- //메인 검색 및 카테고리 영역 -->\r\n",
      "\r\n",
      "<!-- Contents -->\r\n",
      "<div id=\"container\">\r\n",
      "\t<div class=\"docu_title\">\r\n",
      "\t\t<h2>전체도서목록</h2>\r\n",
      "\t</div>\r\n",
      "\t\r\n",
      "\t<!-- 전체도서목록 wrap -->\r\n",
      "\t<div class=\"full_book_list_wrap\">\r\n",
      "\t\t<!-- 브랜드 정렬 버튼 -->\r\n",
      "\t\t\r\n",
      "        <div class=\"btn_brand_area\">       \r\n",
      "\t\t\t<ul>\r\n",
      "\t\t\t\t<li class=\"curr\">\r\n",
      "                \t<a href=\"/store/books/full_book_list.html\">\r\n",
      "                    \t                    <span class=\"name_full\">전체</span>\r\n",
      "                                        </a>\r\n",
      "                    \r\n",
      "                </li>\r\n",
      "\t\t\t\t<li >\r\n",
      "\t\t\t\t\t<a href=\"/store/books/full_book_list.html?brand=HM\">\r\n",
      "                                        \t<span class=\"name_abbr\">M</span>\r\n",
      "                    \t\t\t\t\t</a>\r\n",
      "\t\t\t\t</li>\r\n",
      "\r\n",
      "\t\t\t\t<li >\r\n",
      "                \t<a href=\"/store/books/full_book_list.html?brand=HA\">\r\n",
      "                                        \t<span class=\"name_abbr\">A</span>\r\n",
      "                    \t\t\t\t\t</a>\r\n",
      "                </li>\r\n",
      "\t\t\t\t<li >\r\n",
      "                \t<a href=\"/store/books/full_book_list.html?brand=HB\">\r\n",
      "                                        \t<span class=\"name_abbr\">B</span>\r\n",
      "                    \t\t\t\t\t</a>\r\n",
      "                </li>\r\n",
      "\t\t\t\t<li >\r\n",
      "                \t<a href=\"/store/books/full_book_list.html?brand=HL\">\r\n",
      "                                        \t<span class=\"name_abbr\">L</span>\r\n",
      "                    \t\t\t\t\t</a>\r\n",
      "                </li>\r\n",
      "\t\t\t\t<li >\r\n",
      "                \t<a href=\"/store/books/full_book_list.html?brand=HE\">\r\n",
      "                                        \t<span class=\"name_abbr\">E</span>\r\n",
      "                    \t\t\t\t\t</a>\r\n",
      "                </li>\r\n",
      "\t\t\t\t<!-- <li >\r\n",
      "                \t<a href=\"/store/books/full_book_list.html?brand=HR\">\r\n",
      "                                        \t<span class=\"name_abbr\">R</span>\r\n",
      "                    \t\t\t\t\t</a>\r\n",
      "                </li>\r\n",
      "\t\t\t\t<li >\r\n",
      "                \t<a href=\"/store/books/full_book_list.html?brand=MK\">\r\n",
      "                                        \t<span class=\"name_abbr\">MK</span>\r\n",
      "                    \t\t\t\t\t</a>\r\n",
      "                </li> -->\r\n",
      "\t\t\t\t\r\n",
      "\t\t\t</ul>\r\n",
      "\t\t</div>\r\n",
      "\r\n",
      "\r\n",
      "\r\n",
      "\t\t<!-- //브랜드 정렬 버튼 -->\r\n",
      "\t\t\r\n",
      "\t\t<!-- 출간일/도서명 순-->\r\n",
      "\t\t<div class=\"series_lineup\">\r\n",
      "\t\t\t<ul>\r\n",
      "\t\t\t\t<li><a href=\"/store/books/full_book_list.html?srt=p_pub_date&brand=\"  class=\"curr\" >출간일 순</a></li>\r\n",
      "\t\t\t\t<li><a href=\"/store/books/full_book_list.html?srt=p_title&brand=\" >도서명 순</a></li>\r\n",
      "\t\t\t</ul>\r\n",
      "\t\t</div>\r\n",
      "\t\t<!-- //출간일/도서명 순-->\r\n",
      "\t\t\r\n",
      "\t\t<!-- 전체 목록 다운로드 버튼-->\r\n",
      "\t\t<div class=\"btn_full_list\"><a href=\"javascript:document.frm.submit();\">전체 목록 다운로드</a></div>\r\n",
      "\t\t\r\n",
      "\t\t<!-- 책 리스트 -->\r\n",
      "\t\t<div class=\"table_area\">\r\n",
      "\t\t\t<table class=\"tbl_type_list\" border=\"0\" cellspacing=\"0\" summary=\"전체목록 리스트 테이블\">\r\n",
      "\t\t\t\t<caption>전체목록 리스트</caption>\r\n",
      "\t\t\t\t<colgroup>\r\n",
      "\t\t\t\t<col width=\"180px\">\r\n",
      "\t\t\t\t<col width=\"\">\r\n",
      "\t\t\t\t<col width=\"160px\">\r\n",
      "\t\t\t\t<col width=\"134px\">\r\n",
      "\t\t\t\t<col width=\"130px\">\r\n",
      "\t\t\t\t</colgroup>\r\n",
      "\t\t\t\t<thead>\r\n",
      "\t\t\t\t\t<tr>\r\n",
      "\t\t\t\t\t\t<th scope=\"col\">브랜드</th>\r\n",
      "\t\t\t\t\t\t<th scope=\"col\">도서명</th>\r\n",
      "\t\t\t\t\t\t<th scope=\"col\">저자</th>\r\n",
      "\t\t\t\t\t\t<th scope=\"col\">발행일</th>\r\n",
      "\t\t\t\t\t\t<th scope=\"col\">정가</th>\r\n",
      "\t\t\t\t\t</tr>\r\n",
      "\t\t\t\t</thead>\r\n",
      "\t\t\t\t<tbody>\r\n",
      "\t\t\t\t\t\t\t\t\t<tr>\r\n",
      "\t\t\t\t\t\t<td class=\"brd_m\">한빛미디어</td>\r\n",
      "\t\t\t\t\t\t<td class=\"left\"><a href=\"/store/books/look.php?p_code=B7628794939\">만들면서 배우는 파이토치 딥러닝</a></td>\r\n",
      "\t\t\t\t\t\t\t\t\t\t\t\t\t<td class=\"left\">오가와 유타로   </td>\r\n",
      "\t\t\t\t\t\t\t\t\t\t\t\t<td>2021-08-05</td>\r\n",
      "\t\t\t\t\t\t<td class=\"right\">40,000원</td>\r\n",
      "\t\t\t\t\t</tr>\r\n",
      "\r\n",
      "\t\t\t\t\t\t\t\t\t\t<tr>\r\n",
      "\t\t\t\t\t\t<td class=\"brd_m\">한빛미디어</td>\r\n",
      "\t\t\t\t\t\t<td class=\"left\"><a href=\"/store/books/look.php?p_code=B9783423109\">실리콘밸리 리더십</a></td>\r\n",
      "\t\t\t\t\t\t\t\t\t\t\t\t\t<td class=\"left\">마이클 롭   </td>\r\n",
      "\t\t\t\t\t\t\t\t\t\t\t\t<td>2021-08-01</td>\r\n",
      "\t\t\t\t\t\t<td class=\"right\">22,000원</td>\r\n",
      "\t\t\t\t\t</tr>\r\n",
      "\r\n",
      "\t\t\t\t\t\t\t\t\t\t<tr>\r\n",
      "\t\t\t\t\t\t<td class=\"brd_m\">한빛미디어</td>\r\n",
      "\t\t\t\t\t\t<td class=\"left\"><a href=\"/store/books/look.php?p_code=B1598189984\">처음 시작하는 마이크로서비스</a></td>\r\n",
      "\t\t\t\t\t\t\t\t\t\t\t\t\t<td class=\"left\">로니 미트라 외 1명  </td>\r\n",
      "\t\t\t\t\t\t\t\t\t\t\t\t<td>2021-08-01</td>\r\n",
      "\t\t\t\t\t\t<td class=\"right\">27,000원</td>\r\n",
      "\t\t\t\t\t</tr>\r\n",
      "\r\n",
      "\t\t\t\t\t\t\t\t\t\t<tr>\r\n",
      "\t\t\t\t\t\t<td class=\"brd_b\">한빛비즈</td>\r\n",
      "\t\t\t\t\t\t<td class=\"left\"><a href=\"/store/books/look.php?p_code=B7123382765\">눈 떠보니 선진국</a></td>\r\n",
      "\t\t\t\t\t\t\t\t\t\t\t\t\t<td class=\"left\">박태웅   </td>\r\n",
      "\t\t\t\t\t\t\t\t\t\t\t\t<td>2021-08-01</td>\r\n",
      "\t\t\t\t\t\t<td class=\"right\">16,500원</td>\r\n",
      "\t\t\t\t\t</tr>\r\n",
      "\r\n",
      "\t\t\t\t\t\t\t\t\t\t<tr>\r\n",
      "\t\t\t\t\t\t<td class=\"brd_m\">한빛미디어</td>\r\n",
      "\t\t\t\t\t\t<td class=\"left\"><a href=\"/store/books/look.php?p_code=B2354289186\">텐서플로 라이트를 활용한 안드로이드 딥러닝</a></td>\r\n",
      "\t\t\t\t\t\t\t\t\t\t\t\t\t<td class=\"left\">임태규   </td>\r\n",
      "\t\t\t\t\t\t\t\t\t\t\t\t<td>2021-08-01</td>\r\n",
      "\t\t\t\t\t\t<td class=\"right\">27,000원</td>\r\n",
      "\t\t\t\t\t</tr>\r\n",
      "\r\n",
      "\t\t\t\t\t\t\t\t\t\t<tr>\r\n",
      "\t\t\t\t\t\t<td class=\"brd_m\">한빛미디어</td>\r\n",
      "\t\t\t\t\t\t<td class=\"left\"><a href=\"/store/books/look.php?p_code=B9934227624\">회사에서 바로 통하는  오토캐드 AutoCAD 2022</a></td>\r\n",
      "\t\t\t\t\t\t\t\t\t\t\t\t\t<td class=\"left\">심미현   </td>\r\n",
      "\t\t\t\t\t\t\t\t\t\t\t\t<td>2021-07-28</td>\r\n",
      "\t\t\t\t\t\t<td class=\"right\">28,000원</td>\r\n",
      "\t\t\t\t\t</tr>\r\n",
      "\r\n",
      "\t\t\t\t\t\t\t\t\t\t<tr>\r\n",
      "\t\t\t\t\t\t<td class=\"brd_b\">한빛비즈</td>\r\n",
      "\t\t\t\t\t\t<td class=\"left\"><a href=\"/store/books/look.php?p_code=B3464803426\">5리터의 피</a></td>\r\n",
      "\t\t\t\t\t\t\t\t\t\t\t\t\t<td class=\"left\">로즈 조지   </td>\r\n",
      "\t\t\t\t\t\t\t\t\t\t\t\t<td>2021-07-27</td>\r\n",
      "\t\t\t\t\t\t<td class=\"right\">25,000원</td>\r\n",
      "\t\t\t\t\t</tr>\r\n",
      "\r\n",
      "\t\t\t\t\t\t\t\t\t\t<tr>\r\n",
      "\t\t\t\t\t\t<td class=\"brd_b\">한빛비즈</td>\r\n",
      "\t\t\t\t\t\t<td class=\"left\"><a href=\"/store/books/look.php?p_code=B4332804661\">미국주식 스팩투자법</a></td>\r\n",
      "\t\t\t\t\t\t\t\t\t\t\t\t\t<td class=\"left\">리차드(이명진)   </td>\r\n",
      "\t\t\t\t\t\t\t\t\t\t\t\t<td>2021-07-26</td>\r\n",
      "\t\t\t\t\t\t<td class=\"right\">18,500원</td>\r\n",
      "\t\t\t\t\t</tr>\r\n",
      "\r\n",
      "\t\t\t\t\t\t\t\t\t\t<tr>\r\n",
      "\t\t\t\t\t\t<td class=\"brd_e\">한빛에듀</td>\r\n",
      "\t\t\t\t\t\t<td class=\"left\"><a href=\"/store/books/look.php?p_code=B3130478771\">재미있고 빠른 숫자 쓰기 1권 : 0부터 50까지</a></td>\r\n",
      "\t\t\t\t\t\t\t\t\t\t\t\t\t<td class=\"left\">한빛학습연구회   </td>\r\n",
      "\t\t\t\t\t\t\t\t\t\t\t\t<td>2021-07-26</td>\r\n",
      "\t\t\t\t\t\t<td class=\"right\">7,500원</td>\r\n",
      "\t\t\t\t\t</tr>\r\n",
      "\r\n",
      "\t\t\t\t\t\t\t\t\t\t<tr>\r\n",
      "\t\t\t\t\t\t<td class=\"brd_e\">한빛에듀</td>\r\n",
      "\t\t\t\t\t\t<td class=\"left\"><a href=\"/store/books/look.php?p_code=B8498015749\">재미있고 빠른 숫자 쓰기 2권 : 0부터 100까지</a></td>\r\n",
      "\t\t\t\t\t\t\t\t\t\t\t\t\t<td class=\"left\">한빛학습연구회   </td>\r\n",
      "\t\t\t\t\t\t\t\t\t\t\t\t<td>2021-07-26</td>\r\n",
      "\t\t\t\t\t\t<td class=\"right\">7,500원</td>\r\n",
      "\t\t\t\t\t</tr>\r\n",
      "\r\n",
      "\t\t\t\t\t\t\t\t\t\t<tr>\r\n",
      "\t\t\t\t\t\t<td class=\"brd_e\">한빛에듀</td>\r\n",
      "\t\t\t\t\t\t<td class=\"left\"><a href=\"/store/books/look.php?p_code=B9329914886\">재미있고 빠른 알파벳 쓰기</a></td>\r\n",
      "\t\t\t\t\t\t\t\t\t\t\t\t\t<td class=\"left\">한빛학습연구회   </td>\r\n",
      "\t\t\t\t\t\t\t\t\t\t\t\t<td>2021-07-26</td>\r\n",
      "\t\t\t\t\t\t<td class=\"right\">7,500원</td>\r\n",
      "\t\t\t\t\t</tr>\r\n",
      "\r\n",
      "\t\t\t\t\t\t\t\t\t\t<tr>\r\n",
      "\t\t\t\t\t\t<td class=\"brd_m\">한빛미디어</td>\r\n",
      "\t\t\t\t\t\t<td class=\"left\"><a href=\"/store/books/look.php?p_code=B3467206212\">이기적이라 살아남았습니다</a></td>\r\n",
      "\t\t\t\t\t\t\t\t\t\t\t\t\t<td class=\"left\">이마이즈미 다다아키   </td>\r\n",
      "\t\t\t\t\t\t\t\t\t\t\t\t<td>2021-07-20</td>\r\n",
      "\t\t\t\t\t\t<td class=\"right\">13,800원</td>\r\n",
      "\t\t\t\t\t</tr>\r\n",
      "\r\n",
      "\t\t\t\t\t\t\t\t\t\t<tr>\r\n",
      "\t\t\t\t\t\t<td class=\"brd_a\">한빛아카데미</td>\r\n",
      "\t\t\t\t\t\t<td class=\"left\"><a href=\"/store/books/look.php?p_code=B2179952545\">비즈니스 애널리틱스</a></td>\r\n",
      "\t\t\t\t\t\t\t\t\t\t\t\t\t<td class=\"left\">Sanjiv Jaggia 외 3명  </td>\r\n",
      "\t\t\t\t\t\t\t\t\t\t\t\t<td>2021-07-20</td>\r\n",
      "\t\t\t\t\t\t<td class=\"right\">38,000원</td>\r\n",
      "\t\t\t\t\t</tr>\r\n",
      "\r\n",
      "\t\t\t\t\t\t\t\t\t\t<tr>\r\n",
      "\t\t\t\t\t\t<td class=\"brd_m\">한빛미디어</td>\r\n",
      "\t\t\t\t\t\t<td class=\"left\"><a href=\"/store/books/look.php?p_code=B1047091568\">스벨트 앤 새퍼 인 액션</a></td>\r\n",
      "\t\t\t\t\t\t\t\t\t\t\t\t\t<td class=\"left\">마크 볼크먼   </td>\r\n",
      "\t\t\t\t\t\t\t\t\t\t\t\t<td>2021-07-19</td>\r\n",
      "\t\t\t\t\t\t<td class=\"right\">38,000원</td>\r\n",
      "\t\t\t\t\t</tr>\r\n",
      "\r\n",
      "\t\t\t\t\t\t\t\t\t\t<tr>\r\n",
      "\t\t\t\t\t\t<td class=\"brd_a\">한빛아카데미</td>\r\n",
      "\t\t\t\t\t\t<td class=\"left\"><a href=\"/store/books/look.php?p_code=B2499110389\">STEM CookBook, 문제 해결력을 키우는 정역학</a></td>\r\n",
      "\t\t\t\t\t\t\t\t\t\t\t\t\t<td class=\"left\">오충석   </td>\r\n",
      "\t\t\t\t\t\t\t\t\t\t\t\t<td>2021-07-16</td>\r\n",
      "\t\t\t\t\t\t<td class=\"right\">30,000원</td>\r\n",
      "\t\t\t\t\t</tr>\r\n",
      "\r\n",
      "\t\t\t\t\t\t\t\t\t\t<tr>\r\n",
      "\t\t\t\t\t\t<td class=\"brd_a\">한빛아카데미</td>\r\n",
      "\t\t\t\t\t\t<td class=\"left\"><a href=\"/store/books/look.php?p_code=B7623190015\">최신 관리회계</a></td>\r\n",
      "\t\t\t\t\t\t\t\t\t\t\t\t\t<td class=\"left\">정재권 외 2명  </td>\r\n",
      "\t\t\t\t\t\t\t\t\t\t\t\t<td>2021-07-10</td>\r\n",
      "\t\t\t\t\t\t<td class=\"right\">28,000원</td>\r\n",
      "\t\t\t\t\t</tr>\r\n",
      "\r\n",
      "\t\t\t\t\t\t\t\t\t\t<tr>\r\n",
      "\t\t\t\t\t\t<td class=\"brd_m\">한빛미디어</td>\r\n",
      "\t\t\t\t\t\t<td class=\"left\"><a href=\"/store/books/look.php?p_code=B4300598719\">리눅스 입문자를 위한 명령어 사전</a></td>\r\n",
      "\t\t\t\t\t\t\t\t\t\t\t\t\t<td class=\"left\">가와구치 히로시 외 2명  </td>\r\n",
      "\t\t\t\t\t\t\t\t\t\t\t\t<td>2021-07-07</td>\r\n",
      "\t\t\t\t\t\t<td class=\"right\">32,000원</td>\r\n",
      "\t\t\t\t\t</tr>\r\n",
      "\r\n",
      "\t\t\t\t\t\t\t\t\t\t<tr>\r\n",
      "\t\t\t\t\t\t<td class=\"brd_b\">한빛비즈</td>\r\n",
      "\t\t\t\t\t\t<td class=\"left\"><a href=\"/store/books/look.php?p_code=B9108907099\">파타고니아 이야기</a></td>\r\n",
      "\t\t\t\t\t\t\t\t\t\t\t\t\t<td class=\"left\">이본 쉬나드   </td>\r\n",
      "\t\t\t\t\t\t\t\t\t\t\t\t<td>2021-07-07</td>\r\n",
      "\t\t\t\t\t\t<td class=\"right\">55,000원</td>\r\n",
      "\t\t\t\t\t</tr>\r\n",
      "\r\n",
      "\t\t\t\t\t\t\t\t\t\t<tr>\r\n",
      "\t\t\t\t\t\t<td class=\"brd_m\">한빛미디어</td>\r\n",
      "\t\t\t\t\t\t<td class=\"left\"><a href=\"/store/books/look.php?p_code=B7015117381\">풀스택 서버리스 :  리액트, AWS, 그래프QL을 이용한 최신 애플리케이션 개발</a></td>\r\n",
      "\t\t\t\t\t\t\t\t\t\t\t\t\t<td class=\"left\">네이더 다빗   </td>\r\n",
      "\t\t\t\t\t\t\t\t\t\t\t\t<td>2021-07-05</td>\r\n",
      "\t\t\t\t\t\t<td class=\"right\">21,000원</td>\r\n",
      "\t\t\t\t\t</tr>\r\n",
      "\r\n",
      "\t\t\t\t\t\t\t\t\t\t<tr>\r\n",
      "\t\t\t\t\t\t<td class=\"brd_l\">한빛라이프</td>\r\n",
      "\t\t\t\t\t\t<td class=\"left\"><a href=\"/store/books/look.php?p_code=B7448632539\">한 권으로 배우는 작고 예쁜 꽃자수</a></td>\r\n",
      "\t\t\t\t\t\t\t\t\t\t\t\t\t<td class=\"left\">장미나(미나랜드)   </td>\r\n",
      "\t\t\t\t\t\t\t\t\t\t\t\t<td>2021-07-05</td>\r\n",
      "\t\t\t\t\t\t<td class=\"right\">18,000원</td>\r\n",
      "\t\t\t\t\t</tr>\r\n",
      "\r\n",
      "\t\t\t\t\t\t\t\t\t\t<tr>\r\n",
      "\t\t\t\t\t\t<td class=\"brd_a\">한빛아카데미</td>\r\n",
      "\t\t\t\t\t\t<td class=\"left\"><a href=\"/store/books/look.php?p_code=B3148701816\">IT CookBook, 처음 만나는 회로이론&#40;2판&#41;</a></td>\r\n",
      "\t\t\t\t\t\t\t\t\t\t\t\t\t<td class=\"left\">방성완   </td>\r\n",
      "\t\t\t\t\t\t\t\t\t\t\t\t<td>2021-07-02</td>\r\n",
      "\t\t\t\t\t\t<td class=\"right\">23,000원</td>\r\n",
      "\t\t\t\t\t</tr>\r\n",
      "\r\n",
      "\t\t\t\t\t\t\t\t\t\t<tr>\r\n",
      "\t\t\t\t\t\t<td class=\"brd_a\">한빛아카데미</td>\r\n",
      "\t\t\t\t\t\t<td class=\"left\"><a href=\"/store/books/look.php?p_code=B2591303726\">안전필수 시스템 제어 설계</a></td>\r\n",
      "\t\t\t\t\t\t\t\t\t\t\t\t\t<td class=\"left\">김국헌 외 2명  </td>\r\n",
      "\t\t\t\t\t\t\t\t\t\t\t\t<td>2021-07-02</td>\r\n",
      "\t\t\t\t\t\t<td class=\"right\">38,000원</td>\r\n",
      "\t\t\t\t\t</tr>\r\n",
      "\r\n",
      "\t\t\t\t\t\t\t\t\t\t<tr>\r\n",
      "\t\t\t\t\t\t<td class=\"brd_m\">한빛미디어</td>\r\n",
      "\t\t\t\t\t\t<td class=\"left\"><a href=\"/store/books/look.php?p_code=B7468885216\">러닝 리액트&#40;2판&#41;</a></td>\r\n",
      "\t\t\t\t\t\t\t\t\t\t\t\t\t<td class=\"left\">알렉스 뱅크스 외 1명  </td>\r\n",
      "\t\t\t\t\t\t\t\t\t\t\t\t<td>2021-07-01</td>\r\n",
      "\t\t\t\t\t\t<td class=\"right\">28,000원</td>\r\n",
      "\t\t\t\t\t</tr>\r\n",
      "\r\n",
      "\t\t\t\t\t\t\t\t\t\t<tr>\r\n",
      "\t\t\t\t\t\t<td class=\"brd_m\">한빛미디어</td>\r\n",
      "\t\t\t\t\t\t<td class=\"left\"><a href=\"/store/books/look.php?p_code=B9354330938\">업무에 바로 쓰는 SQL 튜닝</a></td>\r\n",
      "\t\t\t\t\t\t\t\t\t\t\t\t\t<td class=\"left\">양바른   </td>\r\n",
      "\t\t\t\t\t\t\t\t\t\t\t\t<td>2021-07-01</td>\r\n",
      "\t\t\t\t\t\t<td class=\"right\">22,000원</td>\r\n",
      "\t\t\t\t\t</tr>\r\n",
      "\r\n",
      "\t\t\t\t\t\t\t\t\t\t<tr>\r\n",
      "\t\t\t\t\t\t<td class=\"brd_m\">한빛미디어</td>\r\n",
      "\t\t\t\t\t\t<td class=\"left\"><a href=\"/store/books/look.php?p_code=B9602652686\">데이터 스토리</a></td>\r\n",
      "\t\t\t\t\t\t\t\t\t\t\t\t\t<td class=\"left\">낸시 두아르테   </td>\r\n",
      "\t\t\t\t\t\t\t\t\t\t\t\t<td>2021-07-01</td>\r\n",
      "\t\t\t\t\t\t<td class=\"right\">22,000원</td>\r\n",
      "\t\t\t\t\t</tr>\r\n",
      "\r\n",
      "\t\t\t\t\t\t\t\t\t\t<tr>\r\n",
      "\t\t\t\t\t\t<td class=\"brd_b\">한빛비즈</td>\r\n",
      "\t\t\t\t\t\t<td class=\"left\"><a href=\"/store/books/look.php?p_code=B1108557246\">상식의 재구성</a></td>\r\n",
      "\t\t\t\t\t\t\t\t\t\t\t\t\t<td class=\"left\">조선희   </td>\r\n",
      "\t\t\t\t\t\t\t\t\t\t\t\t<td>2021-07-01</td>\r\n",
      "\t\t\t\t\t\t<td class=\"right\">22,000원</td>\r\n",
      "\t\t\t\t\t</tr>\r\n",
      "\r\n",
      "\t\t\t\t\t\t\t\t\t\t<tr>\r\n",
      "\t\t\t\t\t\t<td class=\"brd_m\">한빛미디어</td>\r\n",
      "\t\t\t\t\t\t<td class=\"left\"><a href=\"/store/books/look.php?p_code=B3573121629\">처음 배우는 네트워크 보안</a></td>\r\n",
      "\t\t\t\t\t\t\t\t\t\t\t\t\t<td class=\"left\">장상근(맥스)   </td>\r\n",
      "\t\t\t\t\t\t\t\t\t\t\t\t<td>2021-06-30</td>\r\n",
      "\t\t\t\t\t\t<td class=\"right\">28,000원</td>\r\n",
      "\t\t\t\t\t</tr>\r\n",
      "\r\n",
      "\t\t\t\t\t\t\t\t\t\t<tr>\r\n",
      "\t\t\t\t\t\t<td class=\"brd_e\">한빛에듀</td>\r\n",
      "\t\t\t\t\t\t<td class=\"left\"><a href=\"/store/books/look.php?p_code=B6918140228\">찾아도 찾아도 끝판왕 1000개 숨은그림찾기 우리 동네</a></td>\r\n",
      "\t\t\t\t\t\t\t\t\t\t\t\t\t<td class=\"left\">자나 컬   </td>\r\n",
      "\t\t\t\t\t\t\t\t\t\t\t\t<td>2021-06-30</td>\r\n",
      "\t\t\t\t\t\t<td class=\"right\">8,000원</td>\r\n",
      "\t\t\t\t\t</tr>\r\n",
      "\r\n",
      "\t\t\t\t\t\t\t\t\t\t<tr>\r\n",
      "\t\t\t\t\t\t<td class=\"brd_e\">한빛에듀</td>\r\n",
      "\t\t\t\t\t\t<td class=\"left\"><a href=\"/store/books/look.php?p_code=B9380943452\">찾아도 찾아도 끝판왕 1000개 숨은그림찾기 숲속 놀이터</a></td>\r\n",
      "\t\t\t\t\t\t\t\t\t\t\t\t\t<td class=\"left\">클레어 스탬퍼   </td>\r\n",
      "\t\t\t\t\t\t\t\t\t\t\t\t<td>2021-06-30</td>\r\n",
      "\t\t\t\t\t\t<td class=\"right\">8,000원</td>\r\n",
      "\t\t\t\t\t</tr>\r\n",
      "\r\n",
      "\t\t\t\t\t\t\t\t\t\t<tr>\r\n",
      "\t\t\t\t\t\t<td class=\"brd_a\">한빛아카데미</td>\r\n",
      "\t\t\t\t\t\t<td class=\"left\"><a href=\"/store/books/look.php?p_code=B2388883228\">IT CookBook, 디지털 콘텐츠 기획&#40;2판&#41;</a></td>\r\n",
      "\t\t\t\t\t\t\t\t\t\t\t\t\t<td class=\"left\">김성은   </td>\r\n",
      "\t\t\t\t\t\t\t\t\t\t\t\t<td>2021-06-30</td>\r\n",
      "\t\t\t\t\t\t<td class=\"right\">30,000원</td>\r\n",
      "\t\t\t\t\t</tr>\r\n",
      "\r\n",
      "\t\t\t\t\t\t\t\t\t\t<tr>\r\n",
      "\t\t\t\t\t\t<td class=\"brd_a\">한빛아카데미</td>\r\n",
      "\t\t\t\t\t\t<td class=\"left\"><a href=\"/store/books/look.php?p_code=B3006151946\">IT CookBook, C로 배우는 쉬운 자료구조&#40;4판&#41;</a></td>\r\n",
      "\t\t\t\t\t\t\t\t\t\t\t\t\t<td class=\"left\">이지영   </td>\r\n",
      "\t\t\t\t\t\t\t\t\t\t\t\t<td>2021-06-30</td>\r\n",
      "\t\t\t\t\t\t<td class=\"right\">29,000원</td>\r\n",
      "\t\t\t\t\t</tr>\r\n",
      "\r\n",
      "\t\t\t\t\t\t\t\t\t\t<tr>\r\n",
      "\t\t\t\t\t\t<td class=\"brd_a\">한빛아카데미</td>\r\n",
      "\t\t\t\t\t\t<td class=\"left\"><a href=\"/store/books/look.php?p_code=B4766499846\">IT CookBook, 쉽게 배우는 소프트웨어 공학&#40;2판&#41;</a></td>\r\n",
      "\t\t\t\t\t\t\t\t\t\t\t\t\t<td class=\"left\">김치수   </td>\r\n",
      "\t\t\t\t\t\t\t\t\t\t\t\t<td>2021-06-30</td>\r\n",
      "\t\t\t\t\t\t<td class=\"right\">30,000원</td>\r\n",
      "\t\t\t\t\t</tr>\r\n",
      "\r\n",
      "\t\t\t\t\t\t\t\t\t\t<tr>\r\n",
      "\t\t\t\t\t\t<td class=\"brd_a\">한빛아카데미</td>\r\n",
      "\t\t\t\t\t\t<td class=\"left\"><a href=\"/store/books/look.php?p_code=B1904486238\">IT CookBook, 컴퓨터 구조와 원리 3.0</a></td>\r\n",
      "\t\t\t\t\t\t\t\t\t\t\t\t\t<td class=\"left\">신종홍   </td>\r\n",
      "\t\t\t\t\t\t\t\t\t\t\t\t<td>2021-06-30</td>\r\n",
      "\t\t\t\t\t\t<td class=\"right\">29,000원</td>\r\n",
      "\t\t\t\t\t</tr>\r\n",
      "\r\n",
      "\t\t\t\t\t\t\t\t\t\t<tr>\r\n",
      "\t\t\t\t\t\t<td class=\"brd_a\">한빛아카데미</td>\r\n",
      "\t\t\t\t\t\t<td class=\"left\"><a href=\"/store/books/look.php?p_code=B2500085297\">IT CookBook, 최신 기술 동향으로 알아보는 ICT와 4차 산업혁명</a></td>\r\n",
      "\t\t\t\t\t\t\t\t\t\t\t\t\t<td class=\"left\">김용태 외 2명  </td>\r\n",
      "\t\t\t\t\t\t\t\t\t\t\t\t<td>2021-06-28</td>\r\n",
      "\t\t\t\t\t\t<td class=\"right\">24,000원</td>\r\n",
      "\t\t\t\t\t</tr>\r\n",
      "\r\n",
      "\t\t\t\t\t\t\t\t\t\t<tr>\r\n",
      "\t\t\t\t\t\t<td class=\"brd_m\">한빛미디어</td>\r\n",
      "\t\t\t\t\t\t<td class=\"left\"><a href=\"/store/books/look.php?p_code=B3935386244\">초보 판매자가 빅파워셀러로 거듭나는 네이버 스마트스토어 마케팅 시작하기</a></td>\r\n",
      "\t\t\t\t\t\t\t\t\t\t\t\t\t<td class=\"left\">정진수   </td>\r\n",
      "\t\t\t\t\t\t\t\t\t\t\t\t<td>2021-06-28</td>\r\n",
      "\t\t\t\t\t\t<td class=\"right\">17,800원</td>\r\n",
      "\t\t\t\t\t</tr>\r\n",
      "\r\n",
      "\t\t\t\t\t\t\t\t\t\t<tr>\r\n",
      "\t\t\t\t\t\t<td class=\"brd_a\">한빛아카데미</td>\r\n",
      "\t\t\t\t\t\t<td class=\"left\"><a href=\"/store/books/look.php?p_code=B5696471156\">STEM CookBook, 한 걸음씩 알아가는 선형대수학</a></td>\r\n",
      "\t\t\t\t\t\t\t\t\t\t\t\t\t<td class=\"left\">Kuldeep Singh   </td>\r\n",
      "\t\t\t\t\t\t\t\t\t\t\t\t<td>2021-06-28</td>\r\n",
      "\t\t\t\t\t\t<td class=\"right\">32,000원</td>\r\n",
      "\t\t\t\t\t</tr>\r\n",
      "\r\n",
      "\t\t\t\t\t\t\t\t\t\t<tr>\r\n",
      "\t\t\t\t\t\t<td class=\"brd_a\">한빛아카데미</td>\r\n",
      "\t\t\t\t\t\t<td class=\"left\"><a href=\"/store/books/look.php?p_code=B4712980610\">STEM CookBook, 해석학 첫걸음</a></td>\r\n",
      "\t\t\t\t\t\t\t\t\t\t\t\t\t<td class=\"left\">스티븐 애벗(Stephen Abbott)   </td>\r\n",
      "\t\t\t\t\t\t\t\t\t\t\t\t<td>2021-06-28</td>\r\n",
      "\t\t\t\t\t\t<td class=\"right\">26,000원</td>\r\n",
      "\t\t\t\t\t</tr>\r\n",
      "\r\n",
      "\t\t\t\t\t\t\t\t\t\t<tr>\r\n",
      "\t\t\t\t\t\t<td class=\"brd_a\">한빛아카데미</td>\r\n",
      "\t\t\t\t\t\t<td class=\"left\"><a href=\"/store/books/look.php?p_code=B7132069963\">IT CookBook, 난생처음 파이썬 프로그래밍</a></td>\r\n",
      "\t\t\t\t\t\t\t\t\t\t\t\t\t<td class=\"left\">우재남 외 1명  </td>\r\n",
      "\t\t\t\t\t\t\t\t\t\t\t\t<td>2021-06-28</td>\r\n",
      "\t\t\t\t\t\t<td class=\"right\">24,000원</td>\r\n",
      "\t\t\t\t\t</tr>\r\n",
      "\r\n",
      "\t\t\t\t\t\t\t\t\t\t<tr>\r\n",
      "\t\t\t\t\t\t<td class=\"brd_a\">한빛아카데미</td>\r\n",
      "\t\t\t\t\t\t<td class=\"left\"><a href=\"/store/books/look.php?p_code=B8742050283\">IT CookBook, 정보 보안 개론&#40;4판&#41;</a></td>\r\n",
      "\t\t\t\t\t\t\t\t\t\t\t\t\t<td class=\"left\">양대일   </td>\r\n",
      "\t\t\t\t\t\t\t\t\t\t\t\t<td>2021-06-28</td>\r\n",
      "\t\t\t\t\t\t<td class=\"right\">30,000원</td>\r\n",
      "\t\t\t\t\t</tr>\r\n",
      "\r\n",
      "\t\t\t\t\t\t\t\t\t\t<tr>\r\n",
      "\t\t\t\t\t\t<td class=\"brd_m\">한빛미디어</td>\r\n",
      "\t\t\t\t\t\t<td class=\"left\"><a href=\"/store/books/look.php?p_code=B9775049127\">세상에서 제일 친절한 엑셀&#40;개정판&#41;</a></td>\r\n",
      "\t\t\t\t\t\t\t\t\t\t\t\t\t<td class=\"left\">박재영   </td>\r\n",
      "\t\t\t\t\t\t\t\t\t\t\t\t<td>2021-06-25</td>\r\n",
      "\t\t\t\t\t\t<td class=\"right\">18,000원</td>\r\n",
      "\t\t\t\t\t</tr>\r\n",
      "\r\n",
      "\t\t\t\t\t\t\t\t\t\t<tr>\r\n",
      "\t\t\t\t\t\t<td class=\"brd_b\">한빛비즈</td>\r\n",
      "\t\t\t\t\t\t<td class=\"left\"><a href=\"/store/books/look.php?p_code=B5628974829\">게임세대 내 아이와 소통하는 법</a></td>\r\n",
      "\t\t\t\t\t\t\t\t\t\t\t\t\t<td class=\"left\">이장주   </td>\r\n",
      "\t\t\t\t\t\t\t\t\t\t\t\t<td>2021-06-25</td>\r\n",
      "\t\t\t\t\t\t<td class=\"right\">16,000원</td>\r\n",
      "\t\t\t\t\t</tr>\r\n",
      "\r\n",
      "\t\t\t\t\t\t\t\t\t\t<tr>\r\n",
      "\t\t\t\t\t\t<td class=\"brd_l\">한빛라이프</td>\r\n",
      "\t\t\t\t\t\t<td class=\"left\"><a href=\"/store/books/look.php?p_code=B6779771167\">고개를 끄덕이는 것만으로도 위로가 되니까</a></td>\r\n",
      "\t\t\t\t\t\t\t\t\t\t\t\t\t<td class=\"left\">문지애   </td>\r\n",
      "\t\t\t\t\t\t\t\t\t\t\t\t<td>2021-06-21</td>\r\n",
      "\t\t\t\t\t\t<td class=\"right\">15,000원</td>\r\n",
      "\t\t\t\t\t</tr>\r\n",
      "\r\n",
      "\t\t\t\t\t\t\t\t\t\t<tr>\r\n",
      "\t\t\t\t\t\t<td class=\"brd_a\">한빛아카데미</td>\r\n",
      "\t\t\t\t\t\t<td class=\"left\"><a href=\"/store/books/look.php?p_code=B7197534022\">IT CookBook, 익스플로링 아두이노&#40;2판&#41;</a></td>\r\n",
      "\t\t\t\t\t\t\t\t\t\t\t\t\t<td class=\"left\">JEREMY BLUM   </td>\r\n",
      "\t\t\t\t\t\t\t\t\t\t\t\t<td>2021-06-21</td>\r\n",
      "\t\t\t\t\t\t<td class=\"right\">32,000원</td>\r\n",
      "\t\t\t\t\t</tr>\r\n",
      "\r\n",
      "\t\t\t\t\t\t\t\t\t\t<tr>\r\n",
      "\t\t\t\t\t\t<td class=\"brd_a\">한빛아카데미</td>\r\n",
      "\t\t\t\t\t\t<td class=\"left\"><a href=\"/store/books/look.php?p_code=B6772148484\">IT CookBook, 난생처음 인공지능 입문</a></td>\r\n",
      "\t\t\t\t\t\t\t\t\t\t\t\t\t<td class=\"left\">서지영   </td>\r\n",
      "\t\t\t\t\t\t\t\t\t\t\t\t<td>2021-06-18</td>\r\n",
      "\t\t\t\t\t\t<td class=\"right\">25,000원</td>\r\n",
      "\t\t\t\t\t</tr>\r\n",
      "\r\n",
      "\t\t\t\t\t\t\t\t\t\t<tr>\r\n",
      "\t\t\t\t\t\t<td class=\"brd_a\">한빛아카데미</td>\r\n",
      "\t\t\t\t\t\t<td class=\"left\"><a href=\"/store/books/look.php?p_code=B2688599320\">제대로 작성하는 논문 : 시작부터 마무리까지</a></td>\r\n",
      "\t\t\t\t\t\t\t\t\t\t\t\t\t<td class=\"left\">노경섭 외 1명  </td>\r\n",
      "\t\t\t\t\t\t\t\t\t\t\t\t<td>2021-06-14</td>\r\n",
      "\t\t\t\t\t\t<td class=\"right\">20,000원</td>\r\n",
      "\t\t\t\t\t</tr>\r\n",
      "\r\n",
      "\t\t\t\t\t\t\t\t\t\t<tr>\r\n",
      "\t\t\t\t\t\t<td class=\"brd_m\">한빛미디어</td>\r\n",
      "\t\t\t\t\t\t<td class=\"left\"><a href=\"/store/books/look.php?p_code=B1845934160\">회사에서 바로 통하는 실무 엑셀 함수&수식 - 모든 버전용</a></td>\r\n",
      "\t\t\t\t\t\t\t\t\t\t\t\t\t<td class=\"left\">김경자 외 1명  </td>\r\n",
      "\t\t\t\t\t\t\t\t\t\t\t\t<td>2021-06-11</td>\r\n",
      "\t\t\t\t\t\t<td class=\"right\">24,000원</td>\r\n",
      "\t\t\t\t\t</tr>\r\n",
      "\r\n",
      "\t\t\t\t\t\t\t\t\t\t<tr>\r\n",
      "\t\t\t\t\t\t<td class=\"brd_l\">한빛라이프</td>\r\n",
      "\t\t\t\t\t\t<td class=\"left\"><a href=\"/store/books/look.php?p_code=B6477707698\">지리의 쓸모</a></td>\r\n",
      "\t\t\t\t\t\t\t\t\t\t\t\t\t<td class=\"left\">전국지리교사모임   </td>\r\n",
      "\t\t\t\t\t\t\t\t\t\t\t\t<td>2021-06-10</td>\r\n",
      "\t\t\t\t\t\t<td class=\"right\">18,800원</td>\r\n",
      "\t\t\t\t\t</tr>\r\n",
      "\r\n",
      "\t\t\t\t\t\t\t\t\t\t<tr>\r\n",
      "\t\t\t\t\t\t<td class=\"brd_a\">한빛아카데미</td>\r\n",
      "\t\t\t\t\t\t<td class=\"left\"><a href=\"/store/books/look.php?p_code=B4963691938\">수학이 외계어처럼 들리는 이공계생을 위한 제로 수학</a></td>\r\n",
      "\t\t\t\t\t\t\t\t\t\t\t\t\t<td class=\"left\">김우섭(소동) 외 1명  </td>\r\n",
      "\t\t\t\t\t\t\t\t\t\t\t\t<td>2021-06-10</td>\r\n",
      "\t\t\t\t\t\t<td class=\"right\">22,000원</td>\r\n",
      "\t\t\t\t\t</tr>\r\n",
      "\r\n",
      "\t\t\t\t\t\t\t\t\t\t<tr>\r\n",
      "\t\t\t\t\t\t<td class=\"brd_m\">한빛미디어</td>\r\n",
      "\t\t\t\t\t\t<td class=\"left\"><a href=\"/store/books/look.php?p_code=B1705050272\">개발자에서 아키텍트로</a></td>\r\n",
      "\t\t\t\t\t\t\t\t\t\t\t\t\t<td class=\"left\">마이클 킬링   </td>\r\n",
      "\t\t\t\t\t\t\t\t\t\t\t\t<td>2021-06-07</td>\r\n",
      "\t\t\t\t\t\t<td class=\"right\">27,000원</td>\r\n",
      "\t\t\t\t\t</tr>\r\n",
      "\r\n",
      "\t\t\t\t\t\t\t\t\t\t<tr>\r\n",
      "\t\t\t\t\t\t<td class=\"brd_m\">한빛미디어</td>\r\n",
      "\t\t\t\t\t\t<td class=\"left\"><a href=\"/store/books/look.php?p_code=B8979230235\">머신러닝을 활용한 웹 최적화</a></td>\r\n",
      "\t\t\t\t\t\t\t\t\t\t\t\t\t<td class=\"left\">이쓰카 슈헤이   </td>\r\n",
      "\t\t\t\t\t\t\t\t\t\t\t\t<td>2021-06-07</td>\r\n",
      "\t\t\t\t\t\t<td class=\"right\">34,000원</td>\r\n",
      "\t\t\t\t\t</tr>\r\n",
      "\r\n",
      "\t\t\t\t\t\t\t\t\t\r\n",
      "\t\t\t\t</tbody>\r\n",
      "\t\t\t</table>\r\n",
      "\t\t</div>\r\n",
      "\t\t<!-- //책 리스트 -->\r\n",
      "\t\t\r\n",
      "\t\t<!-- 페이징 -->\r\n",
      "\t\t<div class=\"paginate bdr_no\">\r\n",
      "\t\t\t<strong>1</strong>\n",
      "<a href=\"/store/books/full_book_list.html?page=2&srt=p_pub_date&brand=\">2</a>\n",
      "<a href=\"/store/books/full_book_list.html?page=3&srt=p_pub_date&brand=\">3</a>\n",
      "<a href=\"/store/books/full_book_list.html?page=4&srt=p_pub_date&brand=\">4</a>\n",
      "<a href=\"/store/books/full_book_list.html?page=5&srt=p_pub_date&brand=\">5</a>\n",
      "<a href=\"/store/books/full_book_list.html?page=6&srt=p_pub_date&brand=\">6</a>\n",
      "<a href=\"/store/books/full_book_list.html?page=7&srt=p_pub_date&brand=\">7</a>\n",
      "<a href=\"/store/books/full_book_list.html?page=8&srt=p_pub_date&brand=\">8</a>\n",
      "<a href=\"/store/books/full_book_list.html?page=9&srt=p_pub_date&brand=\">9</a>\n",
      "<a href=\"/store/books/full_book_list.html?page=10&srt=p_pub_date&brand=\">10</a>\n",
      "<a href=\"/store/books/full_book_list.html?page=11&srt=p_pub_date&brand=\" class=\"next\"><span>&gt;</span></a>\n",
      "\t\t</div>\r\n",
      "\t\t<!-- //페이징 -->\r\n",
      "\t\t\r\n",
      "\t\t<!-- 전체 목록 다운로드 버튼-->\r\n",
      "\t\t<div class=\"btn_full_list mt40\"><a href=\"javascript:document.frm.submit();\">전체 목록 다운로드</a></div>\r\n",
      "\t\r\n",
      "\t</div>\r\n",
      "\t<!-- //전체도서목록 wrap -->\t\r\n",
      "\t\r\n",
      "</div>\r\n",
      "<!-- //Contents -->\r\n",
      "<form name=\"frm\" id=\"frm\" method=\"post\" action=\"./full_book_list_down.php\">\r\n",
      "<input type=\"hidden\" name=\"brand\" id=\"brand\" value=\"\">\r\n",
      "<input type=\"hidden\" name=\"srt\" id=\"srt\" value=\"p_pub_date\">\r\n",
      "</form>\r\n",
      "<!-- Footer -->\r\n",
      "<footer>\r\n",
      "  <!-- 공지사항 -->\r\n",
      "  <div class=\"foot_notice\" style=\"height:6px;\"></div>  <!-- //공지사항 -->\r\n",
      "  \r\n",
      "  <div class=\"foot_contents\">\r\n",
      "    <!-- 하단 메뉴 -->\r\n",
      "    <div class=\"foot_menu\">\r\n",
      "      <!-- added by coffin -->\r\n",
      "            <ul>\r\n",
      "        <li><a href=\"https://www.hanbit.co.kr/publisher/index.html\" target=\"_blank\">회사소개</a>(<a href=\"https://www.hanbit.co.kr/publisher/index.html\" target=\"_blank\">KOR</a> | <a href=\"https://www.hanbit.co.kr/publisher/index.html?lang=e\" target=\"_blank\">ENG</a>) &#149; <a href=\"https://www.hanbit.co.kr/publisher/contact.html?lang=k\" target=\"_blank\">약도</a></li>\r\n",
      "        <li><a href=\"https://www.hanbit.co.kr/publisher/write.html\" target=\"_blank\">기획 및 원고 모집</a></li>\r\n",
      "        <li><a href=\"https://www.hanbit.co.kr/publisher/career.html\" target=\"_blank\">채용</a> &#149; 입사지원 <a href=\"mailto:jobs@hanbit.co.kr\">jobs@hanbit.co.kr</a></li>\r\n",
      "        <li><a href=\"https://www.hanbit.co.kr/publisher/foreignrights.html\" target=\"_blank\">FOREIGN RIGHTS</a></li>\r\n",
      "        <li><a href=\"https://www.hanbit.co.kr/member/use_agreement.html\">이용약관</a> &#149; <a href=\"https://www.hanbit.co.kr/member/privacy_policy.html\"><strong>개인정보취급방침</strong></a></li>\r\n",
      "        <li><a href=\"https://www.hanbit.co.kr/sitemap/sitemap.html\">사이트맵</a></li>\r\n",
      "      </ul>\r\n",
      "          </div>\r\n",
      "    <!-- //하단 메뉴 -->\r\n",
      "\r\n",
      "    <!-- SNS -->\r\n",
      "    <div class=\"foot_sns\">\r\n",
      "            \r\n",
      "      <ul>\r\n",
      "        <li class=\"foot_facebook\"><a href=\"https://www.facebook.com/hanbitmedia\" target=\"_blank\"><span>페이스북</span></a></li>\r\n",
      "        <!-- <li class=\"foot_googleplus\"><a href=\"https://plus.google.com/u/0/+HanbitCoKr/posts\" target=\"_blank\"><span>구글플러스</span></a></li> -->\r\n",
      "        <!-- <li class=\"foot_twitter\"><a href=\"https://twitter.com/hanbit\" target=\"_blank\"><span>트위터</span></a></li> -->\r\n",
      "        <li class=\"foot_youtube\"><a href=\"https://www.youtube.com/한빛TV\" target=\"_blank\"><span>유튜브</span></a></li>\r\n",
      "        <li class=\"foot_bolg\"><a href=\"http://blog.hanbit.co.kr/\" target=\"_blank\"><span>블로그</span></a></li>\r\n",
      "        <li class=\"foot_naverpost\"><a href=\"https://m.post.naver.com/hanbitstory\" target=\"_blank\"><span>네이버포스트</span></a></li>\r\n",
      "      </ul>\r\n",
      "      \r\n",
      "      \r\n",
      "        <fieldset class=\"foot_srch\">\r\n",
      "          <legend>하단 검색영역</legend>\r\n",
      "          <input title=\"검색어\" class=\"foot_srch_keyword\" accesskey=\"s\" type=\"text\" value=\"\"  id=\"foot_keyword_str\" style=\"font-size:16px;\">\r\n",
      "          <input type=\"button\" alt=\"\" class=\"foot_srch_btn\" onclick=\"foot_sch_smit();\" style=\"cursor: pointer;\">\r\n",
      "        </fieldset>\r\n",
      "\r\n",
      "      \r\n",
      "      <script>\r\n",
      "        // 검색 리스트  \r\n",
      "        $(document).ready(function() {       \r\n",
      "          $('#foot_keyword_str').keyup(function(e) {\r\n",
      "            if (e.keyCode == 13) \r\n",
      "              foot_sch_smit();\r\n",
      "          });        \r\n",
      "        });\r\n",
      "\r\n",
      "        function foot_sch_smit(){            \r\n",
      "          var foot_keyword_str = $(\"#foot_keyword_str\").val();      \r\n",
      "          var searchUrl = \"/search/search_list.html?keyword=\"+foot_keyword_str;\r\n",
      "\r\n",
      "          if(!foot_keyword_str){\r\n",
      "            alert(\"검색어를 입력해주세요\");\r\n",
      "            $(\"#foot_keyword_str\").focus();\r\n",
      "          }else{\r\n",
      "            location.href = searchUrl;\r\n",
      "          }\r\n",
      "        }\r\n",
      "      </script>  \r\n",
      "      \r\n",
      "    </div>\r\n",
      "    <!-- //SNS -->\r\n",
      "    \r\n",
      "    <!-- 한빛 정보 -->\r\n",
      "    <div class=\"foot_about\">\r\n",
      "      <div class=\"foot_about_area\">\r\n",
      "        \r\n",
      "\r\n",
      "        <p><strong>한빛미디어㈜ &#149; 한빛아카데미㈜ &#149; 한빛비즈㈜</strong></p>\r\n",
      "        <p>(03785) 서울 서대문구 연희로2길 62</p>\r\n",
      "        <p>EMAIL : support@hanbit.co.kr</p>\r\n",
      "        <p>대표이사 : 김태헌</p>\r\n",
      "        <p>사업자등록번호 : 220-81-05665 <a href=\"http://www.ftc.go.kr/bizCommPop.do?wrkr_no=2208105665\" target=\"_blank\">[확인]</a></p>\r\n",
      "        <p>통신판매업신고 : 2017-서울서대문-0671호</p>\r\n",
      "        <p>호스팅제공자 : (주)누리호스팅</p>        \r\n",
      "\r\n",
      "      </div>\r\n",
      "    </div>\r\n",
      "    <!-- //한빛 정보 -->\r\n",
      "  </div>\r\n",
      "  \r\n",
      "  <div class=\"copyright\">&copy;1993-2021 Hanbit Publishing Network, Inc. All rights reserved.</div>\r\n",
      "</footer>\r\n",
      "<!-- //푸터 -->\r\n",
      "<div class=\"foot_download_btn\"><a href=\"https://www.hanbit.co.kr/support/supplement_list.html\">자료실</a></div>\r\n",
      "\r\n",
      "<!-- 공통 JS 호출 -->\r\n",
      "<script type=\"text/javascript\" src=\"/js/common.js\"></script>\r\n",
      "<!-- //공통 JS 호출 -->\r\n",
      "\r\n",
      "</body>\r\n",
      "</html>\r\n",
      "\n"
     ]
    }
   ],
   "source": [
    "print(text)"
   ]
  },
  {
   "cell_type": "code",
   "execution_count": 85,
   "id": "742eb808",
   "metadata": {},
   "outputs": [],
   "source": [
    "import re\n",
    "import sys\n",
    "from urllib.request import urlopen"
   ]
  },
  {
   "cell_type": "code",
   "execution_count": 90,
   "id": "a679ee37",
   "metadata": {},
   "outputs": [],
   "source": [
    "f= urlopen('http://hanbit.co.kr/store/books/full_book_list.html')\n",
    "bytes_content=f.read()\n",
    "#bytes자료형을 일단 변수에 저장"
   ]
  },
  {
   "cell_type": "code",
   "execution_count": 91,
   "id": "835d5034",
   "metadata": {},
   "outputs": [],
   "source": [
    "scanned_text=bytes_content[:1024].decode('ascii',errors='replace')\n",
    "#응답본문의 앞 부분 1024바이트까지 ASCII 문자로 디코딩"
   ]
  },
  {
   "cell_type": "code",
   "execution_count": 95,
   "id": "f657e67e",
   "metadata": {},
   "outputs": [
    {
     "name": "stdout",
     "output_type": "stream",
     "text": [
      "<re.Match object; span=(159, 173), match='charset=\"utf-8'>\n"
     ]
    }
   ],
   "source": [
    "match=re.search(r'charset=[\"\\']?([\\w-]+)',scanned_text)\n",
    "#디코딩한 문자열에서 정규표현식으로 charset 값 추출\n",
    "print(match)"
   ]
  },
  {
   "cell_type": "code",
   "execution_count": 94,
   "id": "0a24dd64",
   "metadata": {},
   "outputs": [
    {
     "data": {
      "text/plain": [
       "'utf-8'"
      ]
     },
     "execution_count": 94,
     "metadata": {},
     "output_type": "execute_result"
    }
   ],
   "source": [
    "match.group(1)"
   ]
  },
  {
   "cell_type": "code",
   "execution_count": null,
   "id": "e65ca72f",
   "metadata": {},
   "outputs": [],
   "source": []
  }
 ],
 "metadata": {
  "kernelspec": {
   "display_name": "Python 3",
   "language": "python",
   "name": "python3"
  },
  "language_info": {
   "codemirror_mode": {
    "name": "ipython",
    "version": 3
   },
   "file_extension": ".py",
   "mimetype": "text/x-python",
   "name": "python",
   "nbconvert_exporter": "python",
   "pygments_lexer": "ipython3",
   "version": "3.8.8"
  }
 },
 "nbformat": 4,
 "nbformat_minor": 5
}
